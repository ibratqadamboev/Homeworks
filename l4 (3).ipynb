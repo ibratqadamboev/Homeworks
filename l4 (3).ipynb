{
 "cells": [
  {
   "cell_type": "markdown",
   "id": "470de6af",
   "metadata": {},
   "source": [
    "### This jupyter notebook contains contents of the Lesson 3\n",
    "\n",
    "**Author : Umidjon Sattorov. Machine Learning engineer**"
   ]
  },
  {
   "cell_type": "markdown",
   "id": "16bb653b",
   "metadata": {},
   "source": [
    "Dars plan :\n",
    "\n",
    "1) Shart operatorlari\n",
    "\n",
    "2) List o'zgaruvchi turi"
   ]
  },
  {
   "cell_type": "markdown",
   "id": "4c72484d",
   "metadata": {},
   "source": [
    "**If operator**"
   ]
  },
  {
   "cell_type": "markdown",
   "id": "aac24eee",
   "metadata": {},
   "source": [
    "Условный оператор if в Python используется для выполнения кода только если условие истинно (True).\n",
    "\n",
    "(Python'да if shart operatori shart to'g'ri (True) bo'lganda kodni bajaradi.)"
   ]
  },
  {
   "cell_type": "code",
   "execution_count": null,
   "id": "e2fdb364",
   "metadata": {},
   "outputs": [],
   "source": [
    "if условие:\n",
    "    # код, который выполнится, если условие истинно"
   ]
  },
  {
   "cell_type": "code",
   "execution_count": null,
   "id": "2e283cc7",
   "metadata": {},
   "outputs": [],
   "source": []
  },
  {
   "cell_type": "code",
   "execution_count": 1,
   "id": "f4d10353",
   "metadata": {},
   "outputs": [],
   "source": [
    "# Basic sample for if operator\n",
    "age = 14\n",
    "if age >= 18 :\n",
    "    print(\"Вы можете получить водительские права.\")"
   ]
  },
  {
   "cell_type": "code",
   "execution_count": 3,
   "id": "6ab7ab31",
   "metadata": {},
   "outputs": [],
   "source": [
    "name = input(\"Write your name here : \")\n",
    "if name == \"Alex\" :\n",
    "    print(\"You have access to the system\")"
   ]
  },
  {
   "cell_type": "code",
   "execution_count": 6,
   "id": "12be2af7",
   "metadata": {},
   "outputs": [],
   "source": [
    "# Second sample\n",
    "ielts_score = 7\n",
    "if ielts_score < 5.5:\n",
    "    print(f\"Поскольку ваш балл IELTS составляет {ielts_score}, вы не будете иметь преимущества на государственных экзаменах.\")"
   ]
  },
  {
   "cell_type": "markdown",
   "id": "bd4f156c",
   "metadata": {},
   "source": [
    "if-else operatori"
   ]
  },
  {
   "cell_type": "code",
   "execution_count": 7,
   "id": "c740d5cc",
   "metadata": {},
   "outputs": [
    {
     "name": "stdout",
     "output_type": "stream",
     "text": [
      "Sizning ielts darajangiz 7 va siz imtiyozga ega bo'lasiz\n"
     ]
    }
   ],
   "source": [
    "if ielts_score < 5.5:\n",
    "    print(f\"Поскольку ваш балл IELTS составляет {ielts_score}, вы не будете иметь преимущества на государственных экзаменах.\")\n",
    "else :\n",
    "    print(f\"Sizning ielts darajangiz {ielts_score} va siz imtiyozga ega bo'lasiz\")"
   ]
  },
  {
   "cell_type": "markdown",
   "id": "cb7ccdf4",
   "metadata": {},
   "source": [
    "**Hint for teacher : sample login page**"
   ]
  },
  {
   "cell_type": "markdown",
   "id": "f9a61955",
   "metadata": {},
   "source": [
    "**Quick practical tasks**"
   ]
  },
  {
   "cell_type": "markdown",
   "id": "058356b8",
   "metadata": {},
   "source": [
    "1"
   ]
  },
  {
   "cell_type": "markdown",
   "id": "21179696",
   "metadata": {},
   "source": [
    "    Напишите программу, которая проверяет, положительное ли число.\n",
    "(Sonni ijobiy ekanligini tekshiruvchi dastur tuzing)\n",
    "\n",
    "    Пример ввода(Kiruvchi ma'lumot): num = 5\n",
    "    Ожидаемый вывод(Chiquvchi ma'lumot): Число положительное."
   ]
  },
  {
   "cell_type": "code",
   "execution_count": null,
   "id": "6a33d8e1",
   "metadata": {},
   "outputs": [],
   "source": []
  },
  {
   "cell_type": "markdown",
   "id": "f2c9075a",
   "metadata": {},
   "source": [
    "2"
   ]
  },
  {
   "cell_type": "markdown",
   "id": "ff155c5e",
   "metadata": {},
   "source": [
    "    Задайте переменную temperature. Если температура меньше 0, выведите «На улице холодно».\n",
    "(temperature o'zgaruvchisini yarating. Agar u 0 dan kichik bo'lsa, «Tashqari sovuq» degan xabar chiqaring.)"
   ]
  },
  {
   "cell_type": "code",
   "execution_count": null,
   "id": "046e0616",
   "metadata": {},
   "outputs": [],
   "source": []
  },
  {
   "cell_type": "markdown",
   "id": "b2c1ab13",
   "metadata": {},
   "source": [
    "3"
   ]
  },
  {
   "cell_type": "markdown",
   "id": "711e061b",
   "metadata": {},
   "source": [
    "    Проверьте, чётное ли число. Используйте оператор %.\n",
    "(Sonni juft ekanligini tekshiring)"
   ]
  },
  {
   "cell_type": "code",
   "execution_count": null,
   "id": "3b5f575c",
   "metadata": {},
   "outputs": [],
   "source": []
  },
  {
   "cell_type": "markdown",
   "id": "97d0e08b",
   "metadata": {},
   "source": [
    "**List variables(List o'zgaruvchi turi)**"
   ]
  },
  {
   "cell_type": "markdown",
   "id": "29bc2c64",
   "metadata": {},
   "source": [
    "RU:\n",
    "Список (list) — это изменяемая упорядоченная коллекция элементов.\n",
    "Он может содержать числа, строки, другие списки и даже перемешанные типы.\n",
    "\n",
    "UZ:\n",
    "Ro'yxat (list) — bu tartiblangan va o‘zgartiriladigan elementlar to‘plami.\n",
    "U sonlar, matnlar, boshqa ro‘yxatlar yoki aralash turdagi ma’lumotlarni saqlashi mumkin."
   ]
  },
  {
   "cell_type": "code",
   "execution_count": 29,
   "id": "07af0a3d",
   "metadata": {},
   "outputs": [
    {
     "data": {
      "text/plain": [
       "[5, 4, 3, 9, 1]"
      ]
     },
     "execution_count": 29,
     "metadata": {},
     "output_type": "execute_result"
    }
   ],
   "source": [
    "# Basic syntax of lists\n",
    "my_list = [5, 4, 3, 9, 1]\n",
    "my_list"
   ]
  },
  {
   "cell_type": "code",
   "execution_count": 9,
   "id": "8c7afc18",
   "metadata": {},
   "outputs": [
    {
     "data": {
      "text/plain": [
       "list"
      ]
     },
     "execution_count": 9,
     "metadata": {},
     "output_type": "execute_result"
    }
   ],
   "source": [
    "type(my_list)"
   ]
  },
  {
   "cell_type": "markdown",
   "id": "533bb5d9",
   "metadata": {},
   "source": [
    "**доступ к элементам(Elementlardan foydalanish)**"
   ]
  },
  {
   "cell_type": "markdown",
   "id": "7b44ea64",
   "metadata": {},
   "source": [
    "    На языке программирования Python индексация элементов (в списках) начинается с 0.\n",
    "Python dasturlash tilida elementlarni indekslash(listlarda) 0 dan boshlanadi."
   ]
  },
  {
   "cell_type": "code",
   "execution_count": 7,
   "id": "c6a60a7a",
   "metadata": {},
   "outputs": [
    {
     "data": {
      "text/plain": [
       "5"
      ]
     },
     "execution_count": 7,
     "metadata": {},
     "output_type": "execute_result"
    }
   ],
   "source": [
    "# Using elements of list using indexes\n",
    "my_list[-1]"
   ]
  },
  {
   "cell_type": "code",
   "execution_count": 10,
   "id": "20d8e5cd",
   "metadata": {},
   "outputs": [
    {
     "data": {
      "text/plain": [
       "[1, 2]"
      ]
     },
     "execution_count": 10,
     "metadata": {},
     "output_type": "execute_result"
    }
   ],
   "source": [
    "my_list[0:2]"
   ]
  },
  {
   "cell_type": "code",
   "execution_count": 14,
   "id": "7d6fc9bb",
   "metadata": {},
   "outputs": [
    {
     "data": {
      "text/plain": [
       "[3, 4, 5]"
      ]
     },
     "execution_count": 14,
     "metadata": {},
     "output_type": "execute_result"
    }
   ],
   "source": [
    "my_list[2:]"
   ]
  },
  {
   "cell_type": "code",
   "execution_count": 16,
   "id": "9a05f0de",
   "metadata": {},
   "outputs": [
    {
     "data": {
      "text/plain": [
       "[1, 2, 3, 4]"
      ]
     },
     "execution_count": 16,
     "metadata": {},
     "output_type": "execute_result"
    }
   ],
   "source": [
    "my_list[:4]"
   ]
  },
  {
   "cell_type": "code",
   "execution_count": 25,
   "id": "aa4925d1",
   "metadata": {},
   "outputs": [
    {
     "data": {
      "text/plain": [
       "[1, 4]"
      ]
     },
     "execution_count": 25,
     "metadata": {},
     "output_type": "execute_result"
    }
   ],
   "source": [
    "my_list[::3]"
   ]
  },
  {
   "cell_type": "markdown",
   "id": "a557e779",
   "metadata": {},
   "source": [
    "**изменение элементов(Elementarni o'zgartirish)**"
   ]
  },
  {
   "cell_type": "code",
   "execution_count": null,
   "id": "ed966eae",
   "metadata": {},
   "outputs": [
    {
     "data": {
      "text/plain": [
       "['a', 'p', 'p', 'l', 'e', 4, 5]"
      ]
     },
     "execution_count": 27,
     "metadata": {},
     "output_type": "execute_result"
    }
   ],
   "source": [
    "# Sample for changing elements in lists\n",
    "my_list[0] = \"apple\"\n",
    "my_list"
   ]
  },
  {
   "cell_type": "code",
   "execution_count": 30,
   "id": "cdbb5873",
   "metadata": {},
   "outputs": [],
   "source": [
    "my_list.sort()"
   ]
  },
  {
   "cell_type": "code",
   "execution_count": 31,
   "id": "a1bcb4bd",
   "metadata": {},
   "outputs": [
    {
     "data": {
      "text/plain": [
       "[1, 3, 4, 5, 9]"
      ]
     },
     "execution_count": 31,
     "metadata": {},
     "output_type": "execute_result"
    }
   ],
   "source": [
    "my_list"
   ]
  },
  {
   "cell_type": "code",
   "execution_count": 55,
   "id": "a26d8dbd",
   "metadata": {},
   "outputs": [],
   "source": [
    "my_list = [\"Toshkent\", \"Samarqand\",\"Xorazm\", \"Samarqand\"]"
   ]
  },
  {
   "cell_type": "code",
   "execution_count": 39,
   "id": "10bd013b",
   "metadata": {},
   "outputs": [],
   "source": [
    "my_list.sort()"
   ]
  },
  {
   "cell_type": "code",
   "execution_count": 40,
   "id": "c3aeb11c",
   "metadata": {},
   "outputs": [
    {
     "data": {
      "text/plain": [
       "['Samarqand', 'Toshkent', 'Xorazm']"
      ]
     },
     "execution_count": 40,
     "metadata": {},
     "output_type": "execute_result"
    }
   ],
   "source": [
    "my_list"
   ]
  },
  {
   "cell_type": "code",
   "execution_count": 46,
   "id": "b08d3897",
   "metadata": {},
   "outputs": [],
   "source": [
    "my_list.append(\"Jizzakh\")"
   ]
  },
  {
   "cell_type": "code",
   "execution_count": 56,
   "id": "fa85b5ee",
   "metadata": {},
   "outputs": [
    {
     "data": {
      "text/plain": [
       "['Toshkent', 'Samarqand', 'Xorazm', 'Samarqand']"
      ]
     },
     "execution_count": 56,
     "metadata": {},
     "output_type": "execute_result"
    }
   ],
   "source": [
    "my_list"
   ]
  },
  {
   "cell_type": "code",
   "execution_count": 43,
   "id": "7edac8ca",
   "metadata": {},
   "outputs": [],
   "source": [
    "my_list.clear()"
   ]
  },
  {
   "cell_type": "code",
   "execution_count": 47,
   "id": "118a9e5b",
   "metadata": {},
   "outputs": [
    {
     "data": {
      "text/plain": [
       "'Jizzakh'"
      ]
     },
     "execution_count": 47,
     "metadata": {},
     "output_type": "execute_result"
    }
   ],
   "source": [
    "my_list.pop()"
   ]
  },
  {
   "cell_type": "code",
   "execution_count": 48,
   "id": "a4f934f2",
   "metadata": {},
   "outputs": [
    {
     "data": {
      "text/plain": [
       "['Toshkent', 'Samarqand', 'Xorazm']"
      ]
     },
     "execution_count": 48,
     "metadata": {},
     "output_type": "execute_result"
    }
   ],
   "source": [
    "my_list"
   ]
  },
  {
   "cell_type": "code",
   "execution_count": 57,
   "id": "423001f8",
   "metadata": {},
   "outputs": [],
   "source": [
    "my_list.remove(\"Samarqand\")"
   ]
  },
  {
   "cell_type": "code",
   "execution_count": 58,
   "id": "24bb9634",
   "metadata": {},
   "outputs": [
    {
     "data": {
      "text/plain": [
       "['Toshkent', 'Xorazm', 'Samarqand']"
      ]
     },
     "execution_count": 58,
     "metadata": {},
     "output_type": "execute_result"
    }
   ],
   "source": [
    "my_list"
   ]
  },
  {
   "cell_type": "code",
   "execution_count": 53,
   "id": "eabce787",
   "metadata": {},
   "outputs": [],
   "source": [
    "my_list.insert(0,\"Jizzakh\")"
   ]
  },
  {
   "cell_type": "code",
   "execution_count": 54,
   "id": "b4ff4ae7",
   "metadata": {},
   "outputs": [
    {
     "data": {
      "text/plain": [
       "['Jizzakh', 'Toshkent', 'Samarqand', 'Xorazm']"
      ]
     },
     "execution_count": 54,
     "metadata": {},
     "output_type": "execute_result"
    }
   ],
   "source": [
    "my_list"
   ]
  },
  {
   "cell_type": "code",
   "execution_count": 20,
   "id": "678be592",
   "metadata": {},
   "outputs": [
    {
     "data": {
      "text/plain": [
       "['apple', 'grape', 'cherry']"
      ]
     },
     "execution_count": 20,
     "metadata": {},
     "output_type": "execute_result"
    }
   ],
   "source": [
    "# Second example\n",
    "sample_list = list((\"apple\", \"grape\", \"cherry\"))\n",
    "sample_list"
   ]
  },
  {
   "cell_type": "code",
   "execution_count": 59,
   "id": "f8dcd2b5",
   "metadata": {},
   "outputs": [
    {
     "data": {
      "text/plain": [
       "'Ib'"
      ]
     },
     "execution_count": 59,
     "metadata": {},
     "output_type": "execute_result"
    }
   ],
   "source": [
    "name = \"Ibrat\"\n",
    "name[:2]"
   ]
  },
  {
   "cell_type": "code",
   "execution_count": 60,
   "id": "e6e8b023",
   "metadata": {},
   "outputs": [
    {
     "data": {
      "text/plain": [
       "'IBRAT'"
      ]
     },
     "execution_count": 60,
     "metadata": {},
     "output_type": "execute_result"
    }
   ],
   "source": [
    "name.upper()"
   ]
  },
  {
   "cell_type": "code",
   "execution_count": 61,
   "id": "1848d073",
   "metadata": {},
   "outputs": [
    {
     "data": {
      "text/plain": [
       "'ibrat'"
      ]
     },
     "execution_count": 61,
     "metadata": {},
     "output_type": "execute_result"
    }
   ],
   "source": [
    "name.lower()"
   ]
  },
  {
   "cell_type": "code",
   "execution_count": 64,
   "id": "c06b7cd4",
   "metadata": {},
   "outputs": [
    {
     "name": "stdout",
     "output_type": "stream",
     "text": [
      "1\n"
     ]
    }
   ],
   "source": [
    "x = name.count(\"Ibrat\")\n",
    "print(x)"
   ]
  },
  {
   "cell_type": "code",
   "execution_count": 65,
   "id": "6803aff1",
   "metadata": {},
   "outputs": [
    {
     "data": {
      "text/plain": [
       "'Ibrat'"
      ]
     },
     "execution_count": 65,
     "metadata": {},
     "output_type": "execute_result"
    }
   ],
   "source": [
    "name"
   ]
  },
  {
   "cell_type": "code",
   "execution_count": 66,
   "id": "c7a6a9b0",
   "metadata": {},
   "outputs": [
    {
     "data": {
      "text/plain": [
       "3"
      ]
     },
     "execution_count": 66,
     "metadata": {},
     "output_type": "execute_result"
    }
   ],
   "source": [
    "name.find(\"a\")"
   ]
  },
  {
   "cell_type": "code",
   "execution_count": null,
   "id": "c6ecd7e0",
   "metadata": {},
   "outputs": [],
   "source": []
  },
  {
   "cell_type": "markdown",
   "id": "e3911e33",
   "metadata": {},
   "source": []
  },
  {
   "cell_type": "markdown",
   "id": "2f17392b",
   "metadata": {},
   "source": []
  },
  {
   "cell_type": "markdown",
   "id": "e2a8c08f",
   "metadata": {},
   "source": []
  },
  {
   "cell_type": "markdown",
   "id": "52078826",
   "metadata": {},
   "source": []
  },
  {
   "cell_type": "markdown",
   "id": "08db4273",
   "metadata": {},
   "source": []
  },
  {
   "cell_type": "markdown",
   "id": "08261e7e",
   "metadata": {},
   "source": []
  },
  {
   "cell_type": "markdown",
   "id": "276556be",
   "metadata": {},
   "source": []
  },
  {
   "cell_type": "markdown",
   "id": "9507f165",
   "metadata": {},
   "source": []
  },
  {
   "cell_type": "markdown",
   "id": "0d6b69d3",
   "metadata": {},
   "source": []
  },
  {
   "cell_type": "markdown",
   "id": "e4ee63a2",
   "metadata": {},
   "source": []
  }
 ],
 "metadata": {
  "kernelspec": {
   "display_name": "Python 3",
   "language": "python",
   "name": "python3"
  },
  "language_info": {
   "codemirror_mode": {
    "name": "ipython",
    "version": 3
   },
   "file_extension": ".py",
   "mimetype": "text/x-python",
   "name": "python",
   "nbconvert_exporter": "python",
   "pygments_lexer": "ipython3",
   "version": "3.13.4"
  }
 },
 "nbformat": 4,
 "nbformat_minor": 5
}
