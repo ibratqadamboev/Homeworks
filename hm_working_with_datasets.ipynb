{
 "cells": [
  {
   "cell_type": "markdown",
   "id": "85fb4521",
   "metadata": {},
   "source": [
    "### This jupyter notebook contains homework assignment for the topic \"Loading and editing different types of datasets\"\n",
    "\n",
    "**Author : Umidjon Sattorov. Machine Learning engineer**"
   ]
  },
  {
   "cell_type": "markdown",
   "id": "0c063043",
   "metadata": {},
   "source": [
    "# 1-Topshiriq"
   ]
  },
  {
   "cell_type": "markdown",
   "id": "6d5b1358",
   "metadata": {},
   "source": [
    "1. Quyidagi link orqali UK dagi insonlarning turli yillar oralig'i uchun life-expectancy(Yashash oralig'i) datasetini yuklab oling.\n",
    "\n",
    "https://raw.githubusercontent.com/datasets/london-life-expectancy/refs/heads/main/data/life-expectancy-at-65.csv"
   ]
  },
  {
   "cell_type": "markdown",
   "id": "bce288d4",
   "metadata": {},
   "source": [
    "2) Yuklab olingan faylni life_expectancy.csv fayliga saqlang\n",
    "3) Saqlab olingan faylning boshlang'ich 5 ta qatorini kondolda chiqaring"
   ]
  },
  {
   "cell_type": "code",
   "execution_count": null,
   "id": "6a10e6f9",
   "metadata": {},
   "outputs": [],
   "source": [
    "# Your code goes here\n"
   ]
  },
  {
   "cell_type": "markdown",
   "id": "0cfc3abb",
   "metadata": {},
   "source": [
    "# 2-Topshiriq"
   ]
  },
  {
   "cell_type": "markdown",
   "id": "1f2f07ca",
   "metadata": {},
   "source": [
    "1) Saqlab olingan fayldan ma'lumotni o'qib oling va 65-yoshli insonlar uchun UK da 2001-2004 yillar oralig'idagi life-expectancy yillarini life_expect_2004.csv fayliga saqlab qo'ying.\n",
    "\n",
    "2) Shuningdek London va Wales2 shaharlariga tegishli ma'lumotlarni london_wales_life.xlsx fayliga saqlab qo'ying."
   ]
  },
  {
   "cell_type": "code",
   "execution_count": null,
   "id": "3046d5ad",
   "metadata": {},
   "outputs": [],
   "source": [
    "# Your code goes here\n"
   ]
  },
  {
   "cell_type": "markdown",
   "id": "5f70a025",
   "metadata": {},
   "source": [
    "# 3-Topshiriq"
   ]
  },
  {
   "cell_type": "markdown",
   "id": "8b2f1e6f",
   "metadata": {},
   "source": [
    "1) Har bir yillar oralig'i uchun hisoblangan life_expectancy darajasini life_{yil}.csv fayliga saqlab qo'ying.\n",
    "\n",
    "Bunda 2001-2002 yillar oralig'i ma'lumotlari life_2002.csv fayliga saqlab qo'yilishi kerak."
   ]
  },
  {
   "cell_type": "code",
   "execution_count": null,
   "id": "954031bf",
   "metadata": {},
   "outputs": [],
   "source": [
    "# Your code goes here\n"
   ]
  },
  {
   "cell_type": "markdown",
   "id": "5dfc6722",
   "metadata": {},
   "source": [
    "# 4-Topshiriq"
   ]
  },
  {
   "cell_type": "markdown",
   "id": "a1d56f0f",
   "metadata": {},
   "source": [
    "1) Saqlab qo'yilgan barcha dataframe larni hdf obyekt yaratib, uning ichiga saqlab qo'ying. Bunda har bir dataframe uchun key(kalit) yilning o'zi bo'lsin. Masalan : key = 2002. Saqlangan hdf obyektining fayl nomi life_uk.h5 bo'lishi zarur."
   ]
  },
  {
   "cell_type": "code",
   "execution_count": null,
   "id": "67a1b5a6",
   "metadata": {},
   "outputs": [],
   "source": [
    "# Your code goes here\n"
   ]
  },
  {
   "cell_type": "markdown",
   "id": "5baa21b5",
   "metadata": {},
   "source": [
    "# 5-Topshiriq"
   ]
  },
  {
   "cell_type": "markdown",
   "id": "282d62f6",
   "metadata": {},
   "source": [
    "1) life_uk.h5 faylini o'qib oling va so'ngi 2016-2018 yillardagi ma'lumotni df dataframega yuklang.\n",
    "\n",
    "2) Ushbu yillar oralig'ida UK ning qaysi shahri eng katta life_expectancy darajasiga ega ekan."
   ]
  },
  {
   "cell_type": "code",
   "execution_count": null,
   "id": "69a025fa",
   "metadata": {},
   "outputs": [],
   "source": [
    "# Your code goes here\n"
   ]
  }
 ],
 "metadata": {
  "language_info": {
   "name": "python"
  }
 },
 "nbformat": 4,
 "nbformat_minor": 5
}
