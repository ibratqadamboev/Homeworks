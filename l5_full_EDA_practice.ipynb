{
 "cells": [
  {
   "cell_type": "markdown",
   "id": "8dc8ff1c",
   "metadata": {},
   "source": [
    "### This jupyter notebook contains practical tasks for l1 lesson \"EDA - Data Cleaning\"\n",
    "\n",
    "**Author : Umidjon Sattorov. Machine Learning engineer**"
   ]
  },
  {
   "cell_type": "code",
   "execution_count": 2,
   "id": "5a155393",
   "metadata": {},
   "outputs": [
    {
     "name": "stdout",
     "output_type": "stream",
     "text": [
      "2.3.1\n"
     ]
    }
   ],
   "source": [
    "# Import the numpy package under the name np\n",
    "import numpy as np\n",
    "\n",
    "# Import the pandas package under the name pd\n",
    "import pandas as pd\n",
    "\n",
    "# Print the pandas version and the configuration\n",
    "print(pd.__version__)"
   ]
  },
  {
   "cell_type": "markdown",
   "id": "a0cdef5c",
   "metadata": {},
   "source": [
    "![purple-divider](https://user-images.githubusercontent.com/7065401/52071927-c1cd7100-2562-11e9-908a-dde91ba14e59.png)"
   ]
  },
  {
   "cell_type": "markdown",
   "id": "386fc79d",
   "metadata": {},
   "source": [
    "## Series consolidation(Series takrorlash)"
   ]
  },
  {
   "cell_type": "markdown",
   "id": "85d4db8a",
   "metadata": {},
   "source": [
    "1. Создать пустую серию pandas"
   ]
  },
  {
   "cell_type": "code",
   "execution_count": 3,
   "id": "f164d4fd",
   "metadata": {},
   "outputs": [],
   "source": [
    "# your code goes here\n",
    "ser = pd.Series([])"
   ]
  },
  {
   "cell_type": "code",
   "execution_count": 4,
   "id": "51525f7b",
   "metadata": {},
   "outputs": [
    {
     "data": {
      "text/plain": [
       "Series([], dtype: object)"
      ]
     },
     "execution_count": 4,
     "metadata": {},
     "output_type": "execute_result"
    }
   ],
   "source": [
    "ser"
   ]
  },
  {
   "cell_type": "markdown",
   "id": "2466ad4a",
   "metadata": {},
   "source": [
    "![green-divider](https://user-images.githubusercontent.com/7065401/52071924-c003ad80-2562-11e9-8297-1c6595f8a7ff.png)\n",
    "\n",
    "2. Данный список X python преобразует его в series Y pandas"
   ]
  },
  {
   "cell_type": "code",
   "execution_count": 5,
   "id": "09489000",
   "metadata": {},
   "outputs": [],
   "source": [
    "# Your code goes here\n",
    "X = [1, 2, 3, 4, 5, 6, 7]\n",
    "Y = pd.Series([X])"
   ]
  },
  {
   "cell_type": "markdown",
   "id": "6b5c1e44",
   "metadata": {},
   "source": [
    "![green-divider](https://user-images.githubusercontent.com/7065401/52071924-c003ad80-2562-11e9-8297-1c6595f8a7ff.png)\n",
    "\n",
    "3. Учитывая серию X pandas, назовите ее «My letters»"
   ]
  },
  {
   "cell_type": "code",
   "execution_count": 6,
   "id": "fde943e5",
   "metadata": {},
   "outputs": [],
   "source": [
    "# Your code goes here\n",
    "X = pd.Series(X, name = \"My letters\")"
   ]
  },
  {
   "cell_type": "markdown",
   "id": "e74ce4cd",
   "metadata": {},
   "source": [
    "![green-divider](https://user-images.githubusercontent.com/7065401/52071924-c003ad80-2562-11e9-8297-1c6595f8a7ff.png)\n",
    "\n",
    "4. Для серии X pandas покажите ее значения"
   ]
  },
  {
   "cell_type": "code",
   "execution_count": 7,
   "id": "3bd791c6",
   "metadata": {},
   "outputs": [
    {
     "data": {
      "text/plain": [
       "0    1\n",
       "1    2\n",
       "2    3\n",
       "3    4\n",
       "4    5\n",
       "5    6\n",
       "6    7\n",
       "Name: My letters, dtype: int64"
      ]
     },
     "execution_count": 7,
     "metadata": {},
     "output_type": "execute_result"
    }
   ],
   "source": [
    "# Your code goes here\n",
    "X"
   ]
  },
  {
   "cell_type": "markdown",
   "id": "3edb6292",
   "metadata": {},
   "source": [
    "![green-divider](https://user-images.githubusercontent.com/7065401/52071924-c003ad80-2562-11e9-8297-1c6595f8a7ff.png)\n",
    "\n",
    "5. Назначить имена индексов для заданной серии X pandas"
   ]
  },
  {
   "cell_type": "code",
   "execution_count": 8,
   "id": "81909801",
   "metadata": {},
   "outputs": [],
   "source": [
    "# Your code goes here\n",
    "X.index = [1, 2, 3, 4, 5, 6, 7]"
   ]
  },
  {
   "cell_type": "markdown",
   "id": "14d37b4e",
   "metadata": {},
   "source": [
    "![green-divider](https://user-images.githubusercontent.com/7065401/52071924-c003ad80-2562-11e9-8297-1c6595f8a7ff.png)\n",
    "\n",
    "6. Для серии X pandas покажите ее первый элемент"
   ]
  },
  {
   "cell_type": "code",
   "execution_count": 9,
   "id": "41bf85ed",
   "metadata": {},
   "outputs": [
    {
     "data": {
      "text/plain": [
       "1    1\n",
       "Name: My letters, dtype: int64"
      ]
     },
     "execution_count": 9,
     "metadata": {},
     "output_type": "execute_result"
    }
   ],
   "source": [
    "# Your code goes here\n",
    "X.head(1)"
   ]
  },
  {
   "cell_type": "markdown",
   "id": "a5225a98",
   "metadata": {},
   "source": [
    "![green-divider](https://user-images.githubusercontent.com/7065401/52071924-c003ad80-2562-11e9-8297-1c6595f8a7ff.png)\n",
    "\n",
    "7. Для серии X pandas покажите ее последний элемент"
   ]
  },
  {
   "cell_type": "code",
   "execution_count": 10,
   "id": "bd83603e",
   "metadata": {},
   "outputs": [
    {
     "data": {
      "text/plain": [
       "third    C\n",
       "dtype: object"
      ]
     },
     "execution_count": 10,
     "metadata": {},
     "output_type": "execute_result"
    }
   ],
   "source": [
    "X = pd.Series(['A','B','C'], index=['first', 'second', 'third'])\n",
    "\n",
    "# Your code goes here\n",
    "X.tail(1)"
   ]
  },
  {
   "cell_type": "markdown",
   "id": "0f63d266",
   "metadata": {},
   "source": [
    "![green-divider](https://user-images.githubusercontent.com/7065401/52071924-c003ad80-2562-11e9-8297-1c6595f8a7ff.png)\n",
    "\n",
    "8. Для серии X pandas показать все средние элементы"
   ]
  },
  {
   "cell_type": "code",
   "execution_count": 11,
   "id": "81d9bd60",
   "metadata": {},
   "outputs": [
    {
     "data": {
      "text/plain": [
       "'C'"
      ]
     },
     "execution_count": 11,
     "metadata": {},
     "output_type": "execute_result"
    }
   ],
   "source": [
    "X = pd.Series(['A','B','C','D','E'],\n",
    "              index=['first','second','third','forth','fifth'])\n",
    "\n",
    "# Your code goes here\n",
    "X.iloc[2]"
   ]
  },
  {
   "cell_type": "markdown",
   "id": "9515fe57",
   "metadata": {},
   "source": [
    "![green-divider](https://user-images.githubusercontent.com/7065401/52071924-c003ad80-2562-11e9-8297-1c6595f8a7ff.png)\n",
    "\n",
    "9. Для серии X pandas покажите элементы в обратном положении"
   ]
  },
  {
   "cell_type": "code",
   "execution_count": 12,
   "id": "4a5c03d4",
   "metadata": {},
   "outputs": [
    {
     "data": {
      "text/plain": [
       "fifth     E\n",
       "forth     D\n",
       "third     C\n",
       "second    B\n",
       "first     A\n",
       "dtype: object"
      ]
     },
     "execution_count": 12,
     "metadata": {},
     "output_type": "execute_result"
    }
   ],
   "source": [
    "X = pd.Series(['A','B','C','D','E'],\n",
    "              index=['first','second','third','forth','fifth'])\n",
    "\n",
    "# Your code goes here\n",
    "X.loc[::-1]"
   ]
  },
  {
   "cell_type": "markdown",
   "id": "27336d8c",
   "metadata": {},
   "source": [
    "![green-divider](https://user-images.githubusercontent.com/7065401/52071924-c003ad80-2562-11e9-8297-1c6595f8a7ff.png)\n",
    "\n",
    "10. Для серии X pandas покажите первый и последний элементы"
   ]
  },
  {
   "cell_type": "code",
   "execution_count": 13,
   "id": "25c94e70",
   "metadata": {},
   "outputs": [
    {
     "data": {
      "text/plain": [
       "(first    A\n",
       " dtype: object,\n",
       " fifth    E\n",
       " dtype: object)"
      ]
     },
     "execution_count": 13,
     "metadata": {},
     "output_type": "execute_result"
    }
   ],
   "source": [
    "X = pd.Series(['A','B','C','D','E'],\n",
    "              index=['first','second','third','forth','fifth'])\n",
    "\n",
    "# Your code goes here\n",
    "first_last = X.head(1), X.tail(1) \n",
    "first_last"
   ]
  },
  {
   "cell_type": "markdown",
   "id": "6aff0cbb",
   "metadata": {},
   "source": [
    "___"
   ]
  },
  {
   "cell_type": "markdown",
   "id": "841a3a75",
   "metadata": {},
   "source": [
    "## EDA - Data Cleaning"
   ]
  },
  {
   "cell_type": "markdown",
   "id": "27de6cb0",
   "metadata": {},
   "source": [
    "## Описание датасета:\n",
    "- `id`: идентификатор записи;\n",
    "- `url`: URL записи о продаже;\n",
    "- `region`: регион;\n",
    "- `region_url`: URL региона;\n",
    "- `price`: стоимость;\n",
    "- `year`: год выпуска;\n",
    "- `manufacturer`: производитель;\n",
    "- `model`: модель;\n",
    "- `condition`: состояние;\n",
    "- `cylinders`: количество цилиндров;\n",
    "- `fuel`: тип топлива;\n",
    "- `odometer`: количество пройденных миль;\n",
    "- `title_status`: статус;\n",
    "- `transmission`: коробка передач;\n",
    "- `VIN`: идентификационный номер;\n",
    "- `drive`: тип привода;\n",
    "- `size`: размер;\n",
    "- `type`: кузов;\n",
    "- `paint_color`: цвет;\n",
    "- `image_url`: URL изображения;\n",
    "- `description`: указанное описание;\n",
    "- `county`: страна;\n",
    "- `state`: штат;\n",
    "- `lat`: широта;\n",
    "- `long`: долгота;\n",
    "- `posting_date`: дата размещения объявления о продаже;\n",
    "- `price_category`: категория цены.\n"
   ]
  },
  {
   "cell_type": "code",
   "execution_count": 14,
   "id": "b2ccc235",
   "metadata": {},
   "outputs": [],
   "source": [
    "# Import necessary libraries\n",
    "df = pd.read_csv(\"df_clean.csv\")"
   ]
  },
  {
   "cell_type": "markdown",
   "id": "0fb07784",
   "metadata": {},
   "source": [
    "### Задача 1. Загрузка датасета и ознакомление с количеством пропущенных значений\n",
    "\n",
    "1. Загрузите датасет из `df_clean.csv` и выведите первые пять записей."
   ]
  },
  {
   "cell_type": "markdown",
   "id": "7448e9e5",
   "metadata": {},
   "source": [
    "Topshiriq 1. Ma’lumotlar to‘plamini yuklash va yetishmayotgan qiymatlar sonini tahlil qilish\n",
    "1. df_clean.csv faylidan ma’lumotlar to‘plamini yuklang va dastlabki beshta yozuvni ekranga chiqaring.\n",
    "\n"
   ]
  },
  {
   "cell_type": "code",
   "execution_count": 15,
   "id": "0a1c8fa4",
   "metadata": {},
   "outputs": [
    {
     "data": {
      "text/html": [
       "<div>\n",
       "<style scoped>\n",
       "    .dataframe tbody tr th:only-of-type {\n",
       "        vertical-align: middle;\n",
       "    }\n",
       "\n",
       "    .dataframe tbody tr th {\n",
       "        vertical-align: top;\n",
       "    }\n",
       "\n",
       "    .dataframe thead th {\n",
       "        text-align: right;\n",
       "    }\n",
       "</style>\n",
       "<table border=\"1\" class=\"dataframe\">\n",
       "  <thead>\n",
       "    <tr style=\"text-align: right;\">\n",
       "      <th></th>\n",
       "      <th>id</th>\n",
       "      <th>url</th>\n",
       "      <th>region</th>\n",
       "      <th>region_url</th>\n",
       "      <th>price</th>\n",
       "      <th>year</th>\n",
       "      <th>manufacturer</th>\n",
       "      <th>model</th>\n",
       "      <th>fuel</th>\n",
       "      <th>odometer</th>\n",
       "      <th>title_status</th>\n",
       "      <th>transmission</th>\n",
       "      <th>image_url</th>\n",
       "      <th>description</th>\n",
       "      <th>state</th>\n",
       "      <th>lat</th>\n",
       "      <th>long</th>\n",
       "      <th>posting_date</th>\n",
       "      <th>price_category</th>\n",
       "    </tr>\n",
       "  </thead>\n",
       "  <tbody>\n",
       "    <tr>\n",
       "      <th>0</th>\n",
       "      <td>7308295377</td>\n",
       "      <td>https://chattanooga.craigslist.org/ctd/d/chatt...</td>\n",
       "      <td>chattanooga</td>\n",
       "      <td>https://chattanooga.craigslist.org</td>\n",
       "      <td>54990</td>\n",
       "      <td>2020.0</td>\n",
       "      <td>ram</td>\n",
       "      <td>2500 crew cab big horn</td>\n",
       "      <td>diesel</td>\n",
       "      <td>27442.0</td>\n",
       "      <td>clean</td>\n",
       "      <td>other</td>\n",
       "      <td>https://images.craigslist.org/00N0N_1xMPvfxRAI...</td>\n",
       "      <td>Carvana is the safer way to buy a car During t...</td>\n",
       "      <td>tn</td>\n",
       "      <td>35.060000</td>\n",
       "      <td>-85.250000</td>\n",
       "      <td>2021-04-17T12:30:50-0400</td>\n",
       "      <td>high</td>\n",
       "    </tr>\n",
       "    <tr>\n",
       "      <th>1</th>\n",
       "      <td>7316380095</td>\n",
       "      <td>https://newjersey.craigslist.org/ctd/d/carlsta...</td>\n",
       "      <td>north jersey</td>\n",
       "      <td>https://newjersey.craigslist.org</td>\n",
       "      <td>16942</td>\n",
       "      <td>2016.0</td>\n",
       "      <td>ford</td>\n",
       "      <td>explorer 4wd 4dr xlt</td>\n",
       "      <td>NaN</td>\n",
       "      <td>60023.0</td>\n",
       "      <td>clean</td>\n",
       "      <td>automatic</td>\n",
       "      <td>https://images.craigslist.org/00x0x_26jl9F0cnL...</td>\n",
       "      <td>***Call Us for more information at: 201-635-14...</td>\n",
       "      <td>nj</td>\n",
       "      <td>40.821805</td>\n",
       "      <td>-74.061962</td>\n",
       "      <td>2021-05-03T15:40:21-0400</td>\n",
       "      <td>medium</td>\n",
       "    </tr>\n",
       "    <tr>\n",
       "      <th>2</th>\n",
       "      <td>7313733749</td>\n",
       "      <td>https://reno.craigslist.org/ctd/d/atlanta-2017...</td>\n",
       "      <td>reno / tahoe</td>\n",
       "      <td>https://reno.craigslist.org</td>\n",
       "      <td>35590</td>\n",
       "      <td>2017.0</td>\n",
       "      <td>volkswagen</td>\n",
       "      <td>golf r hatchback</td>\n",
       "      <td>gas</td>\n",
       "      <td>14048.0</td>\n",
       "      <td>clean</td>\n",
       "      <td>other</td>\n",
       "      <td>https://images.craigslist.org/00y0y_eeZjWeiSfb...</td>\n",
       "      <td>Carvana is the safer way to buy a car During t...</td>\n",
       "      <td>ca</td>\n",
       "      <td>33.779214</td>\n",
       "      <td>-84.411811</td>\n",
       "      <td>2021-04-28T03:52:20-0700</td>\n",
       "      <td>high</td>\n",
       "    </tr>\n",
       "    <tr>\n",
       "      <th>3</th>\n",
       "      <td>7308210929</td>\n",
       "      <td>https://fayetteville.craigslist.org/ctd/d/rale...</td>\n",
       "      <td>fayetteville</td>\n",
       "      <td>https://fayetteville.craigslist.org</td>\n",
       "      <td>14500</td>\n",
       "      <td>2013.0</td>\n",
       "      <td>toyota</td>\n",
       "      <td>rav4</td>\n",
       "      <td>gas</td>\n",
       "      <td>117291.0</td>\n",
       "      <td>clean</td>\n",
       "      <td>automatic</td>\n",
       "      <td>https://images.craigslist.org/00606_iGe5iXidib...</td>\n",
       "      <td>2013 Toyota RAV4 XLE 4dr SUV     Offered by: R...</td>\n",
       "      <td>nc</td>\n",
       "      <td>35.715954</td>\n",
       "      <td>-78.655304</td>\n",
       "      <td>2021-04-17T10:08:57-0400</td>\n",
       "      <td>medium</td>\n",
       "    </tr>\n",
       "    <tr>\n",
       "      <th>4</th>\n",
       "      <td>7316474668</td>\n",
       "      <td>https://newyork.craigslist.org/lgi/cto/d/baldw...</td>\n",
       "      <td>new york city</td>\n",
       "      <td>https://newyork.craigslist.org</td>\n",
       "      <td>21800</td>\n",
       "      <td>2021.0</td>\n",
       "      <td>nissan</td>\n",
       "      <td>altima</td>\n",
       "      <td>gas</td>\n",
       "      <td>8000.0</td>\n",
       "      <td>clean</td>\n",
       "      <td>automatic</td>\n",
       "      <td>https://images.craigslist.org/00V0V_3pSOiPZ3Sd...</td>\n",
       "      <td>2021 Nissan Altima Sv with Only 8 K Miles Titl...</td>\n",
       "      <td>ny</td>\n",
       "      <td>40.654800</td>\n",
       "      <td>-73.609700</td>\n",
       "      <td>2021-05-03T18:32:06-0400</td>\n",
       "      <td>medium</td>\n",
       "    </tr>\n",
       "  </tbody>\n",
       "</table>\n",
       "</div>"
      ],
      "text/plain": [
       "           id                                                url  \\\n",
       "0  7308295377  https://chattanooga.craigslist.org/ctd/d/chatt...   \n",
       "1  7316380095  https://newjersey.craigslist.org/ctd/d/carlsta...   \n",
       "2  7313733749  https://reno.craigslist.org/ctd/d/atlanta-2017...   \n",
       "3  7308210929  https://fayetteville.craigslist.org/ctd/d/rale...   \n",
       "4  7316474668  https://newyork.craigslist.org/lgi/cto/d/baldw...   \n",
       "\n",
       "          region                           region_url  price    year  \\\n",
       "0    chattanooga   https://chattanooga.craigslist.org  54990  2020.0   \n",
       "1   north jersey     https://newjersey.craigslist.org  16942  2016.0   \n",
       "2   reno / tahoe          https://reno.craigslist.org  35590  2017.0   \n",
       "3   fayetteville  https://fayetteville.craigslist.org  14500  2013.0   \n",
       "4  new york city       https://newyork.craigslist.org  21800  2021.0   \n",
       "\n",
       "  manufacturer                   model    fuel  odometer title_status  \\\n",
       "0          ram  2500 crew cab big horn  diesel   27442.0        clean   \n",
       "1         ford    explorer 4wd 4dr xlt     NaN   60023.0        clean   \n",
       "2   volkswagen        golf r hatchback     gas   14048.0        clean   \n",
       "3       toyota                    rav4     gas  117291.0        clean   \n",
       "4       nissan                  altima     gas    8000.0        clean   \n",
       "\n",
       "  transmission                                          image_url  \\\n",
       "0        other  https://images.craigslist.org/00N0N_1xMPvfxRAI...   \n",
       "1    automatic  https://images.craigslist.org/00x0x_26jl9F0cnL...   \n",
       "2        other  https://images.craigslist.org/00y0y_eeZjWeiSfb...   \n",
       "3    automatic  https://images.craigslist.org/00606_iGe5iXidib...   \n",
       "4    automatic  https://images.craigslist.org/00V0V_3pSOiPZ3Sd...   \n",
       "\n",
       "                                         description state        lat  \\\n",
       "0  Carvana is the safer way to buy a car During t...    tn  35.060000   \n",
       "1  ***Call Us for more information at: 201-635-14...    nj  40.821805   \n",
       "2  Carvana is the safer way to buy a car During t...    ca  33.779214   \n",
       "3  2013 Toyota RAV4 XLE 4dr SUV     Offered by: R...    nc  35.715954   \n",
       "4  2021 Nissan Altima Sv with Only 8 K Miles Titl...    ny  40.654800   \n",
       "\n",
       "        long              posting_date price_category  \n",
       "0 -85.250000  2021-04-17T12:30:50-0400           high  \n",
       "1 -74.061962  2021-05-03T15:40:21-0400         medium  \n",
       "2 -84.411811  2021-04-28T03:52:20-0700           high  \n",
       "3 -78.655304  2021-04-17T10:08:57-0400         medium  \n",
       "4 -73.609700  2021-05-03T18:32:06-0400         medium  "
      ]
     },
     "execution_count": 15,
     "metadata": {},
     "output_type": "execute_result"
    }
   ],
   "source": [
    "# Your code goes here\n",
    "df.head()"
   ]
  },
  {
   "cell_type": "markdown",
   "id": "d7475662",
   "metadata": {},
   "source": [
    "2. Выведите количество полностью заполненных объектов и их процент из всей выборки.\n"
   ]
  },
  {
   "cell_type": "markdown",
   "id": "8137310c",
   "metadata": {},
   "source": [
    "2. Butunlay toʻldirilgan qatorlar sonini va ularning umumiy ma’lumotlar toʻplamidagi foizini hisoblang va ekranga chiqaring."
   ]
  },
  {
   "cell_type": "code",
   "execution_count": 16,
   "id": "0f1cf1d2",
   "metadata": {},
   "outputs": [
    {
     "name": "stdout",
     "output_type": "stream",
     "text": [
      "The number of useful features : 9507\n",
      "In percent : 95.07\n"
     ]
    }
   ],
   "source": [
    "# Your code goes here\n",
    "def print_useful_rows(df) :\n",
    "    print(f\"The number of useful features : {len(df.dropna())}\")\n",
    "    print(f\"In percent : {round(len(df.dropna()) / len(df) * 100, 2)}\")\n",
    "\n",
    "print_useful_rows(df = df)"
   ]
  },
  {
   "cell_type": "markdown",
   "id": "ee07d2bb",
   "metadata": {},
   "source": [
    "3. Сохраните в переменную и выведите процент пропущенных значений для каждого признака, отсортируйте признаки по убыванию процента пропущенных значений.\n"
   ]
  },
  {
   "cell_type": "markdown",
   "id": "df47c537",
   "metadata": {},
   "source": [
    "3. Har bir ustun (feature) uchun yetishmayotgan qiymatlar foizini hisoblang, natijani o‘zgaruvchiga saqlang va ekranga chiqaring. Ustunlarni kamayish tartibida (eng ko‘p yetishmayotgan qiymatlar bo‘yicha) saralang."
   ]
  },
  {
   "cell_type": "code",
   "execution_count": 17,
   "id": "ed5e57d0",
   "metadata": {},
   "outputs": [
    {
     "data": {
      "text/plain": [
       "title_status      1.66\n",
       "model             1.28\n",
       "long              0.98\n",
       "lat               0.98\n",
       "fuel              0.63\n",
       "transmission      0.45\n",
       "year              0.36\n",
       "image_url         0.02\n",
       "posting_date      0.02\n",
       "description       0.02\n",
       "id                0.00\n",
       "state             0.00\n",
       "odometer          0.00\n",
       "url               0.00\n",
       "manufacturer      0.00\n",
       "price             0.00\n",
       "region_url        0.00\n",
       "region            0.00\n",
       "price_category    0.00\n",
       "dtype: float64"
      ]
     },
     "execution_count": 17,
     "metadata": {},
     "output_type": "execute_result"
    }
   ],
   "source": [
    "# Your code goes here\n",
    "nan_values = (df.isna().sum() / len(df) * 100).sort_values(ascending = False)\n",
    "nan_values"
   ]
  },
  {
   "cell_type": "markdown",
   "id": "1cf016d2",
   "metadata": {},
   "source": [
    "4. Выведите список всех признаков, в которых имеются пропущенные значения. Воспользуйтесь результатом вывода предыдущего шага, чтобы отсортировать признаки, подходящие под условие."
   ]
  },
  {
   "cell_type": "markdown",
   "id": "934373eb",
   "metadata": {},
   "source": [
    "4. Yetishmayotgan qiymatlar mavjud bo'lgan barcha ustunlarni ro'yxatini chiqaring. Oldingi qadam natijasidan foydalanib, ularni mos keladigan shart bo'yicha saralang."
   ]
  },
  {
   "cell_type": "code",
   "execution_count": 18,
   "id": "1b3b3ff1",
   "metadata": {},
   "outputs": [
    {
     "data": {
      "text/plain": [
       "price_category    0.00\n",
       "region_url        0.00\n",
       "price             0.00\n",
       "manufacturer      0.00\n",
       "url               0.00\n",
       "odometer          0.00\n",
       "state             0.00\n",
       "id                0.00\n",
       "region            0.00\n",
       "description       0.02\n",
       "image_url         0.02\n",
       "posting_date      0.02\n",
       "year              0.36\n",
       "transmission      0.45\n",
       "fuel              0.63\n",
       "lat               0.98\n",
       "long              0.98\n",
       "model             1.28\n",
       "title_status      1.66\n",
       "dtype: float64"
      ]
     },
     "execution_count": 18,
     "metadata": {},
     "output_type": "execute_result"
    }
   ],
   "source": [
    "# Your code goes here\n",
    "nan_values.sort_values()"
   ]
  },
  {
   "cell_type": "markdown",
   "id": "5f9c3e2b",
   "metadata": {},
   "source": [
    "### Задача 2. Обработка пропусков в дате размещения объявления о продаже\n",
    "1. Выведите количество значений для даты размещения объявления о продаже, включая пропущенные значения. Обратите внимание на количество пропущенных значений.\n",
    "\n"
   ]
  },
  {
   "cell_type": "markdown",
   "id": "f769f4c6",
   "metadata": {},
   "source": [
    "Topshiriq 2. E'lon joylashtirish sanasidagi yetishmayotgan qiymatlarni ishlash\n",
    "1. E'lon joylashtirish sanasi ustunidagi qiymatlar sonini (yetishmayotgan qiymatlar bilan birga) chiqaring. Yetishmayotgan qiymatlar soniga alohida e'tibor bering."
   ]
  },
  {
   "cell_type": "code",
   "execution_count": 19,
   "id": "8a9d9215",
   "metadata": {},
   "outputs": [
    {
     "data": {
      "text/plain": [
       "price_category\n",
       "high      3495\n",
       "medium    3280\n",
       "low       3225\n",
       "Name: count, dtype: int64"
      ]
     },
     "execution_count": 19,
     "metadata": {},
     "output_type": "execute_result"
    }
   ],
   "source": [
    "df['price_category'].value_counts()"
   ]
  },
  {
   "cell_type": "code",
   "execution_count": 20,
   "id": "7aae260e",
   "metadata": {},
   "outputs": [
    {
     "data": {
      "text/plain": [
       "posting_date\n",
       "2021-04-19T10:00:54-0400    2\n",
       "2021-04-13T09:11:02-0500    2\n",
       "2021-04-11T11:11:05-0400    2\n",
       "2021-04-08T10:06:02-0500    2\n",
       "2021-04-29T21:11:29-0400    2\n",
       "                           ..\n",
       "2021-04-05T18:13:07-0400    1\n",
       "2021-04-26T13:32:07-0400    1\n",
       "2021-05-04T14:01:18-0400    1\n",
       "2021-04-24T11:40:55-0700    1\n",
       "2021-04-24T13:50:49-0400    1\n",
       "Name: count, Length: 9958, dtype: int64"
      ]
     },
     "execution_count": 20,
     "metadata": {},
     "output_type": "execute_result"
    }
   ],
   "source": [
    "# Your code goes here\n",
    "df['posting_date'].value_counts(dropna = False)"
   ]
  },
  {
   "cell_type": "markdown",
   "id": "e70a7592",
   "metadata": {},
   "source": [
    "2. Выведите описательные статистики даты размещения объявления о продаже. Обратите внимание, что на месте самой популярной даты может стоять любое из значений, которое встречается два раза.\n"
   ]
  },
  {
   "cell_type": "markdown",
   "id": "b3fa277b",
   "metadata": {},
   "source": [
    "2. E'lon joylashtirish sanasi ustuni bo'yicha asosiy statistik ma'lumotlarni chiqaring. Diqqat qiling: eng ko'p takrorlangan sana sifatida har qanday 2 marta uchragan qiymat ko'rsatilishi mumkin."
   ]
  },
  {
   "cell_type": "code",
   "execution_count": 21,
   "id": "b3d94eb5",
   "metadata": {},
   "outputs": [
    {
     "data": {
      "text/plain": [
       "count                         9998\n",
       "unique                        9957\n",
       "top       2021-04-19T10:00:54-0400\n",
       "freq                             2\n",
       "Name: posting_date, dtype: object"
      ]
     },
     "execution_count": 21,
     "metadata": {},
     "output_type": "execute_result"
    }
   ],
   "source": [
    "# Your code goes here\n",
    "df['posting_date'].describe()"
   ]
  },
  {
   "cell_type": "markdown",
   "id": "aa26ab6e",
   "metadata": {},
   "source": [
    "3. Выведите записи, в которых дата размещения объявления о продаже не заполнена. Посмотрите на данные и подумайте, какую стратегию обработки значений можно применить.\n"
   ]
  },
  {
   "cell_type": "markdown",
   "id": "cb50949d",
   "metadata": {},
   "source": [
    "3. E'lon joylashtirish sanasi kiritilmagan (yetishmayotgan) barcha yozuvlarni ekranga chiqaring. Ma'lumotlarni tahlil qilib, qanday ishlov berish strategiyasini qo'llash mumkinligini aniqlang."
   ]
  },
  {
   "cell_type": "code",
   "execution_count": 22,
   "id": "6f032e87",
   "metadata": {},
   "outputs": [
    {
     "data": {
      "text/html": [
       "<div>\n",
       "<style scoped>\n",
       "    .dataframe tbody tr th:only-of-type {\n",
       "        vertical-align: middle;\n",
       "    }\n",
       "\n",
       "    .dataframe tbody tr th {\n",
       "        vertical-align: top;\n",
       "    }\n",
       "\n",
       "    .dataframe thead th {\n",
       "        text-align: right;\n",
       "    }\n",
       "</style>\n",
       "<table border=\"1\" class=\"dataframe\">\n",
       "  <thead>\n",
       "    <tr style=\"text-align: right;\">\n",
       "      <th></th>\n",
       "      <th>id</th>\n",
       "      <th>url</th>\n",
       "      <th>region</th>\n",
       "      <th>region_url</th>\n",
       "      <th>price</th>\n",
       "      <th>year</th>\n",
       "      <th>manufacturer</th>\n",
       "      <th>model</th>\n",
       "      <th>fuel</th>\n",
       "      <th>odometer</th>\n",
       "      <th>title_status</th>\n",
       "      <th>transmission</th>\n",
       "      <th>image_url</th>\n",
       "      <th>description</th>\n",
       "      <th>state</th>\n",
       "      <th>lat</th>\n",
       "      <th>long</th>\n",
       "      <th>posting_date</th>\n",
       "      <th>price_category</th>\n",
       "    </tr>\n",
       "  </thead>\n",
       "  <tbody>\n",
       "    <tr>\n",
       "      <th>6728</th>\n",
       "      <td>7315259025</td>\n",
       "      <td>https://nh.craigslist.org/cto/d/manchester-201...</td>\n",
       "      <td>new hampshire</td>\n",
       "      <td>https://nh.craigslist.org</td>\n",
       "      <td>3750</td>\n",
       "      <td>NaN</td>\n",
       "      <td>other</td>\n",
       "      <td>NaN</td>\n",
       "      <td>NaN</td>\n",
       "      <td>95674.0</td>\n",
       "      <td>NaN</td>\n",
       "      <td>NaN</td>\n",
       "      <td>NaN</td>\n",
       "      <td>NaN</td>\n",
       "      <td>nh</td>\n",
       "      <td>NaN</td>\n",
       "      <td>NaN</td>\n",
       "      <td>NaN</td>\n",
       "      <td>low</td>\n",
       "    </tr>\n",
       "    <tr>\n",
       "      <th>9388</th>\n",
       "      <td>7208549803</td>\n",
       "      <td>https://bellingham.craigslist.org/ctd/d/bellin...</td>\n",
       "      <td>bellingham</td>\n",
       "      <td>https://bellingham.craigslist.org</td>\n",
       "      <td>11999</td>\n",
       "      <td>NaN</td>\n",
       "      <td>other</td>\n",
       "      <td>NaN</td>\n",
       "      <td>NaN</td>\n",
       "      <td>95674.0</td>\n",
       "      <td>NaN</td>\n",
       "      <td>NaN</td>\n",
       "      <td>NaN</td>\n",
       "      <td>NaN</td>\n",
       "      <td>wa</td>\n",
       "      <td>NaN</td>\n",
       "      <td>NaN</td>\n",
       "      <td>NaN</td>\n",
       "      <td>medium</td>\n",
       "    </tr>\n",
       "  </tbody>\n",
       "</table>\n",
       "</div>"
      ],
      "text/plain": [
       "              id                                                url  \\\n",
       "6728  7315259025  https://nh.craigslist.org/cto/d/manchester-201...   \n",
       "9388  7208549803  https://bellingham.craigslist.org/ctd/d/bellin...   \n",
       "\n",
       "             region                         region_url  price  year  \\\n",
       "6728  new hampshire          https://nh.craigslist.org   3750   NaN   \n",
       "9388     bellingham  https://bellingham.craigslist.org  11999   NaN   \n",
       "\n",
       "     manufacturer model fuel  odometer title_status transmission image_url  \\\n",
       "6728        other   NaN  NaN   95674.0          NaN          NaN       NaN   \n",
       "9388        other   NaN  NaN   95674.0          NaN          NaN       NaN   \n",
       "\n",
       "     description state  lat  long posting_date price_category  \n",
       "6728         NaN    nh  NaN   NaN          NaN            low  \n",
       "9388         NaN    wa  NaN   NaN          NaN         medium  "
      ]
     },
     "execution_count": 22,
     "metadata": {},
     "output_type": "execute_result"
    }
   ],
   "source": [
    "# Your code goes here\n",
    "df[df['posting_date'].isna()]"
   ]
  },
  {
   "cell_type": "markdown",
   "id": "eac2ee56",
   "metadata": {},
   "source": [
    "4. Обработайте пропуски, удалив записи, в которых дата размещения объявления о продаже не заполнена, и сохраните обновлённый датафрейм.\n"
   ]
  },
  {
   "cell_type": "markdown",
   "id": "be65d5a5",
   "metadata": {},
   "source": [
    "4. E'lon joylashtirish sanasi yo'q bo'lgan barcha qatorlarni o'chiring va tozalangan ma'lumotlar to'plamini saqlang."
   ]
  },
  {
   "cell_type": "code",
   "execution_count": 23,
   "id": "abcc5664",
   "metadata": {},
   "outputs": [],
   "source": [
    "# Your code goes here\n",
    "df.drop([6728, 9388], inplace = True)"
   ]
  },
  {
   "cell_type": "markdown",
   "id": "3511d8e1",
   "metadata": {},
   "source": [
    "5. Выведите для обновлённого датафрейма количество пропущенных значений в дате размещения объявления о продаже."
   ]
  },
  {
   "cell_type": "markdown",
   "id": "1b5951bf",
   "metadata": {},
   "source": [
    "5. Tozalangan ma'lumotlar to'plamida e'lon joylashtirish sanasi ustunida qolgan yetishmayotgan qiymatlar sonini ko'rsating."
   ]
  },
  {
   "cell_type": "code",
   "execution_count": 24,
   "id": "8b591c81",
   "metadata": {},
   "outputs": [
    {
     "data": {
      "text/plain": [
       "np.int64(0)"
      ]
     },
     "execution_count": 24,
     "metadata": {},
     "output_type": "execute_result"
    }
   ],
   "source": [
    "# Your code goes here\n",
    "df['posting_date'].isna().sum()"
   ]
  },
  {
   "cell_type": "markdown",
   "id": "8f24b532",
   "metadata": {},
   "source": [
    "### Задача 3. Обработка пропусков в коробке передач\n",
    "1. Выведите количество значений для коробки передач, включая пропущенные значения. Обратите внимание на количество пропущенных значений.\n"
   ]
  },
  {
   "cell_type": "markdown",
   "id": "d423b0e6",
   "metadata": {},
   "source": [
    "Topshiriq 3. Uzatmalar qutisidagi yetishmayotgan qiymatlarni ishlash\n",
    "1. Uzatmalar qutisi ustunidagi qiymatlar sonini (yetishmayotgan qiymatlar bilan birga) chiqaring. Yetishmayotgan qiymatlar soniga alohida e'tibor bering."
   ]
  },
  {
   "cell_type": "code",
   "execution_count": 25,
   "id": "722d4d8f",
   "metadata": {},
   "outputs": [
    {
     "data": {
      "text/plain": [
       "transmission\n",
       "automatic    7700\n",
       "other        1624\n",
       "manual        631\n",
       "Name: count, dtype: int64"
      ]
     },
     "execution_count": 25,
     "metadata": {},
     "output_type": "execute_result"
    }
   ],
   "source": [
    "# Your code goes here\n",
    "df['transmission'].value_counts()"
   ]
  },
  {
   "cell_type": "code",
   "execution_count": 26,
   "id": "30c7692c",
   "metadata": {},
   "outputs": [
    {
     "data": {
      "text/plain": [
       "transmission\n",
       "automatic    7700\n",
       "other        1624\n",
       "manual        631\n",
       "NaN            43\n",
       "Name: count, dtype: int64"
      ]
     },
     "execution_count": 26,
     "metadata": {},
     "output_type": "execute_result"
    }
   ],
   "source": [
    "df['transmission'].value_counts(dropna = False)"
   ]
  },
  {
   "cell_type": "markdown",
   "id": "fd90896f",
   "metadata": {},
   "source": [
    "2. Выведите описательные статистики коробки передач.\n"
   ]
  },
  {
   "cell_type": "markdown",
   "id": "346f8117",
   "metadata": {},
   "source": [
    "2. Uzatmalar qutisi ustuni bo'yicha asosiy statistik ma'lumotlarni chiqaring."
   ]
  },
  {
   "cell_type": "code",
   "execution_count": 27,
   "id": "0dd5d4a0",
   "metadata": {},
   "outputs": [
    {
     "data": {
      "text/plain": [
       "count          9955\n",
       "unique            3\n",
       "top       automatic\n",
       "freq           7700\n",
       "Name: transmission, dtype: object"
      ]
     },
     "execution_count": 27,
     "metadata": {},
     "output_type": "execute_result"
    }
   ],
   "source": [
    "# Your code goes here\n",
    "df['transmission'].describe()"
   ]
  },
  {
   "cell_type": "markdown",
   "id": "909ed418",
   "metadata": {},
   "source": [
    "3. Выведите записи, в которых коробка передач не заполнена. Посмотрите на данные и подумайте, какую стратегию обработки значений можно применить.\n"
   ]
  },
  {
   "cell_type": "markdown",
   "id": "188c969c",
   "metadata": {},
   "source": [
    "3. Uzatmalar qutisi kiritilmagan (yetishmayotgan) barcha yozuvlarni chiqaring va ularni ishlov berish strategiyasini tanlang."
   ]
  },
  {
   "cell_type": "code",
   "execution_count": 28,
   "id": "ed70c3af",
   "metadata": {},
   "outputs": [
    {
     "data": {
      "text/plain": [
       "transmission\n",
       "automatic    7700\n",
       "other        1624\n",
       "manual        631\n",
       "NaN            43\n",
       "Name: count, dtype: int64"
      ]
     },
     "execution_count": 28,
     "metadata": {},
     "output_type": "execute_result"
    }
   ],
   "source": [
    "# Your code goes here\n",
    "df['transmission'].value_counts(dropna = False)"
   ]
  },
  {
   "cell_type": "markdown",
   "id": "284dd223",
   "metadata": {},
   "source": [
    "4. Обработайте пропуски, заполнив незаполненные значения коробки передач значением `other`, и сохраните изменения. Обратите внимание, что мы заполняем пропуски не самым популярным значением в выборке.\n",
    "\n"
   ]
  },
  {
   "cell_type": "markdown",
   "id": "33a6eea8",
   "metadata": {},
   "source": [
    "4. Uzatmalar qutisi bo'sh bo'lgan qiymatlarni \"other\" deb belgilang va o'zgarishlarni saqlang."
   ]
  },
  {
   "cell_type": "code",
   "execution_count": 29,
   "id": "d5ef1e18",
   "metadata": {},
   "outputs": [
    {
     "data": {
      "text/plain": [
       "np.int64(0)"
      ]
     },
     "execution_count": 29,
     "metadata": {},
     "output_type": "execute_result"
    }
   ],
   "source": [
    "# Your code goes here\n",
    "df = df.fillna({'transmission' : 'other'})\n",
    "df['transmission'].isna().sum()"
   ]
  },
  {
   "cell_type": "markdown",
   "id": "9b60d6c0",
   "metadata": {},
   "source": [
    "5. Выведите для обновлённого датафрейма количество пропущенных значений для коробки передач."
   ]
  },
  {
   "cell_type": "markdown",
   "id": "9e40c515",
   "metadata": {},
   "source": [
    "5. \"other\" bilan to'ldirilgan yangi ma'lumotlar to'plamida uzatmalar qutisi ustunida qolgan yetishmayotgan qiymatlar sonini ko'rsating."
   ]
  },
  {
   "cell_type": "code",
   "execution_count": 30,
   "id": "900c9ce8",
   "metadata": {},
   "outputs": [
    {
     "data": {
      "text/plain": [
       "np.int64(0)"
      ]
     },
     "execution_count": 30,
     "metadata": {},
     "output_type": "execute_result"
    }
   ],
   "source": [
    "# Your code goes here\n",
    "df['transmission'].isna().sum()"
   ]
  },
  {
   "cell_type": "markdown",
   "id": "475b22bd",
   "metadata": {},
   "source": [
    "### Задача 4. Обработка пропусков в широте и долготе\n",
    "1. Выведите количество значений для широты, включая пропущенные значения. Обратите внимание на количество пропущенных значений.\n"
   ]
  },
  {
   "cell_type": "markdown",
   "id": "3dd650d3",
   "metadata": {},
   "source": [
    "1. Kenglik (latitude) ustunidagi qiymatlar sonini (yetishmayotgan qiymatlar bilan birga) chiqaring. Yetishmayotgan qiymatlar soniga alohida e'tibor bering."
   ]
  },
  {
   "cell_type": "code",
   "execution_count": 31,
   "id": "796ffc5c",
   "metadata": {},
   "outputs": [
    {
     "data": {
      "text/plain": [
       "lat\n",
       "NaN          96\n",
       "43.182400    88\n",
       "33.779214    79\n",
       "40.468785    73\n",
       "33.786500    54\n",
       "             ..\n",
       "33.640251     1\n",
       "39.942263     1\n",
       "34.299800     1\n",
       "44.472801     1\n",
       "42.123900     1\n",
       "Name: count, Length: 5050, dtype: int64"
      ]
     },
     "execution_count": 31,
     "metadata": {},
     "output_type": "execute_result"
    }
   ],
   "source": [
    "# Your code goes here\n",
    "df['lat'].value_counts(dropna = False)"
   ]
  },
  {
   "cell_type": "markdown",
   "id": "72d77230",
   "metadata": {},
   "source": [
    "2. Выведите описательные статистики широты в выборке.\n"
   ]
  },
  {
   "cell_type": "markdown",
   "id": "95efc967",
   "metadata": {},
   "source": [
    "2. Kenglik ustuni boʻyicha asosiy statistik koʻrsatkichlarni chiqaring:"
   ]
  },
  {
   "cell_type": "code",
   "execution_count": 32,
   "id": "68239b20",
   "metadata": {},
   "outputs": [
    {
     "data": {
      "text/plain": [
       "count    9902.000000\n",
       "mean       38.594142\n",
       "std         5.844895\n",
       "min       -67.144243\n",
       "25%        34.830368\n",
       "50%        39.298522\n",
       "75%        42.428070\n",
       "max        64.947500\n",
       "Name: lat, dtype: float64"
      ]
     },
     "execution_count": 32,
     "metadata": {},
     "output_type": "execute_result"
    }
   ],
   "source": [
    "# Your code goes here\n",
    "df['lat'].describe()"
   ]
  },
  {
   "cell_type": "markdown",
   "id": "41d3239c",
   "metadata": {},
   "source": [
    "3. Выведите записи, в которых широта не заполнена. Посмотрите внимательно на данные и обратите внимание, что если не заполнена широта, то не заполнена и долгота.\n"
   ]
  },
  {
   "cell_type": "markdown",
   "id": "eda7a6f5",
   "metadata": {},
   "source": [
    "3. Kenglik qiymati kiritilmagan barcha yozuvlarni chiqaring. Diqqat qiling: agar kenglik kiritilmagan bo'lsa, uzunlik (longitude) ham kiritilmagan bo'ladi."
   ]
  },
  {
   "cell_type": "code",
   "execution_count": 33,
   "id": "79874e79",
   "metadata": {},
   "outputs": [
    {
     "data": {
      "text/html": [
       "<div>\n",
       "<style scoped>\n",
       "    .dataframe tbody tr th:only-of-type {\n",
       "        vertical-align: middle;\n",
       "    }\n",
       "\n",
       "    .dataframe tbody tr th {\n",
       "        vertical-align: top;\n",
       "    }\n",
       "\n",
       "    .dataframe thead th {\n",
       "        text-align: right;\n",
       "    }\n",
       "</style>\n",
       "<table border=\"1\" class=\"dataframe\">\n",
       "  <thead>\n",
       "    <tr style=\"text-align: right;\">\n",
       "      <th></th>\n",
       "      <th>id</th>\n",
       "      <th>url</th>\n",
       "      <th>region</th>\n",
       "      <th>region_url</th>\n",
       "      <th>price</th>\n",
       "      <th>year</th>\n",
       "      <th>manufacturer</th>\n",
       "      <th>model</th>\n",
       "      <th>fuel</th>\n",
       "      <th>odometer</th>\n",
       "      <th>title_status</th>\n",
       "      <th>transmission</th>\n",
       "      <th>image_url</th>\n",
       "      <th>description</th>\n",
       "      <th>state</th>\n",
       "      <th>lat</th>\n",
       "      <th>long</th>\n",
       "      <th>posting_date</th>\n",
       "      <th>price_category</th>\n",
       "    </tr>\n",
       "  </thead>\n",
       "  <tbody>\n",
       "    <tr>\n",
       "      <th>118</th>\n",
       "      <td>7312692841</td>\n",
       "      <td>https://tricities.craigslist.org/ctd/d/bmw-ser...</td>\n",
       "      <td>tri-cities</td>\n",
       "      <td>https://tricities.craigslist.org</td>\n",
       "      <td>17998</td>\n",
       "      <td>2012.0</td>\n",
       "      <td>bmw</td>\n",
       "      <td>5 series</td>\n",
       "      <td>gas</td>\n",
       "      <td>62665.0</td>\n",
       "      <td>clean</td>\n",
       "      <td>automatic</td>\n",
       "      <td>https://images.craigslist.org/00909_57Xyuj8AJH...</td>\n",
       "      <td>2012 BMW 5 Series 535i M Sport Heat &amp; Cool Sea...</td>\n",
       "      <td>tn</td>\n",
       "      <td>NaN</td>\n",
       "      <td>NaN</td>\n",
       "      <td>2021-04-26T04:28:35-0400</td>\n",
       "      <td>medium</td>\n",
       "    </tr>\n",
       "    <tr>\n",
       "      <th>126</th>\n",
       "      <td>7315526339</td>\n",
       "      <td>https://newjersey.craigslist.org/ctd/d/look-wh...</td>\n",
       "      <td>north jersey</td>\n",
       "      <td>https://newjersey.craigslist.org</td>\n",
       "      <td>22995</td>\n",
       "      <td>2014.0</td>\n",
       "      <td>bmw</td>\n",
       "      <td>7 series</td>\n",
       "      <td>gas</td>\n",
       "      <td>81085.0</td>\n",
       "      <td>clean</td>\n",
       "      <td>automatic</td>\n",
       "      <td>https://images.craigslist.org/00k0k_38TNTakyUf...</td>\n",
       "      <td>2014 BMW 7 Series 4dr Sdn 750Li xDrive AWD Aut...</td>\n",
       "      <td>nj</td>\n",
       "      <td>NaN</td>\n",
       "      <td>NaN</td>\n",
       "      <td>2021-05-01T17:49:09-0400</td>\n",
       "      <td>high</td>\n",
       "    </tr>\n",
       "    <tr>\n",
       "      <th>502</th>\n",
       "      <td>7308641593</td>\n",
       "      <td>https://winstonsalem.craigslist.org/ctd/d/ford...</td>\n",
       "      <td>winston-salem</td>\n",
       "      <td>https://winstonsalem.craigslist.org</td>\n",
       "      <td>20998</td>\n",
       "      <td>2016.0</td>\n",
       "      <td>ford</td>\n",
       "      <td>transit cargo</td>\n",
       "      <td>gas</td>\n",
       "      <td>123825.0</td>\n",
       "      <td>clean</td>\n",
       "      <td>automatic</td>\n",
       "      <td>https://images.craigslist.org/00101_gwJT4WBNRo...</td>\n",
       "      <td>2016 Ford Transit Cargo Vans Work Van High Roo...</td>\n",
       "      <td>nc</td>\n",
       "      <td>NaN</td>\n",
       "      <td>NaN</td>\n",
       "      <td>2021-04-18T04:43:46-0400</td>\n",
       "      <td>medium</td>\n",
       "    </tr>\n",
       "    <tr>\n",
       "      <th>567</th>\n",
       "      <td>7309282242</td>\n",
       "      <td>https://onslow.craigslist.org/ctd/d/mercedes-b...</td>\n",
       "      <td>jacksonville</td>\n",
       "      <td>https://onslow.craigslist.org</td>\n",
       "      <td>10810</td>\n",
       "      <td>2014.0</td>\n",
       "      <td>mercedes-benz</td>\n",
       "      <td>c-class</td>\n",
       "      <td>gas</td>\n",
       "      <td>124476.0</td>\n",
       "      <td>clean</td>\n",
       "      <td>automatic</td>\n",
       "      <td>https://images.craigslist.org/01414_6jNHxQwrKx...</td>\n",
       "      <td>2014 Mercedes Benz C Class C 250 Sport Coupe C...</td>\n",
       "      <td>nc</td>\n",
       "      <td>NaN</td>\n",
       "      <td>NaN</td>\n",
       "      <td>2021-04-19T12:06:28-0400</td>\n",
       "      <td>medium</td>\n",
       "    </tr>\n",
       "    <tr>\n",
       "      <th>692</th>\n",
       "      <td>7314847134</td>\n",
       "      <td>https://atlanta.craigslist.org/atl/ctd/d/2008-...</td>\n",
       "      <td>atlanta</td>\n",
       "      <td>https://atlanta.craigslist.org</td>\n",
       "      <td>17900</td>\n",
       "      <td>2008.0</td>\n",
       "      <td>toyota</td>\n",
       "      <td>tundra</td>\n",
       "      <td>gas</td>\n",
       "      <td>96000.0</td>\n",
       "      <td>clean</td>\n",
       "      <td>automatic</td>\n",
       "      <td>https://images.craigslist.org/01313_6u7l4KgvV4...</td>\n",
       "      <td>Description:              2008 Toyota Tundra 5...</td>\n",
       "      <td>ga</td>\n",
       "      <td>NaN</td>\n",
       "      <td>NaN</td>\n",
       "      <td>2021-04-30T12:09:49-0400</td>\n",
       "      <td>medium</td>\n",
       "    </tr>\n",
       "    <tr>\n",
       "      <th>...</th>\n",
       "      <td>...</td>\n",
       "      <td>...</td>\n",
       "      <td>...</td>\n",
       "      <td>...</td>\n",
       "      <td>...</td>\n",
       "      <td>...</td>\n",
       "      <td>...</td>\n",
       "      <td>...</td>\n",
       "      <td>...</td>\n",
       "      <td>...</td>\n",
       "      <td>...</td>\n",
       "      <td>...</td>\n",
       "      <td>...</td>\n",
       "      <td>...</td>\n",
       "      <td>...</td>\n",
       "      <td>...</td>\n",
       "      <td>...</td>\n",
       "      <td>...</td>\n",
       "      <td>...</td>\n",
       "    </tr>\n",
       "    <tr>\n",
       "      <th>9154</th>\n",
       "      <td>7312710592</td>\n",
       "      <td>https://athensga.craigslist.org/ctd/d/bmw-x5-a...</td>\n",
       "      <td>athens</td>\n",
       "      <td>https://athensga.craigslist.org</td>\n",
       "      <td>14975</td>\n",
       "      <td>2013.0</td>\n",
       "      <td>bmw</td>\n",
       "      <td>x5</td>\n",
       "      <td>gas</td>\n",
       "      <td>97195.0</td>\n",
       "      <td>clean</td>\n",
       "      <td>automatic</td>\n",
       "      <td>https://images.craigslist.org/00i0i_kU6D0X9br2...</td>\n",
       "      <td>2013 BMW X5 xDrive35i Sport Activity Navigatio...</td>\n",
       "      <td>ga</td>\n",
       "      <td>NaN</td>\n",
       "      <td>NaN</td>\n",
       "      <td>2021-04-26T07:31:40-0400</td>\n",
       "      <td>medium</td>\n",
       "    </tr>\n",
       "    <tr>\n",
       "      <th>9408</th>\n",
       "      <td>7311736404</td>\n",
       "      <td>https://raleigh.craigslist.org/ctd/d/lexus-nx-...</td>\n",
       "      <td>raleigh / durham / CH</td>\n",
       "      <td>https://raleigh.craigslist.org</td>\n",
       "      <td>28998</td>\n",
       "      <td>2018.0</td>\n",
       "      <td>lexus</td>\n",
       "      <td>nx 300</td>\n",
       "      <td>gas</td>\n",
       "      <td>19863.0</td>\n",
       "      <td>clean</td>\n",
       "      <td>automatic</td>\n",
       "      <td>https://images.craigslist.org/00Q0Q_j7S3aRy6Sw...</td>\n",
       "      <td>2018 Lexus NX 300 Navigation Sunroof Bluetooth...</td>\n",
       "      <td>nc</td>\n",
       "      <td>NaN</td>\n",
       "      <td>NaN</td>\n",
       "      <td>2021-04-24T00:54:33-0400</td>\n",
       "      <td>high</td>\n",
       "    </tr>\n",
       "    <tr>\n",
       "      <th>9650</th>\n",
       "      <td>7315596665</td>\n",
       "      <td>https://newjersey.craigslist.org/ctd/d/wow-201...</td>\n",
       "      <td>north jersey</td>\n",
       "      <td>https://newjersey.craigslist.org</td>\n",
       "      <td>16495</td>\n",
       "      <td>2013.0</td>\n",
       "      <td>jeep</td>\n",
       "      <td>grand cherokee</td>\n",
       "      <td>other</td>\n",
       "      <td>90878.0</td>\n",
       "      <td>clean</td>\n",
       "      <td>automatic</td>\n",
       "      <td>https://images.craigslist.org/00v0v_awwo3NjD7Q...</td>\n",
       "      <td>2013 Jeep Grand Cherokee 4WD 4dr Laredo Automa...</td>\n",
       "      <td>nj</td>\n",
       "      <td>NaN</td>\n",
       "      <td>NaN</td>\n",
       "      <td>2021-05-01T20:53:57-0400</td>\n",
       "      <td>medium</td>\n",
       "    </tr>\n",
       "    <tr>\n",
       "      <th>9668</th>\n",
       "      <td>7308677951</td>\n",
       "      <td>https://myrtlebeach.craigslist.org/ctd/d/ford-...</td>\n",
       "      <td>myrtle beach</td>\n",
       "      <td>https://myrtlebeach.craigslist.org</td>\n",
       "      <td>33647</td>\n",
       "      <td>2015.0</td>\n",
       "      <td>ford</td>\n",
       "      <td>f-250 super duty</td>\n",
       "      <td>diesel</td>\n",
       "      <td>153524.0</td>\n",
       "      <td>clean</td>\n",
       "      <td>automatic</td>\n",
       "      <td>https://images.craigslist.org/00f0f_1c0aGXmmCL...</td>\n",
       "      <td>2015 Ford F250 4x4 Truck Diesel Pickup Trucks ...</td>\n",
       "      <td>sc</td>\n",
       "      <td>NaN</td>\n",
       "      <td>NaN</td>\n",
       "      <td>2021-04-18T08:43:25-0400</td>\n",
       "      <td>high</td>\n",
       "    </tr>\n",
       "    <tr>\n",
       "      <th>9915</th>\n",
       "      <td>7312622931</td>\n",
       "      <td>https://cincinnati.craigslist.org/cto/d/2005-d...</td>\n",
       "      <td>cincinnati</td>\n",
       "      <td>https://cincinnati.craigslist.org</td>\n",
       "      <td>7999</td>\n",
       "      <td>2005.0</td>\n",
       "      <td>ford</td>\n",
       "      <td>excursion 2005</td>\n",
       "      <td>diesel</td>\n",
       "      <td>210000.0</td>\n",
       "      <td>clean</td>\n",
       "      <td>automatic</td>\n",
       "      <td>https://images.craigslist.org/00E0E_i9lrp2qCVK...</td>\n",
       "      <td>Largest sport utility vehicle ever made in the...</td>\n",
       "      <td>oh</td>\n",
       "      <td>NaN</td>\n",
       "      <td>NaN</td>\n",
       "      <td>2021-04-25T21:12:31-0400</td>\n",
       "      <td>low</td>\n",
       "    </tr>\n",
       "  </tbody>\n",
       "</table>\n",
       "<p>96 rows × 19 columns</p>\n",
       "</div>"
      ],
      "text/plain": [
       "              id                                                url  \\\n",
       "118   7312692841  https://tricities.craigslist.org/ctd/d/bmw-ser...   \n",
       "126   7315526339  https://newjersey.craigslist.org/ctd/d/look-wh...   \n",
       "502   7308641593  https://winstonsalem.craigslist.org/ctd/d/ford...   \n",
       "567   7309282242  https://onslow.craigslist.org/ctd/d/mercedes-b...   \n",
       "692   7314847134  https://atlanta.craigslist.org/atl/ctd/d/2008-...   \n",
       "...          ...                                                ...   \n",
       "9154  7312710592  https://athensga.craigslist.org/ctd/d/bmw-x5-a...   \n",
       "9408  7311736404  https://raleigh.craigslist.org/ctd/d/lexus-nx-...   \n",
       "9650  7315596665  https://newjersey.craigslist.org/ctd/d/wow-201...   \n",
       "9668  7308677951  https://myrtlebeach.craigslist.org/ctd/d/ford-...   \n",
       "9915  7312622931  https://cincinnati.craigslist.org/cto/d/2005-d...   \n",
       "\n",
       "                     region                           region_url  price  \\\n",
       "118              tri-cities     https://tricities.craigslist.org  17998   \n",
       "126            north jersey     https://newjersey.craigslist.org  22995   \n",
       "502           winston-salem  https://winstonsalem.craigslist.org  20998   \n",
       "567            jacksonville        https://onslow.craigslist.org  10810   \n",
       "692                 atlanta       https://atlanta.craigslist.org  17900   \n",
       "...                     ...                                  ...    ...   \n",
       "9154                 athens      https://athensga.craigslist.org  14975   \n",
       "9408  raleigh / durham / CH       https://raleigh.craigslist.org  28998   \n",
       "9650           north jersey     https://newjersey.craigslist.org  16495   \n",
       "9668           myrtle beach   https://myrtlebeach.craigslist.org  33647   \n",
       "9915             cincinnati    https://cincinnati.craigslist.org   7999   \n",
       "\n",
       "        year   manufacturer             model    fuel  odometer title_status  \\\n",
       "118   2012.0            bmw          5 series     gas   62665.0        clean   \n",
       "126   2014.0            bmw          7 series     gas   81085.0        clean   \n",
       "502   2016.0           ford     transit cargo     gas  123825.0        clean   \n",
       "567   2014.0  mercedes-benz           c-class     gas  124476.0        clean   \n",
       "692   2008.0         toyota            tundra     gas   96000.0        clean   \n",
       "...      ...            ...               ...     ...       ...          ...   \n",
       "9154  2013.0            bmw                x5     gas   97195.0        clean   \n",
       "9408  2018.0          lexus            nx 300     gas   19863.0        clean   \n",
       "9650  2013.0           jeep    grand cherokee   other   90878.0        clean   \n",
       "9668  2015.0           ford  f-250 super duty  diesel  153524.0        clean   \n",
       "9915  2005.0           ford    excursion 2005  diesel  210000.0        clean   \n",
       "\n",
       "     transmission                                          image_url  \\\n",
       "118     automatic  https://images.craigslist.org/00909_57Xyuj8AJH...   \n",
       "126     automatic  https://images.craigslist.org/00k0k_38TNTakyUf...   \n",
       "502     automatic  https://images.craigslist.org/00101_gwJT4WBNRo...   \n",
       "567     automatic  https://images.craigslist.org/01414_6jNHxQwrKx...   \n",
       "692     automatic  https://images.craigslist.org/01313_6u7l4KgvV4...   \n",
       "...           ...                                                ...   \n",
       "9154    automatic  https://images.craigslist.org/00i0i_kU6D0X9br2...   \n",
       "9408    automatic  https://images.craigslist.org/00Q0Q_j7S3aRy6Sw...   \n",
       "9650    automatic  https://images.craigslist.org/00v0v_awwo3NjD7Q...   \n",
       "9668    automatic  https://images.craigslist.org/00f0f_1c0aGXmmCL...   \n",
       "9915    automatic  https://images.craigslist.org/00E0E_i9lrp2qCVK...   \n",
       "\n",
       "                                            description state  lat  long  \\\n",
       "118   2012 BMW 5 Series 535i M Sport Heat & Cool Sea...    tn  NaN   NaN   \n",
       "126   2014 BMW 7 Series 4dr Sdn 750Li xDrive AWD Aut...    nj  NaN   NaN   \n",
       "502   2016 Ford Transit Cargo Vans Work Van High Roo...    nc  NaN   NaN   \n",
       "567   2014 Mercedes Benz C Class C 250 Sport Coupe C...    nc  NaN   NaN   \n",
       "692   Description:              2008 Toyota Tundra 5...    ga  NaN   NaN   \n",
       "...                                                 ...   ...  ...   ...   \n",
       "9154  2013 BMW X5 xDrive35i Sport Activity Navigatio...    ga  NaN   NaN   \n",
       "9408  2018 Lexus NX 300 Navigation Sunroof Bluetooth...    nc  NaN   NaN   \n",
       "9650  2013 Jeep Grand Cherokee 4WD 4dr Laredo Automa...    nj  NaN   NaN   \n",
       "9668  2015 Ford F250 4x4 Truck Diesel Pickup Trucks ...    sc  NaN   NaN   \n",
       "9915  Largest sport utility vehicle ever made in the...    oh  NaN   NaN   \n",
       "\n",
       "                  posting_date price_category  \n",
       "118   2021-04-26T04:28:35-0400         medium  \n",
       "126   2021-05-01T17:49:09-0400           high  \n",
       "502   2021-04-18T04:43:46-0400         medium  \n",
       "567   2021-04-19T12:06:28-0400         medium  \n",
       "692   2021-04-30T12:09:49-0400         medium  \n",
       "...                        ...            ...  \n",
       "9154  2021-04-26T07:31:40-0400         medium  \n",
       "9408  2021-04-24T00:54:33-0400           high  \n",
       "9650  2021-05-01T20:53:57-0400         medium  \n",
       "9668  2021-04-18T08:43:25-0400           high  \n",
       "9915  2021-04-25T21:12:31-0400            low  \n",
       "\n",
       "[96 rows x 19 columns]"
      ]
     },
     "execution_count": 33,
     "metadata": {},
     "output_type": "execute_result"
    }
   ],
   "source": [
    "# Your code goes here\n",
    "df[df['lat'].isna()]"
   ]
  },
  {
   "cell_type": "markdown",
   "id": "055cd053",
   "metadata": {},
   "source": [
    "4. Необходимо убедиться, что долгота не заполнена только тогда, когда не заполнена широта. Выведите количество значений для долготы, включая пропущенные значения.\n"
   ]
  },
  {
   "cell_type": "markdown",
   "id": "b1cb5fac",
   "metadata": {},
   "source": [
    "4. Uzunlik ustunidagi qiymatlarni tekshiring va faqat kenglik kiritilmagan hollarda uzunlik ham kiritilmaganligiga ishonch hosil qiling."
   ]
  },
  {
   "cell_type": "code",
   "execution_count": 34,
   "id": "d34e290d",
   "metadata": {},
   "outputs": [
    {
     "data": {
      "text/html": [
       "<div>\n",
       "<style scoped>\n",
       "    .dataframe tbody tr th:only-of-type {\n",
       "        vertical-align: middle;\n",
       "    }\n",
       "\n",
       "    .dataframe tbody tr th {\n",
       "        vertical-align: top;\n",
       "    }\n",
       "\n",
       "    .dataframe thead th {\n",
       "        text-align: right;\n",
       "    }\n",
       "</style>\n",
       "<table border=\"1\" class=\"dataframe\">\n",
       "  <thead>\n",
       "    <tr style=\"text-align: right;\">\n",
       "      <th></th>\n",
       "      <th>id</th>\n",
       "      <th>url</th>\n",
       "      <th>region</th>\n",
       "      <th>region_url</th>\n",
       "      <th>price</th>\n",
       "      <th>year</th>\n",
       "      <th>manufacturer</th>\n",
       "      <th>model</th>\n",
       "      <th>fuel</th>\n",
       "      <th>odometer</th>\n",
       "      <th>title_status</th>\n",
       "      <th>transmission</th>\n",
       "      <th>image_url</th>\n",
       "      <th>description</th>\n",
       "      <th>state</th>\n",
       "      <th>lat</th>\n",
       "      <th>long</th>\n",
       "      <th>posting_date</th>\n",
       "      <th>price_category</th>\n",
       "    </tr>\n",
       "  </thead>\n",
       "  <tbody>\n",
       "    <tr>\n",
       "      <th>118</th>\n",
       "      <td>7312692841</td>\n",
       "      <td>https://tricities.craigslist.org/ctd/d/bmw-ser...</td>\n",
       "      <td>tri-cities</td>\n",
       "      <td>https://tricities.craigslist.org</td>\n",
       "      <td>17998</td>\n",
       "      <td>2012.0</td>\n",
       "      <td>bmw</td>\n",
       "      <td>5 series</td>\n",
       "      <td>gas</td>\n",
       "      <td>62665.0</td>\n",
       "      <td>clean</td>\n",
       "      <td>automatic</td>\n",
       "      <td>https://images.craigslist.org/00909_57Xyuj8AJH...</td>\n",
       "      <td>2012 BMW 5 Series 535i M Sport Heat &amp; Cool Sea...</td>\n",
       "      <td>tn</td>\n",
       "      <td>NaN</td>\n",
       "      <td>NaN</td>\n",
       "      <td>2021-04-26T04:28:35-0400</td>\n",
       "      <td>medium</td>\n",
       "    </tr>\n",
       "    <tr>\n",
       "      <th>126</th>\n",
       "      <td>7315526339</td>\n",
       "      <td>https://newjersey.craigslist.org/ctd/d/look-wh...</td>\n",
       "      <td>north jersey</td>\n",
       "      <td>https://newjersey.craigslist.org</td>\n",
       "      <td>22995</td>\n",
       "      <td>2014.0</td>\n",
       "      <td>bmw</td>\n",
       "      <td>7 series</td>\n",
       "      <td>gas</td>\n",
       "      <td>81085.0</td>\n",
       "      <td>clean</td>\n",
       "      <td>automatic</td>\n",
       "      <td>https://images.craigslist.org/00k0k_38TNTakyUf...</td>\n",
       "      <td>2014 BMW 7 Series 4dr Sdn 750Li xDrive AWD Aut...</td>\n",
       "      <td>nj</td>\n",
       "      <td>NaN</td>\n",
       "      <td>NaN</td>\n",
       "      <td>2021-05-01T17:49:09-0400</td>\n",
       "      <td>high</td>\n",
       "    </tr>\n",
       "    <tr>\n",
       "      <th>502</th>\n",
       "      <td>7308641593</td>\n",
       "      <td>https://winstonsalem.craigslist.org/ctd/d/ford...</td>\n",
       "      <td>winston-salem</td>\n",
       "      <td>https://winstonsalem.craigslist.org</td>\n",
       "      <td>20998</td>\n",
       "      <td>2016.0</td>\n",
       "      <td>ford</td>\n",
       "      <td>transit cargo</td>\n",
       "      <td>gas</td>\n",
       "      <td>123825.0</td>\n",
       "      <td>clean</td>\n",
       "      <td>automatic</td>\n",
       "      <td>https://images.craigslist.org/00101_gwJT4WBNRo...</td>\n",
       "      <td>2016 Ford Transit Cargo Vans Work Van High Roo...</td>\n",
       "      <td>nc</td>\n",
       "      <td>NaN</td>\n",
       "      <td>NaN</td>\n",
       "      <td>2021-04-18T04:43:46-0400</td>\n",
       "      <td>medium</td>\n",
       "    </tr>\n",
       "    <tr>\n",
       "      <th>567</th>\n",
       "      <td>7309282242</td>\n",
       "      <td>https://onslow.craigslist.org/ctd/d/mercedes-b...</td>\n",
       "      <td>jacksonville</td>\n",
       "      <td>https://onslow.craigslist.org</td>\n",
       "      <td>10810</td>\n",
       "      <td>2014.0</td>\n",
       "      <td>mercedes-benz</td>\n",
       "      <td>c-class</td>\n",
       "      <td>gas</td>\n",
       "      <td>124476.0</td>\n",
       "      <td>clean</td>\n",
       "      <td>automatic</td>\n",
       "      <td>https://images.craigslist.org/01414_6jNHxQwrKx...</td>\n",
       "      <td>2014 Mercedes Benz C Class C 250 Sport Coupe C...</td>\n",
       "      <td>nc</td>\n",
       "      <td>NaN</td>\n",
       "      <td>NaN</td>\n",
       "      <td>2021-04-19T12:06:28-0400</td>\n",
       "      <td>medium</td>\n",
       "    </tr>\n",
       "    <tr>\n",
       "      <th>692</th>\n",
       "      <td>7314847134</td>\n",
       "      <td>https://atlanta.craigslist.org/atl/ctd/d/2008-...</td>\n",
       "      <td>atlanta</td>\n",
       "      <td>https://atlanta.craigslist.org</td>\n",
       "      <td>17900</td>\n",
       "      <td>2008.0</td>\n",
       "      <td>toyota</td>\n",
       "      <td>tundra</td>\n",
       "      <td>gas</td>\n",
       "      <td>96000.0</td>\n",
       "      <td>clean</td>\n",
       "      <td>automatic</td>\n",
       "      <td>https://images.craigslist.org/01313_6u7l4KgvV4...</td>\n",
       "      <td>Description:              2008 Toyota Tundra 5...</td>\n",
       "      <td>ga</td>\n",
       "      <td>NaN</td>\n",
       "      <td>NaN</td>\n",
       "      <td>2021-04-30T12:09:49-0400</td>\n",
       "      <td>medium</td>\n",
       "    </tr>\n",
       "    <tr>\n",
       "      <th>...</th>\n",
       "      <td>...</td>\n",
       "      <td>...</td>\n",
       "      <td>...</td>\n",
       "      <td>...</td>\n",
       "      <td>...</td>\n",
       "      <td>...</td>\n",
       "      <td>...</td>\n",
       "      <td>...</td>\n",
       "      <td>...</td>\n",
       "      <td>...</td>\n",
       "      <td>...</td>\n",
       "      <td>...</td>\n",
       "      <td>...</td>\n",
       "      <td>...</td>\n",
       "      <td>...</td>\n",
       "      <td>...</td>\n",
       "      <td>...</td>\n",
       "      <td>...</td>\n",
       "      <td>...</td>\n",
       "    </tr>\n",
       "    <tr>\n",
       "      <th>9154</th>\n",
       "      <td>7312710592</td>\n",
       "      <td>https://athensga.craigslist.org/ctd/d/bmw-x5-a...</td>\n",
       "      <td>athens</td>\n",
       "      <td>https://athensga.craigslist.org</td>\n",
       "      <td>14975</td>\n",
       "      <td>2013.0</td>\n",
       "      <td>bmw</td>\n",
       "      <td>x5</td>\n",
       "      <td>gas</td>\n",
       "      <td>97195.0</td>\n",
       "      <td>clean</td>\n",
       "      <td>automatic</td>\n",
       "      <td>https://images.craigslist.org/00i0i_kU6D0X9br2...</td>\n",
       "      <td>2013 BMW X5 xDrive35i Sport Activity Navigatio...</td>\n",
       "      <td>ga</td>\n",
       "      <td>NaN</td>\n",
       "      <td>NaN</td>\n",
       "      <td>2021-04-26T07:31:40-0400</td>\n",
       "      <td>medium</td>\n",
       "    </tr>\n",
       "    <tr>\n",
       "      <th>9408</th>\n",
       "      <td>7311736404</td>\n",
       "      <td>https://raleigh.craigslist.org/ctd/d/lexus-nx-...</td>\n",
       "      <td>raleigh / durham / CH</td>\n",
       "      <td>https://raleigh.craigslist.org</td>\n",
       "      <td>28998</td>\n",
       "      <td>2018.0</td>\n",
       "      <td>lexus</td>\n",
       "      <td>nx 300</td>\n",
       "      <td>gas</td>\n",
       "      <td>19863.0</td>\n",
       "      <td>clean</td>\n",
       "      <td>automatic</td>\n",
       "      <td>https://images.craigslist.org/00Q0Q_j7S3aRy6Sw...</td>\n",
       "      <td>2018 Lexus NX 300 Navigation Sunroof Bluetooth...</td>\n",
       "      <td>nc</td>\n",
       "      <td>NaN</td>\n",
       "      <td>NaN</td>\n",
       "      <td>2021-04-24T00:54:33-0400</td>\n",
       "      <td>high</td>\n",
       "    </tr>\n",
       "    <tr>\n",
       "      <th>9650</th>\n",
       "      <td>7315596665</td>\n",
       "      <td>https://newjersey.craigslist.org/ctd/d/wow-201...</td>\n",
       "      <td>north jersey</td>\n",
       "      <td>https://newjersey.craigslist.org</td>\n",
       "      <td>16495</td>\n",
       "      <td>2013.0</td>\n",
       "      <td>jeep</td>\n",
       "      <td>grand cherokee</td>\n",
       "      <td>other</td>\n",
       "      <td>90878.0</td>\n",
       "      <td>clean</td>\n",
       "      <td>automatic</td>\n",
       "      <td>https://images.craigslist.org/00v0v_awwo3NjD7Q...</td>\n",
       "      <td>2013 Jeep Grand Cherokee 4WD 4dr Laredo Automa...</td>\n",
       "      <td>nj</td>\n",
       "      <td>NaN</td>\n",
       "      <td>NaN</td>\n",
       "      <td>2021-05-01T20:53:57-0400</td>\n",
       "      <td>medium</td>\n",
       "    </tr>\n",
       "    <tr>\n",
       "      <th>9668</th>\n",
       "      <td>7308677951</td>\n",
       "      <td>https://myrtlebeach.craigslist.org/ctd/d/ford-...</td>\n",
       "      <td>myrtle beach</td>\n",
       "      <td>https://myrtlebeach.craigslist.org</td>\n",
       "      <td>33647</td>\n",
       "      <td>2015.0</td>\n",
       "      <td>ford</td>\n",
       "      <td>f-250 super duty</td>\n",
       "      <td>diesel</td>\n",
       "      <td>153524.0</td>\n",
       "      <td>clean</td>\n",
       "      <td>automatic</td>\n",
       "      <td>https://images.craigslist.org/00f0f_1c0aGXmmCL...</td>\n",
       "      <td>2015 Ford F250 4x4 Truck Diesel Pickup Trucks ...</td>\n",
       "      <td>sc</td>\n",
       "      <td>NaN</td>\n",
       "      <td>NaN</td>\n",
       "      <td>2021-04-18T08:43:25-0400</td>\n",
       "      <td>high</td>\n",
       "    </tr>\n",
       "    <tr>\n",
       "      <th>9915</th>\n",
       "      <td>7312622931</td>\n",
       "      <td>https://cincinnati.craigslist.org/cto/d/2005-d...</td>\n",
       "      <td>cincinnati</td>\n",
       "      <td>https://cincinnati.craigslist.org</td>\n",
       "      <td>7999</td>\n",
       "      <td>2005.0</td>\n",
       "      <td>ford</td>\n",
       "      <td>excursion 2005</td>\n",
       "      <td>diesel</td>\n",
       "      <td>210000.0</td>\n",
       "      <td>clean</td>\n",
       "      <td>automatic</td>\n",
       "      <td>https://images.craigslist.org/00E0E_i9lrp2qCVK...</td>\n",
       "      <td>Largest sport utility vehicle ever made in the...</td>\n",
       "      <td>oh</td>\n",
       "      <td>NaN</td>\n",
       "      <td>NaN</td>\n",
       "      <td>2021-04-25T21:12:31-0400</td>\n",
       "      <td>low</td>\n",
       "    </tr>\n",
       "  </tbody>\n",
       "</table>\n",
       "<p>96 rows × 19 columns</p>\n",
       "</div>"
      ],
      "text/plain": [
       "              id                                                url  \\\n",
       "118   7312692841  https://tricities.craigslist.org/ctd/d/bmw-ser...   \n",
       "126   7315526339  https://newjersey.craigslist.org/ctd/d/look-wh...   \n",
       "502   7308641593  https://winstonsalem.craigslist.org/ctd/d/ford...   \n",
       "567   7309282242  https://onslow.craigslist.org/ctd/d/mercedes-b...   \n",
       "692   7314847134  https://atlanta.craigslist.org/atl/ctd/d/2008-...   \n",
       "...          ...                                                ...   \n",
       "9154  7312710592  https://athensga.craigslist.org/ctd/d/bmw-x5-a...   \n",
       "9408  7311736404  https://raleigh.craigslist.org/ctd/d/lexus-nx-...   \n",
       "9650  7315596665  https://newjersey.craigslist.org/ctd/d/wow-201...   \n",
       "9668  7308677951  https://myrtlebeach.craigslist.org/ctd/d/ford-...   \n",
       "9915  7312622931  https://cincinnati.craigslist.org/cto/d/2005-d...   \n",
       "\n",
       "                     region                           region_url  price  \\\n",
       "118              tri-cities     https://tricities.craigslist.org  17998   \n",
       "126            north jersey     https://newjersey.craigslist.org  22995   \n",
       "502           winston-salem  https://winstonsalem.craigslist.org  20998   \n",
       "567            jacksonville        https://onslow.craigslist.org  10810   \n",
       "692                 atlanta       https://atlanta.craigslist.org  17900   \n",
       "...                     ...                                  ...    ...   \n",
       "9154                 athens      https://athensga.craigslist.org  14975   \n",
       "9408  raleigh / durham / CH       https://raleigh.craigslist.org  28998   \n",
       "9650           north jersey     https://newjersey.craigslist.org  16495   \n",
       "9668           myrtle beach   https://myrtlebeach.craigslist.org  33647   \n",
       "9915             cincinnati    https://cincinnati.craigslist.org   7999   \n",
       "\n",
       "        year   manufacturer             model    fuel  odometer title_status  \\\n",
       "118   2012.0            bmw          5 series     gas   62665.0        clean   \n",
       "126   2014.0            bmw          7 series     gas   81085.0        clean   \n",
       "502   2016.0           ford     transit cargo     gas  123825.0        clean   \n",
       "567   2014.0  mercedes-benz           c-class     gas  124476.0        clean   \n",
       "692   2008.0         toyota            tundra     gas   96000.0        clean   \n",
       "...      ...            ...               ...     ...       ...          ...   \n",
       "9154  2013.0            bmw                x5     gas   97195.0        clean   \n",
       "9408  2018.0          lexus            nx 300     gas   19863.0        clean   \n",
       "9650  2013.0           jeep    grand cherokee   other   90878.0        clean   \n",
       "9668  2015.0           ford  f-250 super duty  diesel  153524.0        clean   \n",
       "9915  2005.0           ford    excursion 2005  diesel  210000.0        clean   \n",
       "\n",
       "     transmission                                          image_url  \\\n",
       "118     automatic  https://images.craigslist.org/00909_57Xyuj8AJH...   \n",
       "126     automatic  https://images.craigslist.org/00k0k_38TNTakyUf...   \n",
       "502     automatic  https://images.craigslist.org/00101_gwJT4WBNRo...   \n",
       "567     automatic  https://images.craigslist.org/01414_6jNHxQwrKx...   \n",
       "692     automatic  https://images.craigslist.org/01313_6u7l4KgvV4...   \n",
       "...           ...                                                ...   \n",
       "9154    automatic  https://images.craigslist.org/00i0i_kU6D0X9br2...   \n",
       "9408    automatic  https://images.craigslist.org/00Q0Q_j7S3aRy6Sw...   \n",
       "9650    automatic  https://images.craigslist.org/00v0v_awwo3NjD7Q...   \n",
       "9668    automatic  https://images.craigslist.org/00f0f_1c0aGXmmCL...   \n",
       "9915    automatic  https://images.craigslist.org/00E0E_i9lrp2qCVK...   \n",
       "\n",
       "                                            description state  lat  long  \\\n",
       "118   2012 BMW 5 Series 535i M Sport Heat & Cool Sea...    tn  NaN   NaN   \n",
       "126   2014 BMW 7 Series 4dr Sdn 750Li xDrive AWD Aut...    nj  NaN   NaN   \n",
       "502   2016 Ford Transit Cargo Vans Work Van High Roo...    nc  NaN   NaN   \n",
       "567   2014 Mercedes Benz C Class C 250 Sport Coupe C...    nc  NaN   NaN   \n",
       "692   Description:              2008 Toyota Tundra 5...    ga  NaN   NaN   \n",
       "...                                                 ...   ...  ...   ...   \n",
       "9154  2013 BMW X5 xDrive35i Sport Activity Navigatio...    ga  NaN   NaN   \n",
       "9408  2018 Lexus NX 300 Navigation Sunroof Bluetooth...    nc  NaN   NaN   \n",
       "9650  2013 Jeep Grand Cherokee 4WD 4dr Laredo Automa...    nj  NaN   NaN   \n",
       "9668  2015 Ford F250 4x4 Truck Diesel Pickup Trucks ...    sc  NaN   NaN   \n",
       "9915  Largest sport utility vehicle ever made in the...    oh  NaN   NaN   \n",
       "\n",
       "                  posting_date price_category  \n",
       "118   2021-04-26T04:28:35-0400         medium  \n",
       "126   2021-05-01T17:49:09-0400           high  \n",
       "502   2021-04-18T04:43:46-0400         medium  \n",
       "567   2021-04-19T12:06:28-0400         medium  \n",
       "692   2021-04-30T12:09:49-0400         medium  \n",
       "...                        ...            ...  \n",
       "9154  2021-04-26T07:31:40-0400         medium  \n",
       "9408  2021-04-24T00:54:33-0400           high  \n",
       "9650  2021-05-01T20:53:57-0400         medium  \n",
       "9668  2021-04-18T08:43:25-0400           high  \n",
       "9915  2021-04-25T21:12:31-0400            low  \n",
       "\n",
       "[96 rows x 19 columns]"
      ]
     },
     "execution_count": 34,
     "metadata": {},
     "output_type": "execute_result"
    }
   ],
   "source": [
    "# Your code goes here\n",
    "df[df['lat'].isna()]"
   ]
  },
  {
   "cell_type": "markdown",
   "id": "0367e2b8",
   "metadata": {},
   "source": [
    "5. Выведите количество значений, в которых не заполнена или широта, или долгота.\n"
   ]
  },
  {
   "cell_type": "markdown",
   "id": "52e89f01",
   "metadata": {},
   "source": [
    "5. Kenglik (latitude) yoki uzunlik (longitude) kiritilmagan barcha yozuvlarning umumiy sonini chiqaring:"
   ]
  },
  {
   "cell_type": "code",
   "execution_count": 35,
   "id": "0ff5b48e",
   "metadata": {},
   "outputs": [
    {
     "data": {
      "text/plain": [
       "np.int64(192)"
      ]
     },
     "execution_count": 35,
     "metadata": {},
     "output_type": "execute_result"
    }
   ],
   "source": [
    "# Your code goes here\n",
    "df['lat'].isna().sum() + df['long'].isna().sum()"
   ]
  },
  {
   "cell_type": "markdown",
   "id": "706559fa",
   "metadata": {},
   "source": [
    "6. Обработайте пропуски, удалив записи, в которых широта или долгота не заполнены, и сохраните обновлённый датафрейм, а также выведите первые пять записей.\n",
    "\n",
    "*Подсказка*: обратите внимание на оператор ~ (тильда). Это операция not, которая часто применяется для инвертирования логических значений. Советуем заглянуть в [документацию](https://pandas.pydata.org/pandas-docs/stable/user_guide/indexing.html), чтобы получить представление о его работе на примерах использования."
   ]
  },
  {
   "cell_type": "markdown",
   "id": "580024c5",
   "metadata": {},
   "source": [
    "6. Kenglik yoki uzunlik kiritilmagan barcha yozuvlarni o'chiring va yangilangan ma'lumotlar to'plamini saqlang:"
   ]
  },
  {
   "cell_type": "code",
   "execution_count": 36,
   "id": "d7670ed5",
   "metadata": {},
   "outputs": [],
   "source": [
    "# Your code goes here\n",
    "df.dropna(subset = ['long', 'lat'],inplace = True)"
   ]
  },
  {
   "cell_type": "markdown",
   "id": "f653870f",
   "metadata": {},
   "source": [
    "7. Ещё раз выведите количество полностью заполненных объектов и их процент из всей выборки. Оставшиеся пропуски вы заполните позднее.\n"
   ]
  },
  {
   "cell_type": "markdown",
   "id": "e4631a7f",
   "metadata": {},
   "source": [
    "7. To'liq to'ldirilgan qatorlar sonini va foizini chiqaring (qolgan yetishmayotgan qiymatlarni keyinroq to'ldiramiz(:"
   ]
  },
  {
   "cell_type": "code",
   "execution_count": 37,
   "id": "d26d379a",
   "metadata": {},
   "outputs": [
    {
     "data": {
      "text/plain": [
       "id                  0\n",
       "url                 0\n",
       "region              0\n",
       "region_url          0\n",
       "price               0\n",
       "year               34\n",
       "manufacturer        0\n",
       "model             126\n",
       "fuel               61\n",
       "odometer            0\n",
       "title_status      164\n",
       "transmission        0\n",
       "image_url           0\n",
       "description         0\n",
       "state               0\n",
       "lat                 0\n",
       "long                0\n",
       "posting_date        0\n",
       "price_category      0\n",
       "dtype: int64"
      ]
     },
     "execution_count": 37,
     "metadata": {},
     "output_type": "execute_result"
    }
   ],
   "source": [
    "# Your code goes here\n",
    "df.isna().sum()"
   ]
  },
  {
   "cell_type": "markdown",
   "id": "48dc9169",
   "metadata": {},
   "source": [
    "8. Сохраните получившийся датафрейм в файл `df_clean_upd.csv` для дальнейшего использования, индекс не сохраняйте.\n"
   ]
  },
  {
   "cell_type": "markdown",
   "id": "704e640f",
   "metadata": {},
   "source": [
    "8. Yakuniy tozalangan ma'lumotlar to'plamini `df_clean_upd.csv` fayliga saqlang (indekssiz):"
   ]
  },
  {
   "cell_type": "code",
   "execution_count": 38,
   "id": "d3e08078",
   "metadata": {},
   "outputs": [],
   "source": [
    "# Your code goes here\n",
    "df.to_csv('./df_clean_upd.csv', index = False)"
   ]
  }
 ],
 "metadata": {
  "kernelspec": {
   "display_name": "Python 3",
   "language": "python",
   "name": "python3"
  },
  "language_info": {
   "codemirror_mode": {
    "name": "ipython",
    "version": 3
   },
   "file_extension": ".py",
   "mimetype": "text/x-python",
   "name": "python",
   "nbconvert_exporter": "python",
   "pygments_lexer": "ipython3",
   "version": "3.13.4"
  }
 },
 "nbformat": 4,
 "nbformat_minor": 5
}
