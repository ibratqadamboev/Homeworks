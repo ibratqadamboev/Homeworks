{
 "cells": [
  {
   "cell_type": "markdown",
   "id": "8dc8ff1c",
   "metadata": {},
   "source": [
    "### This jupyter notebook contains practical tasks for l1 lesson \"EDA - Data Cleaning\"\n",
    "\n",
    "**Author : Umidjon Sattorov. Machine Learning engineer**"
   ]
  },
  {
   "cell_type": "code",
   "execution_count": 37,
   "id": "5a155393",
   "metadata": {},
   "outputs": [
    {
     "name": "stdout",
     "output_type": "stream",
     "text": [
      "2.3.1\n"
     ]
    }
   ],
   "source": [
    "# Import the numpy package under the name np\n",
    "import numpy as np\n",
    "\n",
    "# Import the pandas package under the name pd\n",
    "import pandas as pd\n",
    "\n",
    "# Print the pandas version and the configuration\n",
    "print(pd.__version__)"
   ]
  },
  {
   "cell_type": "markdown",
   "id": "a0cdef5c",
   "metadata": {},
   "source": [
    "![purple-divider](https://user-images.githubusercontent.com/7065401/52071927-c1cd7100-2562-11e9-908a-dde91ba14e59.png)"
   ]
  },
  {
   "cell_type": "markdown",
   "id": "386fc79d",
   "metadata": {},
   "source": [
    "## Series consolidation(Series takrorlash)"
   ]
  },
  {
   "cell_type": "markdown",
   "id": "85d4db8a",
   "metadata": {},
   "source": [
    "1. Создать пустую серию pandas"
   ]
  },
  {
   "cell_type": "code",
   "execution_count": 38,
   "id": "f164d4fd",
   "metadata": {},
   "outputs": [],
   "source": [
    "# your code goes here\n",
    "ser = pd.Series([])"
   ]
  },
  {
   "cell_type": "code",
   "execution_count": 39,
   "id": "51525f7b",
   "metadata": {},
   "outputs": [
    {
     "data": {
      "text/plain": [
       "Series([], dtype: object)"
      ]
     },
     "execution_count": 39,
     "metadata": {},
     "output_type": "execute_result"
    }
   ],
   "source": [
    "ser"
   ]
  },
  {
   "cell_type": "markdown",
   "id": "2466ad4a",
   "metadata": {},
   "source": [
    "![green-divider](https://user-images.githubusercontent.com/7065401/52071924-c003ad80-2562-11e9-8297-1c6595f8a7ff.png)\n",
    "\n",
    "2. Данный список X python преобразует его в series Y pandas"
   ]
  },
  {
   "cell_type": "code",
   "execution_count": 40,
   "id": "09489000",
   "metadata": {},
   "outputs": [],
   "source": [
    "# Your code goes here\n",
    "X = [1, 2, 3, 4, 5, 6, 7]\n",
    "Y = pd.Series([X])"
   ]
  },
  {
   "cell_type": "markdown",
   "id": "6b5c1e44",
   "metadata": {},
   "source": [
    "![green-divider](https://user-images.githubusercontent.com/7065401/52071924-c003ad80-2562-11e9-8297-1c6595f8a7ff.png)\n",
    "\n",
    "3. Учитывая серию X pandas, назовите ее «My letters»"
   ]
  },
  {
   "cell_type": "code",
   "execution_count": 41,
   "id": "fde943e5",
   "metadata": {},
   "outputs": [],
   "source": [
    "# Your code goes here\n",
    "X = pd.Series(X, name = \"My letters\")"
   ]
  },
  {
   "cell_type": "markdown",
   "id": "e74ce4cd",
   "metadata": {},
   "source": [
    "![green-divider](https://user-images.githubusercontent.com/7065401/52071924-c003ad80-2562-11e9-8297-1c6595f8a7ff.png)\n",
    "\n",
    "4. Для серии X pandas покажите ее значения"
   ]
  },
  {
   "cell_type": "code",
   "execution_count": 42,
   "id": "3bd791c6",
   "metadata": {},
   "outputs": [
    {
     "data": {
      "text/plain": [
       "0    1\n",
       "1    2\n",
       "2    3\n",
       "3    4\n",
       "4    5\n",
       "5    6\n",
       "6    7\n",
       "Name: My letters, dtype: int64"
      ]
     },
     "execution_count": 42,
     "metadata": {},
     "output_type": "execute_result"
    }
   ],
   "source": [
    "# Your code goes here\n",
    "X"
   ]
  },
  {
   "cell_type": "markdown",
   "id": "3edb6292",
   "metadata": {},
   "source": [
    "![green-divider](https://user-images.githubusercontent.com/7065401/52071924-c003ad80-2562-11e9-8297-1c6595f8a7ff.png)\n",
    "\n",
    "5. Назначить имена индексов для заданной серии X pandas"
   ]
  },
  {
   "cell_type": "code",
   "execution_count": 47,
   "id": "81909801",
   "metadata": {},
   "outputs": [],
   "source": [
    "# Your code goes here\n",
    "X.index = [1, 2, 3, 4, 5, 6, 7]"
   ]
  },
  {
   "cell_type": "markdown",
   "id": "14d37b4e",
   "metadata": {},
   "source": [
    "![green-divider](https://user-images.githubusercontent.com/7065401/52071924-c003ad80-2562-11e9-8297-1c6595f8a7ff.png)\n",
    "\n",
    "6. Для серии X pandas покажите ее первый элемент"
   ]
  },
  {
   "cell_type": "code",
   "execution_count": 51,
   "id": "41bf85ed",
   "metadata": {},
   "outputs": [
    {
     "data": {
      "text/plain": [
       "1    1\n",
       "Name: My letters, dtype: int64"
      ]
     },
     "execution_count": 51,
     "metadata": {},
     "output_type": "execute_result"
    }
   ],
   "source": [
    "# Your code goes here\n",
    "X.head(1)"
   ]
  },
  {
   "cell_type": "markdown",
   "id": "a5225a98",
   "metadata": {},
   "source": [
    "![green-divider](https://user-images.githubusercontent.com/7065401/52071924-c003ad80-2562-11e9-8297-1c6595f8a7ff.png)\n",
    "\n",
    "7. Для серии X pandas покажите ее последний элемент"
   ]
  },
  {
   "cell_type": "code",
   "execution_count": 58,
   "id": "bd83603e",
   "metadata": {},
   "outputs": [
    {
     "data": {
      "text/plain": [
       "third    C\n",
       "dtype: object"
      ]
     },
     "execution_count": 58,
     "metadata": {},
     "output_type": "execute_result"
    }
   ],
   "source": [
    "X = pd.Series(['A','B','C'], index=['first', 'second', 'third'])\n",
    "\n",
    "# Your code goes here\n",
    "X.tail(1)"
   ]
  },
  {
   "cell_type": "markdown",
   "id": "0f63d266",
   "metadata": {},
   "source": [
    "![green-divider](https://user-images.githubusercontent.com/7065401/52071924-c003ad80-2562-11e9-8297-1c6595f8a7ff.png)\n",
    "\n",
    "8. Для серии X pandas показать все средние элементы"
   ]
  },
  {
   "cell_type": "code",
   "execution_count": 88,
   "id": "81d9bd60",
   "metadata": {},
   "outputs": [
    {
     "data": {
      "text/plain": [
       "'C'"
      ]
     },
     "execution_count": 88,
     "metadata": {},
     "output_type": "execute_result"
    }
   ],
   "source": [
    "X = pd.Series(['A','B','C','D','E'],\n",
    "              index=['first','second','third','forth','fifth'])\n",
    "\n",
    "# Your code goes here\n",
    "X.iloc[2]"
   ]
  },
  {
   "cell_type": "markdown",
   "id": "9515fe57",
   "metadata": {},
   "source": [
    "![green-divider](https://user-images.githubusercontent.com/7065401/52071924-c003ad80-2562-11e9-8297-1c6595f8a7ff.png)\n",
    "\n",
    "9. Для серии X pandas покажите элементы в обратном положении"
   ]
  },
  {
   "cell_type": "code",
   "execution_count": 89,
   "id": "4a5c03d4",
   "metadata": {},
   "outputs": [
    {
     "data": {
      "text/plain": [
       "fifth     E\n",
       "forth     D\n",
       "third     C\n",
       "second    B\n",
       "first     A\n",
       "dtype: object"
      ]
     },
     "execution_count": 89,
     "metadata": {},
     "output_type": "execute_result"
    }
   ],
   "source": [
    "X = pd.Series(['A','B','C','D','E'],\n",
    "              index=['first','second','third','forth','fifth'])\n",
    "\n",
    "# Your code goes here\n",
    "X.loc[::-1]"
   ]
  },
  {
   "cell_type": "markdown",
   "id": "27336d8c",
   "metadata": {},
   "source": [
    "![green-divider](https://user-images.githubusercontent.com/7065401/52071924-c003ad80-2562-11e9-8297-1c6595f8a7ff.png)\n",
    "\n",
    "10. Для серии X pandas покажите первый и последний элементы"
   ]
  },
  {
   "cell_type": "code",
   "execution_count": 91,
   "id": "25c94e70",
   "metadata": {},
   "outputs": [
    {
     "data": {
      "text/plain": [
       "(first    A\n",
       " dtype: object,\n",
       " fifth    E\n",
       " dtype: object)"
      ]
     },
     "execution_count": 91,
     "metadata": {},
     "output_type": "execute_result"
    }
   ],
   "source": [
    "X = pd.Series(['A','B','C','D','E'],\n",
    "              index=['first','second','third','forth','fifth'])\n",
    "\n",
    "# Your code goes here\n",
    "first_last = X.head(1), X.tail(1) \n",
    "first_last"
   ]
  },
  {
   "cell_type": "markdown",
   "id": "6aff0cbb",
   "metadata": {},
   "source": [
    "___"
   ]
  },
  {
   "cell_type": "markdown",
   "id": "841a3a75",
   "metadata": {},
   "source": [
    "## EDA - Data Cleaning"
   ]
  },
  {
   "cell_type": "markdown",
   "id": "27de6cb0",
   "metadata": {},
   "source": [
    "## Описание датасета:\n",
    "- `id`: идентификатор записи;\n",
    "- `url`: URL записи о продаже;\n",
    "- `region`: регион;\n",
    "- `region_url`: URL региона;\n",
    "- `price`: стоимость;\n",
    "- `year`: год выпуска;\n",
    "- `manufacturer`: производитель;\n",
    "- `model`: модель;\n",
    "- `condition`: состояние;\n",
    "- `cylinders`: количество цилиндров;\n",
    "- `fuel`: тип топлива;\n",
    "- `odometer`: количество пройденных миль;\n",
    "- `title_status`: статус;\n",
    "- `transmission`: коробка передач;\n",
    "- `VIN`: идентификационный номер;\n",
    "- `drive`: тип привода;\n",
    "- `size`: размер;\n",
    "- `type`: кузов;\n",
    "- `paint_color`: цвет;\n",
    "- `image_url`: URL изображения;\n",
    "- `description`: указанное описание;\n",
    "- `county`: страна;\n",
    "- `state`: штат;\n",
    "- `lat`: широта;\n",
    "- `long`: долгота;\n",
    "- `posting_date`: дата размещения объявления о продаже;\n",
    "- `price_category`: категория цены.\n"
   ]
  },
  {
   "cell_type": "code",
   "execution_count": 94,
   "id": "b2ccc235",
   "metadata": {},
   "outputs": [],
   "source": [
    "# Import necessary libraries\n",
    "df = pd.read_csv(\"df_clean.csv\")"
   ]
  },
  {
   "cell_type": "markdown",
   "id": "0fb07784",
   "metadata": {},
   "source": [
    "### Задача 1. Загрузка датасета и ознакомление с количеством пропущенных значений\n",
    "\n",
    "1. Загрузите датасет из `df_clean.csv` и выведите первые пять записей."
   ]
  },
  {
   "cell_type": "markdown",
   "id": "7448e9e5",
   "metadata": {},
   "source": [
    "Topshiriq 1. Ma’lumotlar to‘plamini yuklash va yetishmayotgan qiymatlar sonini tahlil qilish\n",
    "1. df_clean.csv faylidan ma’lumotlar to‘plamini yuklang va dastlabki beshta yozuvni ekranga chiqaring.\n",
    "\n"
   ]
  },
  {
   "cell_type": "code",
   "execution_count": 95,
   "id": "0a1c8fa4",
   "metadata": {},
   "outputs": [
    {
     "data": {
      "text/html": [
       "<div>\n",
       "<style scoped>\n",
       "    .dataframe tbody tr th:only-of-type {\n",
       "        vertical-align: middle;\n",
       "    }\n",
       "\n",
       "    .dataframe tbody tr th {\n",
       "        vertical-align: top;\n",
       "    }\n",
       "\n",
       "    .dataframe thead th {\n",
       "        text-align: right;\n",
       "    }\n",
       "</style>\n",
       "<table border=\"1\" class=\"dataframe\">\n",
       "  <thead>\n",
       "    <tr style=\"text-align: right;\">\n",
       "      <th></th>\n",
       "      <th>id</th>\n",
       "      <th>url</th>\n",
       "      <th>region</th>\n",
       "      <th>region_url</th>\n",
       "      <th>price</th>\n",
       "      <th>year</th>\n",
       "      <th>manufacturer</th>\n",
       "      <th>model</th>\n",
       "      <th>fuel</th>\n",
       "      <th>odometer</th>\n",
       "      <th>title_status</th>\n",
       "      <th>transmission</th>\n",
       "      <th>image_url</th>\n",
       "      <th>description</th>\n",
       "      <th>state</th>\n",
       "      <th>lat</th>\n",
       "      <th>long</th>\n",
       "      <th>posting_date</th>\n",
       "      <th>price_category</th>\n",
       "    </tr>\n",
       "  </thead>\n",
       "  <tbody>\n",
       "    <tr>\n",
       "      <th>0</th>\n",
       "      <td>7308295377</td>\n",
       "      <td>https://chattanooga.craigslist.org/ctd/d/chatt...</td>\n",
       "      <td>chattanooga</td>\n",
       "      <td>https://chattanooga.craigslist.org</td>\n",
       "      <td>54990</td>\n",
       "      <td>2020.0</td>\n",
       "      <td>ram</td>\n",
       "      <td>2500 crew cab big horn</td>\n",
       "      <td>diesel</td>\n",
       "      <td>27442.0</td>\n",
       "      <td>clean</td>\n",
       "      <td>other</td>\n",
       "      <td>https://images.craigslist.org/00N0N_1xMPvfxRAI...</td>\n",
       "      <td>Carvana is the safer way to buy a car During t...</td>\n",
       "      <td>tn</td>\n",
       "      <td>35.060000</td>\n",
       "      <td>-85.250000</td>\n",
       "      <td>2021-04-17T12:30:50-0400</td>\n",
       "      <td>high</td>\n",
       "    </tr>\n",
       "    <tr>\n",
       "      <th>1</th>\n",
       "      <td>7316380095</td>\n",
       "      <td>https://newjersey.craigslist.org/ctd/d/carlsta...</td>\n",
       "      <td>north jersey</td>\n",
       "      <td>https://newjersey.craigslist.org</td>\n",
       "      <td>16942</td>\n",
       "      <td>2016.0</td>\n",
       "      <td>ford</td>\n",
       "      <td>explorer 4wd 4dr xlt</td>\n",
       "      <td>NaN</td>\n",
       "      <td>60023.0</td>\n",
       "      <td>clean</td>\n",
       "      <td>automatic</td>\n",
       "      <td>https://images.craigslist.org/00x0x_26jl9F0cnL...</td>\n",
       "      <td>***Call Us for more information at: 201-635-14...</td>\n",
       "      <td>nj</td>\n",
       "      <td>40.821805</td>\n",
       "      <td>-74.061962</td>\n",
       "      <td>2021-05-03T15:40:21-0400</td>\n",
       "      <td>medium</td>\n",
       "    </tr>\n",
       "    <tr>\n",
       "      <th>2</th>\n",
       "      <td>7313733749</td>\n",
       "      <td>https://reno.craigslist.org/ctd/d/atlanta-2017...</td>\n",
       "      <td>reno / tahoe</td>\n",
       "      <td>https://reno.craigslist.org</td>\n",
       "      <td>35590</td>\n",
       "      <td>2017.0</td>\n",
       "      <td>volkswagen</td>\n",
       "      <td>golf r hatchback</td>\n",
       "      <td>gas</td>\n",
       "      <td>14048.0</td>\n",
       "      <td>clean</td>\n",
       "      <td>other</td>\n",
       "      <td>https://images.craigslist.org/00y0y_eeZjWeiSfb...</td>\n",
       "      <td>Carvana is the safer way to buy a car During t...</td>\n",
       "      <td>ca</td>\n",
       "      <td>33.779214</td>\n",
       "      <td>-84.411811</td>\n",
       "      <td>2021-04-28T03:52:20-0700</td>\n",
       "      <td>high</td>\n",
       "    </tr>\n",
       "    <tr>\n",
       "      <th>3</th>\n",
       "      <td>7308210929</td>\n",
       "      <td>https://fayetteville.craigslist.org/ctd/d/rale...</td>\n",
       "      <td>fayetteville</td>\n",
       "      <td>https://fayetteville.craigslist.org</td>\n",
       "      <td>14500</td>\n",
       "      <td>2013.0</td>\n",
       "      <td>toyota</td>\n",
       "      <td>rav4</td>\n",
       "      <td>gas</td>\n",
       "      <td>117291.0</td>\n",
       "      <td>clean</td>\n",
       "      <td>automatic</td>\n",
       "      <td>https://images.craigslist.org/00606_iGe5iXidib...</td>\n",
       "      <td>2013 Toyota RAV4 XLE 4dr SUV     Offered by: R...</td>\n",
       "      <td>nc</td>\n",
       "      <td>35.715954</td>\n",
       "      <td>-78.655304</td>\n",
       "      <td>2021-04-17T10:08:57-0400</td>\n",
       "      <td>medium</td>\n",
       "    </tr>\n",
       "    <tr>\n",
       "      <th>4</th>\n",
       "      <td>7316474668</td>\n",
       "      <td>https://newyork.craigslist.org/lgi/cto/d/baldw...</td>\n",
       "      <td>new york city</td>\n",
       "      <td>https://newyork.craigslist.org</td>\n",
       "      <td>21800</td>\n",
       "      <td>2021.0</td>\n",
       "      <td>nissan</td>\n",
       "      <td>altima</td>\n",
       "      <td>gas</td>\n",
       "      <td>8000.0</td>\n",
       "      <td>clean</td>\n",
       "      <td>automatic</td>\n",
       "      <td>https://images.craigslist.org/00V0V_3pSOiPZ3Sd...</td>\n",
       "      <td>2021 Nissan Altima Sv with Only 8 K Miles Titl...</td>\n",
       "      <td>ny</td>\n",
       "      <td>40.654800</td>\n",
       "      <td>-73.609700</td>\n",
       "      <td>2021-05-03T18:32:06-0400</td>\n",
       "      <td>medium</td>\n",
       "    </tr>\n",
       "  </tbody>\n",
       "</table>\n",
       "</div>"
      ],
      "text/plain": [
       "           id                                                url  \\\n",
       "0  7308295377  https://chattanooga.craigslist.org/ctd/d/chatt...   \n",
       "1  7316380095  https://newjersey.craigslist.org/ctd/d/carlsta...   \n",
       "2  7313733749  https://reno.craigslist.org/ctd/d/atlanta-2017...   \n",
       "3  7308210929  https://fayetteville.craigslist.org/ctd/d/rale...   \n",
       "4  7316474668  https://newyork.craigslist.org/lgi/cto/d/baldw...   \n",
       "\n",
       "          region                           region_url  price    year  \\\n",
       "0    chattanooga   https://chattanooga.craigslist.org  54990  2020.0   \n",
       "1   north jersey     https://newjersey.craigslist.org  16942  2016.0   \n",
       "2   reno / tahoe          https://reno.craigslist.org  35590  2017.0   \n",
       "3   fayetteville  https://fayetteville.craigslist.org  14500  2013.0   \n",
       "4  new york city       https://newyork.craigslist.org  21800  2021.0   \n",
       "\n",
       "  manufacturer                   model    fuel  odometer title_status  \\\n",
       "0          ram  2500 crew cab big horn  diesel   27442.0        clean   \n",
       "1         ford    explorer 4wd 4dr xlt     NaN   60023.0        clean   \n",
       "2   volkswagen        golf r hatchback     gas   14048.0        clean   \n",
       "3       toyota                    rav4     gas  117291.0        clean   \n",
       "4       nissan                  altima     gas    8000.0        clean   \n",
       "\n",
       "  transmission                                          image_url  \\\n",
       "0        other  https://images.craigslist.org/00N0N_1xMPvfxRAI...   \n",
       "1    automatic  https://images.craigslist.org/00x0x_26jl9F0cnL...   \n",
       "2        other  https://images.craigslist.org/00y0y_eeZjWeiSfb...   \n",
       "3    automatic  https://images.craigslist.org/00606_iGe5iXidib...   \n",
       "4    automatic  https://images.craigslist.org/00V0V_3pSOiPZ3Sd...   \n",
       "\n",
       "                                         description state        lat  \\\n",
       "0  Carvana is the safer way to buy a car During t...    tn  35.060000   \n",
       "1  ***Call Us for more information at: 201-635-14...    nj  40.821805   \n",
       "2  Carvana is the safer way to buy a car During t...    ca  33.779214   \n",
       "3  2013 Toyota RAV4 XLE 4dr SUV     Offered by: R...    nc  35.715954   \n",
       "4  2021 Nissan Altima Sv with Only 8 K Miles Titl...    ny  40.654800   \n",
       "\n",
       "        long              posting_date price_category  \n",
       "0 -85.250000  2021-04-17T12:30:50-0400           high  \n",
       "1 -74.061962  2021-05-03T15:40:21-0400         medium  \n",
       "2 -84.411811  2021-04-28T03:52:20-0700           high  \n",
       "3 -78.655304  2021-04-17T10:08:57-0400         medium  \n",
       "4 -73.609700  2021-05-03T18:32:06-0400         medium  "
      ]
     },
     "execution_count": 95,
     "metadata": {},
     "output_type": "execute_result"
    }
   ],
   "source": [
    "# Your code goes here\n",
    "df.head()"
   ]
  },
  {
   "cell_type": "markdown",
   "id": "d7475662",
   "metadata": {},
   "source": [
    "2. Выведите количество полностью заполненных объектов и их процент из всей выборки.\n"
   ]
  },
  {
   "cell_type": "markdown",
   "id": "8137310c",
   "metadata": {},
   "source": [
    "2. Butunlay toʻldirilgan qatorlar sonini va ularning umumiy ma’lumotlar toʻplamidagi foizini hisoblang va ekranga chiqaring."
   ]
  },
  {
   "cell_type": "code",
   "execution_count": null,
   "id": "0f1cf1d2",
   "metadata": {},
   "outputs": [],
   "source": [
    "# Your code goes here\n"
   ]
  },
  {
   "cell_type": "markdown",
   "id": "ee07d2bb",
   "metadata": {},
   "source": [
    "3. Сохраните в переменную и выведите процент пропущенных значений для каждого признака, отсортируйте признаки по убыванию процента пропущенных значений.\n"
   ]
  },
  {
   "cell_type": "markdown",
   "id": "df47c537",
   "metadata": {},
   "source": [
    "3. Har bir ustun (feature) uchun yetishmayotgan qiymatlar foizini hisoblang, natijani o‘zgaruvchiga saqlang va ekranga chiqaring. Ustunlarni kamayish tartibida (eng ko‘p yetishmayotgan qiymatlar bo‘yicha) saralang."
   ]
  },
  {
   "cell_type": "code",
   "execution_count": null,
   "id": "ed5e57d0",
   "metadata": {},
   "outputs": [],
   "source": [
    "# Your code goes here\n"
   ]
  },
  {
   "cell_type": "markdown",
   "id": "1cf016d2",
   "metadata": {},
   "source": [
    "4. Выведите список всех признаков, в которых имеются пропущенные значения. Воспользуйтесь результатом вывода предыдущего шага, чтобы отсортировать признаки, подходящие под условие."
   ]
  },
  {
   "cell_type": "markdown",
   "id": "934373eb",
   "metadata": {},
   "source": [
    "4. Yetishmayotgan qiymatlar mavjud bo'lgan barcha ustunlarni ro'yxatini chiqaring. Oldingi qadam natijasidan foydalanib, ularni mos keladigan shart bo'yicha saralang."
   ]
  },
  {
   "cell_type": "code",
   "execution_count": null,
   "id": "1b3b3ff1",
   "metadata": {},
   "outputs": [],
   "source": [
    "# Your code goes here\n"
   ]
  },
  {
   "cell_type": "markdown",
   "id": "5f9c3e2b",
   "metadata": {},
   "source": [
    "### Задача 2. Обработка пропусков в дате размещения объявления о продаже\n",
    "1. Выведите количество значений для даты размещения объявления о продаже, включая пропущенные значения. Обратите внимание на количество пропущенных значений.\n",
    "\n"
   ]
  },
  {
   "cell_type": "markdown",
   "id": "f769f4c6",
   "metadata": {},
   "source": [
    "Topshiriq 2. E'lon joylashtirish sanasidagi yetishmayotgan qiymatlarni ishlash\n",
    "1. E'lon joylashtirish sanasi ustunidagi qiymatlar sonini (yetishmayotgan qiymatlar bilan birga) chiqaring. Yetishmayotgan qiymatlar soniga alohida e'tibor bering."
   ]
  },
  {
   "cell_type": "code",
   "execution_count": null,
   "id": "7aae260e",
   "metadata": {},
   "outputs": [],
   "source": [
    "# Your code goes here\n"
   ]
  },
  {
   "cell_type": "markdown",
   "id": "e70a7592",
   "metadata": {},
   "source": [
    "2. Выведите описательные статистики даты размещения объявления о продаже. Обратите внимание, что на месте самой популярной даты может стоять любое из значений, которое встречается два раза.\n"
   ]
  },
  {
   "cell_type": "markdown",
   "id": "b3fa277b",
   "metadata": {},
   "source": [
    "2. E'lon joylashtirish sanasi ustuni bo'yicha asosiy statistik ma'lumotlarni chiqaring. Diqqat qiling: eng ko'p takrorlangan sana sifatida har qanday 2 marta uchragan qiymat ko'rsatilishi mumkin."
   ]
  },
  {
   "cell_type": "code",
   "execution_count": null,
   "id": "b3d94eb5",
   "metadata": {},
   "outputs": [],
   "source": [
    "# Your code goes here\n"
   ]
  },
  {
   "cell_type": "markdown",
   "id": "aa26ab6e",
   "metadata": {},
   "source": [
    "3. Выведите записи, в которых дата размещения объявления о продаже не заполнена. Посмотрите на данные и подумайте, какую стратегию обработки значений можно применить.\n"
   ]
  },
  {
   "cell_type": "markdown",
   "id": "cb50949d",
   "metadata": {},
   "source": [
    "3. E'lon joylashtirish sanasi kiritilmagan (yetishmayotgan) barcha yozuvlarni ekranga chiqaring. Ma'lumotlarni tahlil qilib, qanday ishlov berish strategiyasini qo'llash mumkinligini aniqlang."
   ]
  },
  {
   "cell_type": "code",
   "execution_count": null,
   "id": "6f032e87",
   "metadata": {},
   "outputs": [],
   "source": [
    "# Your code goes here\n"
   ]
  },
  {
   "cell_type": "markdown",
   "id": "eac2ee56",
   "metadata": {},
   "source": [
    "4. Обработайте пропуски, удалив записи, в которых дата размещения объявления о продаже не заполнена, и сохраните обновлённый датафрейм.\n"
   ]
  },
  {
   "cell_type": "markdown",
   "id": "be65d5a5",
   "metadata": {},
   "source": [
    "4. E'lon joylashtirish sanasi yo'q bo'lgan barcha qatorlarni o'chiring va tozalangan ma'lumotlar to'plamini saqlang."
   ]
  },
  {
   "cell_type": "code",
   "execution_count": null,
   "id": "abcc5664",
   "metadata": {},
   "outputs": [],
   "source": [
    "# Your code goes here\n"
   ]
  },
  {
   "cell_type": "markdown",
   "id": "3511d8e1",
   "metadata": {},
   "source": [
    "5. Выведите для обновлённого датафрейма количество пропущенных значений в дате размещения объявления о продаже."
   ]
  },
  {
   "cell_type": "markdown",
   "id": "1b5951bf",
   "metadata": {},
   "source": [
    "5. Tozalangan ma'lumotlar to'plamida e'lon joylashtirish sanasi ustunida qolgan yetishmayotgan qiymatlar sonini ko'rsating."
   ]
  },
  {
   "cell_type": "code",
   "execution_count": null,
   "id": "8b591c81",
   "metadata": {},
   "outputs": [],
   "source": [
    "# Your code goes here\n"
   ]
  },
  {
   "cell_type": "markdown",
   "id": "8f24b532",
   "metadata": {},
   "source": [
    "### Задача 3. Обработка пропусков в коробке передач\n",
    "1. Выведите количество значений для коробки передач, включая пропущенные значения. Обратите внимание на количество пропущенных значений.\n"
   ]
  },
  {
   "cell_type": "markdown",
   "id": "d423b0e6",
   "metadata": {},
   "source": [
    "Topshiriq 3. Uzatmalar qutisidagi yetishmayotgan qiymatlarni ishlash\n",
    "1. Uzatmalar qutisi ustunidagi qiymatlar sonini (yetishmayotgan qiymatlar bilan birga) chiqaring. Yetishmayotgan qiymatlar soniga alohida e'tibor bering."
   ]
  },
  {
   "cell_type": "code",
   "execution_count": null,
   "id": "722d4d8f",
   "metadata": {},
   "outputs": [],
   "source": [
    "# Your code goes here\n"
   ]
  },
  {
   "cell_type": "markdown",
   "id": "fd90896f",
   "metadata": {},
   "source": [
    "2. Выведите описательные статистики коробки передач.\n"
   ]
  },
  {
   "cell_type": "markdown",
   "id": "346f8117",
   "metadata": {},
   "source": [
    "2. Uzatmalar qutisi ustuni bo'yicha asosiy statistik ma'lumotlarni chiqaring."
   ]
  },
  {
   "cell_type": "code",
   "execution_count": null,
   "id": "0dd5d4a0",
   "metadata": {},
   "outputs": [],
   "source": [
    "# Your code goes here\n"
   ]
  },
  {
   "cell_type": "markdown",
   "id": "909ed418",
   "metadata": {},
   "source": [
    "3. Выведите записи, в которых коробка передач не заполнена. Посмотрите на данные и подумайте, какую стратегию обработки значений можно применить.\n"
   ]
  },
  {
   "cell_type": "markdown",
   "id": "188c969c",
   "metadata": {},
   "source": [
    "3. Uzatmalar qutisi kiritilmagan (yetishmayotgan) barcha yozuvlarni chiqaring va ularni ishlov berish strategiyasini tanlang."
   ]
  },
  {
   "cell_type": "code",
   "execution_count": null,
   "id": "ed70c3af",
   "metadata": {},
   "outputs": [],
   "source": [
    "# Your code goes here\n"
   ]
  },
  {
   "cell_type": "markdown",
   "id": "284dd223",
   "metadata": {},
   "source": [
    "4. Обработайте пропуски, заполнив незаполненные значения коробки передач значением `other`, и сохраните изменения. Обратите внимание, что мы заполняем пропуски не самым популярным значением в выборке.\n",
    "\n"
   ]
  },
  {
   "cell_type": "markdown",
   "id": "33a6eea8",
   "metadata": {},
   "source": [
    "4. Uzatmalar qutisi bo'sh bo'lgan qiymatlarni \"other\" deb belgilang va o'zgarishlarni saqlang."
   ]
  },
  {
   "cell_type": "code",
   "execution_count": null,
   "id": "d5ef1e18",
   "metadata": {},
   "outputs": [],
   "source": [
    "# Your code goes here\n"
   ]
  },
  {
   "cell_type": "markdown",
   "id": "9b60d6c0",
   "metadata": {},
   "source": [
    "5. Выведите для обновлённого датафрейма количество пропущенных значений для коробки передач."
   ]
  },
  {
   "cell_type": "markdown",
   "id": "9e40c515",
   "metadata": {},
   "source": [
    "5. \"other\" bilan to'ldirilgan yangi ma'lumotlar to'plamida uzatmalar qutisi ustunida qolgan yetishmayotgan qiymatlar sonini ko'rsating."
   ]
  },
  {
   "cell_type": "code",
   "execution_count": null,
   "id": "900c9ce8",
   "metadata": {},
   "outputs": [
    {
     "ename": "SyntaxError",
     "evalue": "unterminated string literal (detected at line 2) (3534827349.py, line 2)",
     "output_type": "error",
     "traceback": [
      "  \u001b[36mCell\u001b[39m\u001b[36m \u001b[39m\u001b[32mIn[27]\u001b[39m\u001b[32m, line 2\u001b[39m\n\u001b[31m    \u001b[39m\u001b[31mprint('Количество пропущенных значений в transmission:, ...)  # Допишите код\u001b[39m\n          ^\n\u001b[31mSyntaxError\u001b[39m\u001b[31m:\u001b[39m unterminated string literal (detected at line 2)\n"
     ]
    }
   ],
   "source": [
    "# Your code goes here\n",
    "print('Количество пропущенных значений в transmission:, ...)  # Допишите код"
   ]
  },
  {
   "cell_type": "markdown",
   "id": "475b22bd",
   "metadata": {},
   "source": [
    "### Задача 4. Обработка пропусков в широте и долготе\n",
    "1. Выведите количество значений для широты, включая пропущенные значения. Обратите внимание на количество пропущенных значений.\n"
   ]
  },
  {
   "cell_type": "markdown",
   "id": "3dd650d3",
   "metadata": {},
   "source": [
    "1. Kenglik (latitude) ustunidagi qiymatlar sonini (yetishmayotgan qiymatlar bilan birga) chiqaring. Yetishmayotgan qiymatlar soniga alohida e'tibor bering."
   ]
  },
  {
   "cell_type": "code",
   "execution_count": null,
   "id": "796ffc5c",
   "metadata": {},
   "outputs": [],
   "source": [
    "# Your code goes here\n"
   ]
  },
  {
   "cell_type": "markdown",
   "id": "72d77230",
   "metadata": {},
   "source": [
    "2. Выведите описательные статистики широты в выборке.\n"
   ]
  },
  {
   "cell_type": "markdown",
   "id": "95efc967",
   "metadata": {},
   "source": [
    "2. Kenglik ustuni boʻyicha asosiy statistik koʻrsatkichlarni chiqaring:"
   ]
  },
  {
   "cell_type": "code",
   "execution_count": null,
   "id": "68239b20",
   "metadata": {},
   "outputs": [],
   "source": [
    "# Your code goes here\n"
   ]
  },
  {
   "cell_type": "markdown",
   "id": "41d3239c",
   "metadata": {},
   "source": [
    "3. Выведите записи, в которых широта не заполнена. Посмотрите внимательно на данные и обратите внимание, что если не заполнена широта, то не заполнена и долгота.\n"
   ]
  },
  {
   "cell_type": "markdown",
   "id": "eda7a6f5",
   "metadata": {},
   "source": [
    "3. Kenglik qiymati kiritilmagan barcha yozuvlarni chiqaring. Diqqat qiling: agar kenglik kiritilmagan bo'lsa, uzunlik (longitude) ham kiritilmagan bo'ladi."
   ]
  },
  {
   "cell_type": "code",
   "execution_count": null,
   "id": "79874e79",
   "metadata": {},
   "outputs": [],
   "source": [
    "# Your code goes here\n"
   ]
  },
  {
   "cell_type": "markdown",
   "id": "055cd053",
   "metadata": {},
   "source": [
    "4. Необходимо убедиться, что долгота не заполнена только тогда, когда не заполнена широта. Выведите количество значений для долготы, включая пропущенные значения.\n"
   ]
  },
  {
   "cell_type": "markdown",
   "id": "b1cb5fac",
   "metadata": {},
   "source": [
    "4. Uzunlik ustunidagi qiymatlarni tekshiring va faqat kenglik kiritilmagan hollarda uzunlik ham kiritilmaganligiga ishonch hosil qiling."
   ]
  },
  {
   "cell_type": "code",
   "execution_count": null,
   "id": "d34e290d",
   "metadata": {},
   "outputs": [],
   "source": [
    "# Your code goes here\n"
   ]
  },
  {
   "cell_type": "markdown",
   "id": "0367e2b8",
   "metadata": {},
   "source": [
    "5. Выведите количество значений, в которых не заполнена или широта, или долгота.\n"
   ]
  },
  {
   "cell_type": "markdown",
   "id": "52e89f01",
   "metadata": {},
   "source": [
    "5. Kenglik (latitude) yoki uzunlik (longitude) kiritilmagan barcha yozuvlarning umumiy sonini chiqaring:"
   ]
  },
  {
   "cell_type": "code",
   "execution_count": null,
   "id": "0ff5b48e",
   "metadata": {},
   "outputs": [],
   "source": [
    "# Your code goes here\n"
   ]
  },
  {
   "cell_type": "markdown",
   "id": "706559fa",
   "metadata": {},
   "source": [
    "6. Обработайте пропуски, удалив записи, в которых широта или долгота не заполнены, и сохраните обновлённый датафрейм, а также выведите первые пять записей.\n",
    "\n",
    "*Подсказка*: обратите внимание на оператор ~ (тильда). Это операция not, которая часто применяется для инвертирования логических значений. Советуем заглянуть в [документацию](https://pandas.pydata.org/pandas-docs/stable/user_guide/indexing.html), чтобы получить представление о его работе на примерах использования."
   ]
  },
  {
   "cell_type": "markdown",
   "id": "580024c5",
   "metadata": {},
   "source": [
    "6. Kenglik yoki uzunlik kiritilmagan barcha yozuvlarni o'chiring va yangilangan ma'lumotlar to'plamini saqlang:"
   ]
  },
  {
   "cell_type": "code",
   "execution_count": null,
   "id": "d7670ed5",
   "metadata": {},
   "outputs": [],
   "source": [
    "# Your code goes here\n"
   ]
  },
  {
   "cell_type": "markdown",
   "id": "f653870f",
   "metadata": {},
   "source": [
    "7. Ещё раз выведите количество полностью заполненных объектов и их процент из всей выборки. Оставшиеся пропуски вы заполните позднее.\n"
   ]
  },
  {
   "cell_type": "markdown",
   "id": "e4631a7f",
   "metadata": {},
   "source": [
    "7. To'liq to'ldirilgan qatorlar sonini va foizini chiqaring (qolgan yetishmayotgan qiymatlarni keyinroq to'ldiramiz):"
   ]
  },
  {
   "cell_type": "code",
   "execution_count": null,
   "id": "d26d379a",
   "metadata": {},
   "outputs": [],
   "source": [
    "# Your code goes here\n"
   ]
  },
  {
   "cell_type": "markdown",
   "id": "48dc9169",
   "metadata": {},
   "source": [
    "8. Сохраните получившийся датафрейм в файл `df_clean_upd.csv` для дальнейшего использования, индекс не сохраняйте.\n"
   ]
  },
  {
   "cell_type": "markdown",
   "id": "704e640f",
   "metadata": {},
   "source": [
    "8. Yakuniy tozalangan ma'lumotlar to'plamini df_clean_upd.csv fayliga saqlang (indekssiz):"
   ]
  },
  {
   "cell_type": "code",
   "execution_count": null,
   "id": "d3e08078",
   "metadata": {},
   "outputs": [],
   "source": [
    "# Your code goes here\n"
   ]
  }
 ],
 "metadata": {
  "kernelspec": {
   "display_name": "Python 3",
   "language": "python",
   "name": "python3"
  },
  "language_info": {
   "codemirror_mode": {
    "name": "ipython",
    "version": 3
   },
   "file_extension": ".py",
   "mimetype": "text/x-python",
   "name": "python",
   "nbconvert_exporter": "python",
   "pygments_lexer": "ipython3",
   "version": "3.13.4"
  }
 },
 "nbformat": 4,
 "nbformat_minor": 5
}
