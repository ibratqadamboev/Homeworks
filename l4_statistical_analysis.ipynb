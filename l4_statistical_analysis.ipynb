{
 "cells": [
  {
   "cell_type": "markdown",
   "id": "c60becd8",
   "metadata": {},
   "source": [
    "### This jupyter notebook contains contents of the lesson \"Statistical analysis in Datasets\"\n",
    "\n",
    "**Author : Umidjon Sattorov. Machine Learning engineer**"
   ]
  },
  {
   "cell_type": "markdown",
   "id": "d350b8f8",
   "metadata": {},
   "source": [
    "____"
   ]
  },
  {
   "cell_type": "markdown",
   "id": "4e62d02b",
   "metadata": {},
   "source": [
    "Dataset information : "
   ]
  },
  {
   "cell_type": "markdown",
   "id": "66d05780",
   "metadata": {},
   "source": [
    "| Column          | English Description                                                           | Русское описание                                                                  | O'zbekcha tavsifi                                                         |\n",
    "| --------------- | ----------------------------------------------------------------------------- | --------------------------------------------------------------------------------- | ------------------------------------------------------------------------- |\n",
    "| **age**         | Age of the patient in days.                                                   | Возраст пациента в днях.                                                          | Bemor yoshi (kunlarda).                                                   |\n",
    "| **sex**         | Gender: `1` = Male, `2` = Female.                                             | Пол: `1` = Мужчина, `2` = Женщина.                                                | Jinsi: `1` = Erkak, `2` = Ayol.                                           |\n",
    "| **height**      | Height in centimeters.                                                        | Рост в сантиметрах.                                                               | Boʻy (sm da).                                                             |\n",
    "| **weight**      | Weight in kilograms.                                                          | Вес в килограммах.                                                                | Vazn (kg da).                                                             |\n",
    "| **ap\\_hi**      | Systolic blood pressure.                                                      | Систолическое давление.                                                           | Yuqori qon bosimi (sistolik).                                             |\n",
    "| **ap\\_lo**      | Diastolic blood pressure.                                                     | Диастолическое давление.                                                          | Pastki qon bosimi (diastolik).                                            |\n",
    "| **cholesterol** | Cholesterol level: `1` = Normal, `2` = Above normal, `3` = Well above normal. | Уровень холестерина: `1` = Нормальный, `2` = Повышенный, `3` = Сильно повышенный. | Xolesterin darajasi: `1` = Normal, `2` = Biroz yuqori, `3` = Juda yuqori. |\n",
    "| **gluc**        | Glucose level: same coding as cholesterol.                                    | Уровень глюкозы: те же значения, что и для холестерина.                           | Glyukoza darajasi: `1`, `2`, `3` — xuddi xolesterin kabi.                 |\n",
    "| **smoke**       | Smokes: `0` = No, `1` = Yes.                                                  | Курит: `0` = Нет, `1` = Да.                                                       | Chekadimi: `0` = Yoʻq, `1` = Ha.                                          |\n",
    "| **alco**        | Alcohol intake: `0` = No, `1` = Yes.                                          | Употребляет алкоголь: `0` = Нет, `1` = Да.                                        | Spirtli ichimlik ichadimi: `0` = Yoʻq, `1` = Ha.                          |\n",
    "| **active**      | Physically active: `0` = No, `1` = Yes.                                       | Физически активен: `0` = Нет, `1` = Да.                                           | Jismoniy faolmi: `0` = Yoʻq, `1` = Ha.                                    |\n",
    "| **cardio**      | Has cardiovascular disease: `0` = No, `1` = Yes.                              | Есть сердечно-сосудистое заболевание: `0` = Нет, `1` = Да.                        | Yurak-qon tomir kasalligi mavjudmi: `0` = Yoʻq, `1` = Ha.                 |\n"
   ]
  },
  {
   "cell_type": "markdown",
   "id": "30a488e0",
   "metadata": {},
   "source": [
    "___"
   ]
  },
  {
   "cell_type": "code",
   "execution_count": 8,
   "id": "9215bc8e",
   "metadata": {},
   "outputs": [],
   "source": [
    "import pandas as pd\n",
    "import numpy as np"
   ]
  },
  {
   "cell_type": "code",
   "execution_count": 9,
   "id": "da99d4fb",
   "metadata": {},
   "outputs": [
    {
     "data": {
      "text/html": [
       "<div>\n",
       "<style scoped>\n",
       "    .dataframe tbody tr th:only-of-type {\n",
       "        vertical-align: middle;\n",
       "    }\n",
       "\n",
       "    .dataframe tbody tr th {\n",
       "        vertical-align: top;\n",
       "    }\n",
       "\n",
       "    .dataframe thead th {\n",
       "        text-align: right;\n",
       "    }\n",
       "</style>\n",
       "<table border=\"1\" class=\"dataframe\">\n",
       "  <thead>\n",
       "    <tr style=\"text-align: right;\">\n",
       "      <th></th>\n",
       "      <th>id</th>\n",
       "      <th>age</th>\n",
       "      <th>sex</th>\n",
       "      <th>height</th>\n",
       "      <th>weight</th>\n",
       "      <th>ap_hi</th>\n",
       "      <th>ap_lo</th>\n",
       "      <th>cholesterol</th>\n",
       "      <th>gluc</th>\n",
       "      <th>smoke</th>\n",
       "      <th>alco</th>\n",
       "      <th>active</th>\n",
       "      <th>cardio</th>\n",
       "    </tr>\n",
       "  </thead>\n",
       "  <tbody>\n",
       "    <tr>\n",
       "      <th>0</th>\n",
       "      <td>0</td>\n",
       "      <td>18393</td>\n",
       "      <td>2</td>\n",
       "      <td>168</td>\n",
       "      <td>62.0</td>\n",
       "      <td>110</td>\n",
       "      <td>80</td>\n",
       "      <td>1</td>\n",
       "      <td>1</td>\n",
       "      <td>0</td>\n",
       "      <td>0</td>\n",
       "      <td>1</td>\n",
       "      <td>0</td>\n",
       "    </tr>\n",
       "    <tr>\n",
       "      <th>1</th>\n",
       "      <td>1</td>\n",
       "      <td>20228</td>\n",
       "      <td>1</td>\n",
       "      <td>156</td>\n",
       "      <td>85.0</td>\n",
       "      <td>140</td>\n",
       "      <td>90</td>\n",
       "      <td>3</td>\n",
       "      <td>1</td>\n",
       "      <td>0</td>\n",
       "      <td>0</td>\n",
       "      <td>1</td>\n",
       "      <td>1</td>\n",
       "    </tr>\n",
       "    <tr>\n",
       "      <th>2</th>\n",
       "      <td>2</td>\n",
       "      <td>18857</td>\n",
       "      <td>1</td>\n",
       "      <td>165</td>\n",
       "      <td>64.0</td>\n",
       "      <td>130</td>\n",
       "      <td>70</td>\n",
       "      <td>3</td>\n",
       "      <td>1</td>\n",
       "      <td>0</td>\n",
       "      <td>0</td>\n",
       "      <td>0</td>\n",
       "      <td>1</td>\n",
       "    </tr>\n",
       "    <tr>\n",
       "      <th>3</th>\n",
       "      <td>3</td>\n",
       "      <td>17623</td>\n",
       "      <td>2</td>\n",
       "      <td>169</td>\n",
       "      <td>82.0</td>\n",
       "      <td>150</td>\n",
       "      <td>100</td>\n",
       "      <td>1</td>\n",
       "      <td>1</td>\n",
       "      <td>0</td>\n",
       "      <td>0</td>\n",
       "      <td>1</td>\n",
       "      <td>1</td>\n",
       "    </tr>\n",
       "    <tr>\n",
       "      <th>4</th>\n",
       "      <td>4</td>\n",
       "      <td>17474</td>\n",
       "      <td>1</td>\n",
       "      <td>156</td>\n",
       "      <td>56.0</td>\n",
       "      <td>100</td>\n",
       "      <td>60</td>\n",
       "      <td>1</td>\n",
       "      <td>1</td>\n",
       "      <td>0</td>\n",
       "      <td>0</td>\n",
       "      <td>0</td>\n",
       "      <td>0</td>\n",
       "    </tr>\n",
       "  </tbody>\n",
       "</table>\n",
       "</div>"
      ],
      "text/plain": [
       "   id    age  sex  height  weight  ap_hi  ap_lo  cholesterol  gluc  smoke  \\\n",
       "0   0  18393    2     168    62.0    110     80            1     1      0   \n",
       "1   1  20228    1     156    85.0    140     90            3     1      0   \n",
       "2   2  18857    1     165    64.0    130     70            3     1      0   \n",
       "3   3  17623    2     169    82.0    150    100            1     1      0   \n",
       "4   4  17474    1     156    56.0    100     60            1     1      0   \n",
       "\n",
       "   alco  active  cardio  \n",
       "0     0       1       0  \n",
       "1     0       1       1  \n",
       "2     0       0       1  \n",
       "3     0       1       1  \n",
       "4     0       0       0  "
      ]
     },
     "execution_count": 9,
     "metadata": {},
     "output_type": "execute_result"
    }
   ],
   "source": [
    "# Reading dataframe\n",
    "df = pd.read_csv('./medical_examination.csv')\n",
    "df.head()"
   ]
  },
  {
   "cell_type": "code",
   "execution_count": 13,
   "id": "87759a6e",
   "metadata": {},
   "outputs": [
    {
     "data": {
      "text/plain": [
       "(70000, 13)"
      ]
     },
     "execution_count": 13,
     "metadata": {},
     "output_type": "execute_result"
    }
   ],
   "source": [
    "df.shape"
   ]
  },
  {
   "cell_type": "markdown",
   "id": "e7c28f4e",
   "metadata": {},
   "source": [
    "____"
   ]
  },
  {
   "cell_type": "markdown",
   "id": "15b1566b",
   "metadata": {},
   "source": [
    "### mean() - Average value of column"
   ]
  },
  {
   "cell_type": "code",
   "execution_count": null,
   "id": "e73f254f",
   "metadata": {},
   "outputs": [
    {
     "data": {
      "text/plain": [
       "np.float64(74.20569)"
      ]
     },
     "execution_count": 7,
     "metadata": {},
     "output_type": "execute_result"
    }
   ],
   "source": [
    "# Calculating average value of Weight\n",
    "df['weight'].mean()"
   ]
  },
  {
   "cell_type": "code",
   "execution_count": 7,
   "id": "2782d359",
   "metadata": {},
   "outputs": [
    {
     "data": {
      "text/html": [
       "<div>\n",
       "<style scoped>\n",
       "    .dataframe tbody tr th:only-of-type {\n",
       "        vertical-align: middle;\n",
       "    }\n",
       "\n",
       "    .dataframe tbody tr th {\n",
       "        vertical-align: top;\n",
       "    }\n",
       "\n",
       "    .dataframe thead th {\n",
       "        text-align: right;\n",
       "    }\n",
       "</style>\n",
       "<table border=\"1\" class=\"dataframe\">\n",
       "  <thead>\n",
       "    <tr style=\"text-align: right;\">\n",
       "      <th></th>\n",
       "      <th>id</th>\n",
       "      <th>age</th>\n",
       "      <th>sex</th>\n",
       "      <th>height</th>\n",
       "      <th>weight</th>\n",
       "      <th>ap_hi</th>\n",
       "      <th>ap_lo</th>\n",
       "      <th>cholesterol</th>\n",
       "      <th>gluc</th>\n",
       "      <th>smoke</th>\n",
       "      <th>alco</th>\n",
       "      <th>active</th>\n",
       "      <th>cardio</th>\n",
       "    </tr>\n",
       "  </thead>\n",
       "  <tbody>\n",
       "    <tr>\n",
       "      <th>1</th>\n",
       "      <td>1</td>\n",
       "      <td>20228</td>\n",
       "      <td>1</td>\n",
       "      <td>156</td>\n",
       "      <td>85.0</td>\n",
       "      <td>140</td>\n",
       "      <td>90</td>\n",
       "      <td>3</td>\n",
       "      <td>1</td>\n",
       "      <td>0</td>\n",
       "      <td>0</td>\n",
       "      <td>1</td>\n",
       "      <td>1</td>\n",
       "    </tr>\n",
       "    <tr>\n",
       "      <th>3</th>\n",
       "      <td>3</td>\n",
       "      <td>17623</td>\n",
       "      <td>2</td>\n",
       "      <td>169</td>\n",
       "      <td>82.0</td>\n",
       "      <td>150</td>\n",
       "      <td>100</td>\n",
       "      <td>1</td>\n",
       "      <td>1</td>\n",
       "      <td>0</td>\n",
       "      <td>0</td>\n",
       "      <td>1</td>\n",
       "      <td>1</td>\n",
       "    </tr>\n",
       "    <tr>\n",
       "      <th>6</th>\n",
       "      <td>9</td>\n",
       "      <td>22113</td>\n",
       "      <td>1</td>\n",
       "      <td>157</td>\n",
       "      <td>93.0</td>\n",
       "      <td>130</td>\n",
       "      <td>80</td>\n",
       "      <td>3</td>\n",
       "      <td>1</td>\n",
       "      <td>0</td>\n",
       "      <td>0</td>\n",
       "      <td>1</td>\n",
       "      <td>0</td>\n",
       "    </tr>\n",
       "    <tr>\n",
       "      <th>7</th>\n",
       "      <td>12</td>\n",
       "      <td>22584</td>\n",
       "      <td>2</td>\n",
       "      <td>178</td>\n",
       "      <td>95.0</td>\n",
       "      <td>130</td>\n",
       "      <td>90</td>\n",
       "      <td>3</td>\n",
       "      <td>3</td>\n",
       "      <td>0</td>\n",
       "      <td>0</td>\n",
       "      <td>1</td>\n",
       "      <td>1</td>\n",
       "    </tr>\n",
       "    <tr>\n",
       "      <th>10</th>\n",
       "      <td>15</td>\n",
       "      <td>22530</td>\n",
       "      <td>1</td>\n",
       "      <td>169</td>\n",
       "      <td>80.0</td>\n",
       "      <td>120</td>\n",
       "      <td>80</td>\n",
       "      <td>1</td>\n",
       "      <td>1</td>\n",
       "      <td>0</td>\n",
       "      <td>0</td>\n",
       "      <td>1</td>\n",
       "      <td>0</td>\n",
       "    </tr>\n",
       "    <tr>\n",
       "      <th>...</th>\n",
       "      <td>...</td>\n",
       "      <td>...</td>\n",
       "      <td>...</td>\n",
       "      <td>...</td>\n",
       "      <td>...</td>\n",
       "      <td>...</td>\n",
       "      <td>...</td>\n",
       "      <td>...</td>\n",
       "      <td>...</td>\n",
       "      <td>...</td>\n",
       "      <td>...</td>\n",
       "      <td>...</td>\n",
       "      <td>...</td>\n",
       "    </tr>\n",
       "    <tr>\n",
       "      <th>69989</th>\n",
       "      <td>99985</td>\n",
       "      <td>21013</td>\n",
       "      <td>1</td>\n",
       "      <td>157</td>\n",
       "      <td>83.0</td>\n",
       "      <td>120</td>\n",
       "      <td>70</td>\n",
       "      <td>1</td>\n",
       "      <td>1</td>\n",
       "      <td>0</td>\n",
       "      <td>0</td>\n",
       "      <td>1</td>\n",
       "      <td>1</td>\n",
       "    </tr>\n",
       "    <tr>\n",
       "      <th>69994</th>\n",
       "      <td>99992</td>\n",
       "      <td>21074</td>\n",
       "      <td>1</td>\n",
       "      <td>165</td>\n",
       "      <td>80.0</td>\n",
       "      <td>150</td>\n",
       "      <td>80</td>\n",
       "      <td>1</td>\n",
       "      <td>1</td>\n",
       "      <td>0</td>\n",
       "      <td>0</td>\n",
       "      <td>1</td>\n",
       "      <td>1</td>\n",
       "    </tr>\n",
       "    <tr>\n",
       "      <th>69995</th>\n",
       "      <td>99993</td>\n",
       "      <td>19240</td>\n",
       "      <td>2</td>\n",
       "      <td>168</td>\n",
       "      <td>76.0</td>\n",
       "      <td>120</td>\n",
       "      <td>80</td>\n",
       "      <td>1</td>\n",
       "      <td>1</td>\n",
       "      <td>1</td>\n",
       "      <td>0</td>\n",
       "      <td>1</td>\n",
       "      <td>0</td>\n",
       "    </tr>\n",
       "    <tr>\n",
       "      <th>69996</th>\n",
       "      <td>99995</td>\n",
       "      <td>22601</td>\n",
       "      <td>1</td>\n",
       "      <td>158</td>\n",
       "      <td>126.0</td>\n",
       "      <td>140</td>\n",
       "      <td>90</td>\n",
       "      <td>2</td>\n",
       "      <td>2</td>\n",
       "      <td>0</td>\n",
       "      <td>0</td>\n",
       "      <td>1</td>\n",
       "      <td>1</td>\n",
       "    </tr>\n",
       "    <tr>\n",
       "      <th>69997</th>\n",
       "      <td>99996</td>\n",
       "      <td>19066</td>\n",
       "      <td>2</td>\n",
       "      <td>183</td>\n",
       "      <td>105.0</td>\n",
       "      <td>180</td>\n",
       "      <td>90</td>\n",
       "      <td>3</td>\n",
       "      <td>1</td>\n",
       "      <td>0</td>\n",
       "      <td>1</td>\n",
       "      <td>0</td>\n",
       "      <td>1</td>\n",
       "    </tr>\n",
       "  </tbody>\n",
       "</table>\n",
       "<p>30303 rows × 13 columns</p>\n",
       "</div>"
      ],
      "text/plain": [
       "          id    age  sex  height  weight  ap_hi  ap_lo  cholesterol  gluc  \\\n",
       "1          1  20228    1     156    85.0    140     90            3     1   \n",
       "3          3  17623    2     169    82.0    150    100            1     1   \n",
       "6          9  22113    1     157    93.0    130     80            3     1   \n",
       "7         12  22584    2     178    95.0    130     90            3     3   \n",
       "10        15  22530    1     169    80.0    120     80            1     1   \n",
       "...      ...    ...  ...     ...     ...    ...    ...          ...   ...   \n",
       "69989  99985  21013    1     157    83.0    120     70            1     1   \n",
       "69994  99992  21074    1     165    80.0    150     80            1     1   \n",
       "69995  99993  19240    2     168    76.0    120     80            1     1   \n",
       "69996  99995  22601    1     158   126.0    140     90            2     2   \n",
       "69997  99996  19066    2     183   105.0    180     90            3     1   \n",
       "\n",
       "       smoke  alco  active  cardio  \n",
       "1          0     0       1       1  \n",
       "3          0     0       1       1  \n",
       "6          0     0       1       0  \n",
       "7          0     0       1       1  \n",
       "10         0     0       1       0  \n",
       "...      ...   ...     ...     ...  \n",
       "69989      0     0       1       1  \n",
       "69994      0     0       1       1  \n",
       "69995      1     0       1       0  \n",
       "69996      0     0       1       1  \n",
       "69997      0     1       0       1  \n",
       "\n",
       "[30303 rows x 13 columns]"
      ]
     },
     "execution_count": 7,
     "metadata": {},
     "output_type": "execute_result"
    }
   ],
   "source": [
    "df[df['weight'] > df['weight'].mean()]"
   ]
  },
  {
   "cell_type": "code",
   "execution_count": 8,
   "id": "ed2b641e",
   "metadata": {},
   "outputs": [],
   "source": [
    "mean_weight = df['weight'].mean()"
   ]
  },
  {
   "cell_type": "code",
   "execution_count": 9,
   "id": "0af42734",
   "metadata": {},
   "outputs": [],
   "source": [
    "mean_height = df['weight'].mean()\n",
    "mean_ap_hi = df['ap_hi'].mean()"
   ]
  },
  {
   "cell_type": "code",
   "execution_count": 10,
   "id": "913232a3",
   "metadata": {},
   "outputs": [
    {
     "data": {
      "text/plain": [
       "id             49972.419900\n",
       "age            19468.865814\n",
       "sex                1.349843\n",
       "height           164.359229\n",
       "weight            74.205690\n",
       "ap_hi            128.817286\n",
       "ap_lo             96.630414\n",
       "cholesterol        1.366871\n",
       "gluc               1.226457\n",
       "smoke              0.088129\n",
       "alco               0.053771\n",
       "active             0.803729\n",
       "cardio             0.499700\n",
       "dtype: float64"
      ]
     },
     "execution_count": 10,
     "metadata": {},
     "output_type": "execute_result"
    }
   ],
   "source": [
    "# Calculating all mean values\n",
    "df.mean()"
   ]
  },
  {
   "cell_type": "code",
   "execution_count": 15,
   "id": "137eb9dc",
   "metadata": {},
   "outputs": [],
   "source": [
    "age = df['age']/365"
   ]
  },
  {
   "cell_type": "code",
   "execution_count": 18,
   "id": "d4b64830",
   "metadata": {},
   "outputs": [
    {
     "data": {
      "text/plain": [
       "np.float64(53.33935839530332)"
      ]
     },
     "execution_count": 18,
     "metadata": {},
     "output_type": "execute_result"
    }
   ],
   "source": [
    "df[\"age\"].mean()/365"
   ]
  },
  {
   "cell_type": "code",
   "execution_count": 19,
   "id": "8b31b5cd",
   "metadata": {},
   "outputs": [
    {
     "data": {
      "text/plain": [
       "np.float64(53.33935839530333)"
      ]
     },
     "execution_count": 19,
     "metadata": {},
     "output_type": "execute_result"
    }
   ],
   "source": [
    "age.mean()"
   ]
  },
  {
   "cell_type": "markdown",
   "id": "a9299eb7",
   "metadata": {},
   "source": [
    "**Task**"
   ]
  },
  {
   "cell_type": "markdown",
   "id": "2fb8505d",
   "metadata": {},
   "source": [
    "1. Calculate mean value of age in years"
   ]
  },
  {
   "cell_type": "code",
   "execution_count": 24,
   "id": "90fada4f",
   "metadata": {},
   "outputs": [
    {
     "data": {
      "text/plain": [
       "np.float64(53.33935839530332)"
      ]
     },
     "execution_count": 24,
     "metadata": {},
     "output_type": "execute_result"
    }
   ],
   "source": [
    "# Your code goes here\n",
    "df[\"age\"].mean()/365"
   ]
  },
  {
   "cell_type": "markdown",
   "id": "8d8d950c",
   "metadata": {},
   "source": [
    "2. Show the only rows of information where people have higher weight than average weight of the data."
   ]
  },
  {
   "cell_type": "code",
   "execution_count": 22,
   "id": "577bc97b",
   "metadata": {},
   "outputs": [
    {
     "data": {
      "text/html": [
       "<div>\n",
       "<style scoped>\n",
       "    .dataframe tbody tr th:only-of-type {\n",
       "        vertical-align: middle;\n",
       "    }\n",
       "\n",
       "    .dataframe tbody tr th {\n",
       "        vertical-align: top;\n",
       "    }\n",
       "\n",
       "    .dataframe thead th {\n",
       "        text-align: right;\n",
       "    }\n",
       "</style>\n",
       "<table border=\"1\" class=\"dataframe\">\n",
       "  <thead>\n",
       "    <tr style=\"text-align: right;\">\n",
       "      <th></th>\n",
       "      <th>id</th>\n",
       "      <th>age</th>\n",
       "      <th>sex</th>\n",
       "      <th>height</th>\n",
       "      <th>weight</th>\n",
       "      <th>ap_hi</th>\n",
       "      <th>ap_lo</th>\n",
       "      <th>cholesterol</th>\n",
       "      <th>gluc</th>\n",
       "      <th>smoke</th>\n",
       "      <th>alco</th>\n",
       "      <th>active</th>\n",
       "      <th>cardio</th>\n",
       "    </tr>\n",
       "  </thead>\n",
       "  <tbody>\n",
       "    <tr>\n",
       "      <th>1</th>\n",
       "      <td>1</td>\n",
       "      <td>20228</td>\n",
       "      <td>1</td>\n",
       "      <td>156</td>\n",
       "      <td>85.0</td>\n",
       "      <td>140</td>\n",
       "      <td>90</td>\n",
       "      <td>3</td>\n",
       "      <td>1</td>\n",
       "      <td>0</td>\n",
       "      <td>0</td>\n",
       "      <td>1</td>\n",
       "      <td>1</td>\n",
       "    </tr>\n",
       "    <tr>\n",
       "      <th>3</th>\n",
       "      <td>3</td>\n",
       "      <td>17623</td>\n",
       "      <td>2</td>\n",
       "      <td>169</td>\n",
       "      <td>82.0</td>\n",
       "      <td>150</td>\n",
       "      <td>100</td>\n",
       "      <td>1</td>\n",
       "      <td>1</td>\n",
       "      <td>0</td>\n",
       "      <td>0</td>\n",
       "      <td>1</td>\n",
       "      <td>1</td>\n",
       "    </tr>\n",
       "    <tr>\n",
       "      <th>6</th>\n",
       "      <td>9</td>\n",
       "      <td>22113</td>\n",
       "      <td>1</td>\n",
       "      <td>157</td>\n",
       "      <td>93.0</td>\n",
       "      <td>130</td>\n",
       "      <td>80</td>\n",
       "      <td>3</td>\n",
       "      <td>1</td>\n",
       "      <td>0</td>\n",
       "      <td>0</td>\n",
       "      <td>1</td>\n",
       "      <td>0</td>\n",
       "    </tr>\n",
       "    <tr>\n",
       "      <th>7</th>\n",
       "      <td>12</td>\n",
       "      <td>22584</td>\n",
       "      <td>2</td>\n",
       "      <td>178</td>\n",
       "      <td>95.0</td>\n",
       "      <td>130</td>\n",
       "      <td>90</td>\n",
       "      <td>3</td>\n",
       "      <td>3</td>\n",
       "      <td>0</td>\n",
       "      <td>0</td>\n",
       "      <td>1</td>\n",
       "      <td>1</td>\n",
       "    </tr>\n",
       "    <tr>\n",
       "      <th>10</th>\n",
       "      <td>15</td>\n",
       "      <td>22530</td>\n",
       "      <td>1</td>\n",
       "      <td>169</td>\n",
       "      <td>80.0</td>\n",
       "      <td>120</td>\n",
       "      <td>80</td>\n",
       "      <td>1</td>\n",
       "      <td>1</td>\n",
       "      <td>0</td>\n",
       "      <td>0</td>\n",
       "      <td>1</td>\n",
       "      <td>0</td>\n",
       "    </tr>\n",
       "    <tr>\n",
       "      <th>...</th>\n",
       "      <td>...</td>\n",
       "      <td>...</td>\n",
       "      <td>...</td>\n",
       "      <td>...</td>\n",
       "      <td>...</td>\n",
       "      <td>...</td>\n",
       "      <td>...</td>\n",
       "      <td>...</td>\n",
       "      <td>...</td>\n",
       "      <td>...</td>\n",
       "      <td>...</td>\n",
       "      <td>...</td>\n",
       "      <td>...</td>\n",
       "    </tr>\n",
       "    <tr>\n",
       "      <th>69989</th>\n",
       "      <td>99985</td>\n",
       "      <td>21013</td>\n",
       "      <td>1</td>\n",
       "      <td>157</td>\n",
       "      <td>83.0</td>\n",
       "      <td>120</td>\n",
       "      <td>70</td>\n",
       "      <td>1</td>\n",
       "      <td>1</td>\n",
       "      <td>0</td>\n",
       "      <td>0</td>\n",
       "      <td>1</td>\n",
       "      <td>1</td>\n",
       "    </tr>\n",
       "    <tr>\n",
       "      <th>69994</th>\n",
       "      <td>99992</td>\n",
       "      <td>21074</td>\n",
       "      <td>1</td>\n",
       "      <td>165</td>\n",
       "      <td>80.0</td>\n",
       "      <td>150</td>\n",
       "      <td>80</td>\n",
       "      <td>1</td>\n",
       "      <td>1</td>\n",
       "      <td>0</td>\n",
       "      <td>0</td>\n",
       "      <td>1</td>\n",
       "      <td>1</td>\n",
       "    </tr>\n",
       "    <tr>\n",
       "      <th>69995</th>\n",
       "      <td>99993</td>\n",
       "      <td>19240</td>\n",
       "      <td>2</td>\n",
       "      <td>168</td>\n",
       "      <td>76.0</td>\n",
       "      <td>120</td>\n",
       "      <td>80</td>\n",
       "      <td>1</td>\n",
       "      <td>1</td>\n",
       "      <td>1</td>\n",
       "      <td>0</td>\n",
       "      <td>1</td>\n",
       "      <td>0</td>\n",
       "    </tr>\n",
       "    <tr>\n",
       "      <th>69996</th>\n",
       "      <td>99995</td>\n",
       "      <td>22601</td>\n",
       "      <td>1</td>\n",
       "      <td>158</td>\n",
       "      <td>126.0</td>\n",
       "      <td>140</td>\n",
       "      <td>90</td>\n",
       "      <td>2</td>\n",
       "      <td>2</td>\n",
       "      <td>0</td>\n",
       "      <td>0</td>\n",
       "      <td>1</td>\n",
       "      <td>1</td>\n",
       "    </tr>\n",
       "    <tr>\n",
       "      <th>69997</th>\n",
       "      <td>99996</td>\n",
       "      <td>19066</td>\n",
       "      <td>2</td>\n",
       "      <td>183</td>\n",
       "      <td>105.0</td>\n",
       "      <td>180</td>\n",
       "      <td>90</td>\n",
       "      <td>3</td>\n",
       "      <td>1</td>\n",
       "      <td>0</td>\n",
       "      <td>1</td>\n",
       "      <td>0</td>\n",
       "      <td>1</td>\n",
       "    </tr>\n",
       "  </tbody>\n",
       "</table>\n",
       "<p>30303 rows × 13 columns</p>\n",
       "</div>"
      ],
      "text/plain": [
       "          id    age  sex  height  weight  ap_hi  ap_lo  cholesterol  gluc  \\\n",
       "1          1  20228    1     156    85.0    140     90            3     1   \n",
       "3          3  17623    2     169    82.0    150    100            1     1   \n",
       "6          9  22113    1     157    93.0    130     80            3     1   \n",
       "7         12  22584    2     178    95.0    130     90            3     3   \n",
       "10        15  22530    1     169    80.0    120     80            1     1   \n",
       "...      ...    ...  ...     ...     ...    ...    ...          ...   ...   \n",
       "69989  99985  21013    1     157    83.0    120     70            1     1   \n",
       "69994  99992  21074    1     165    80.0    150     80            1     1   \n",
       "69995  99993  19240    2     168    76.0    120     80            1     1   \n",
       "69996  99995  22601    1     158   126.0    140     90            2     2   \n",
       "69997  99996  19066    2     183   105.0    180     90            3     1   \n",
       "\n",
       "       smoke  alco  active  cardio  \n",
       "1          0     0       1       1  \n",
       "3          0     0       1       1  \n",
       "6          0     0       1       0  \n",
       "7          0     0       1       1  \n",
       "10         0     0       1       0  \n",
       "...      ...   ...     ...     ...  \n",
       "69989      0     0       1       1  \n",
       "69994      0     0       1       1  \n",
       "69995      1     0       1       0  \n",
       "69996      0     0       1       1  \n",
       "69997      0     1       0       1  \n",
       "\n",
       "[30303 rows x 13 columns]"
      ]
     },
     "execution_count": 22,
     "metadata": {},
     "output_type": "execute_result"
    }
   ],
   "source": [
    "# Your code goes here\n",
    "df[df['weight'] > df['weight'].mean()]"
   ]
  },
  {
   "cell_type": "markdown",
   "id": "6a4b8f6e",
   "metadata": {},
   "source": [
    "3. Show the rows of information where people have less height than the average height of the data."
   ]
  },
  {
   "cell_type": "code",
   "execution_count": 21,
   "id": "a19304af",
   "metadata": {},
   "outputs": [
    {
     "data": {
      "text/html": [
       "<div>\n",
       "<style scoped>\n",
       "    .dataframe tbody tr th:only-of-type {\n",
       "        vertical-align: middle;\n",
       "    }\n",
       "\n",
       "    .dataframe tbody tr th {\n",
       "        vertical-align: top;\n",
       "    }\n",
       "\n",
       "    .dataframe thead th {\n",
       "        text-align: right;\n",
       "    }\n",
       "</style>\n",
       "<table border=\"1\" class=\"dataframe\">\n",
       "  <thead>\n",
       "    <tr style=\"text-align: right;\">\n",
       "      <th></th>\n",
       "      <th>id</th>\n",
       "      <th>age</th>\n",
       "      <th>sex</th>\n",
       "      <th>height</th>\n",
       "      <th>weight</th>\n",
       "      <th>ap_hi</th>\n",
       "      <th>ap_lo</th>\n",
       "      <th>cholesterol</th>\n",
       "      <th>gluc</th>\n",
       "      <th>smoke</th>\n",
       "      <th>alco</th>\n",
       "      <th>active</th>\n",
       "      <th>cardio</th>\n",
       "    </tr>\n",
       "  </thead>\n",
       "  <tbody>\n",
       "    <tr>\n",
       "      <th>1</th>\n",
       "      <td>1</td>\n",
       "      <td>20228</td>\n",
       "      <td>1</td>\n",
       "      <td>156</td>\n",
       "      <td>85.0</td>\n",
       "      <td>140</td>\n",
       "      <td>90</td>\n",
       "      <td>3</td>\n",
       "      <td>1</td>\n",
       "      <td>0</td>\n",
       "      <td>0</td>\n",
       "      <td>1</td>\n",
       "      <td>1</td>\n",
       "    </tr>\n",
       "    <tr>\n",
       "      <th>4</th>\n",
       "      <td>4</td>\n",
       "      <td>17474</td>\n",
       "      <td>1</td>\n",
       "      <td>156</td>\n",
       "      <td>56.0</td>\n",
       "      <td>100</td>\n",
       "      <td>60</td>\n",
       "      <td>1</td>\n",
       "      <td>1</td>\n",
       "      <td>0</td>\n",
       "      <td>0</td>\n",
       "      <td>0</td>\n",
       "      <td>0</td>\n",
       "    </tr>\n",
       "    <tr>\n",
       "      <th>5</th>\n",
       "      <td>8</td>\n",
       "      <td>21914</td>\n",
       "      <td>1</td>\n",
       "      <td>151</td>\n",
       "      <td>67.0</td>\n",
       "      <td>120</td>\n",
       "      <td>80</td>\n",
       "      <td>2</td>\n",
       "      <td>2</td>\n",
       "      <td>0</td>\n",
       "      <td>0</td>\n",
       "      <td>0</td>\n",
       "      <td>0</td>\n",
       "    </tr>\n",
       "    <tr>\n",
       "      <th>6</th>\n",
       "      <td>9</td>\n",
       "      <td>22113</td>\n",
       "      <td>1</td>\n",
       "      <td>157</td>\n",
       "      <td>93.0</td>\n",
       "      <td>130</td>\n",
       "      <td>80</td>\n",
       "      <td>3</td>\n",
       "      <td>1</td>\n",
       "      <td>0</td>\n",
       "      <td>0</td>\n",
       "      <td>1</td>\n",
       "      <td>0</td>\n",
       "    </tr>\n",
       "    <tr>\n",
       "      <th>8</th>\n",
       "      <td>13</td>\n",
       "      <td>17668</td>\n",
       "      <td>1</td>\n",
       "      <td>158</td>\n",
       "      <td>71.0</td>\n",
       "      <td>110</td>\n",
       "      <td>70</td>\n",
       "      <td>1</td>\n",
       "      <td>1</td>\n",
       "      <td>0</td>\n",
       "      <td>0</td>\n",
       "      <td>1</td>\n",
       "      <td>0</td>\n",
       "    </tr>\n",
       "    <tr>\n",
       "      <th>...</th>\n",
       "      <td>...</td>\n",
       "      <td>...</td>\n",
       "      <td>...</td>\n",
       "      <td>...</td>\n",
       "      <td>...</td>\n",
       "      <td>...</td>\n",
       "      <td>...</td>\n",
       "      <td>...</td>\n",
       "      <td>...</td>\n",
       "      <td>...</td>\n",
       "      <td>...</td>\n",
       "      <td>...</td>\n",
       "      <td>...</td>\n",
       "    </tr>\n",
       "    <tr>\n",
       "      <th>69989</th>\n",
       "      <td>99985</td>\n",
       "      <td>21013</td>\n",
       "      <td>1</td>\n",
       "      <td>157</td>\n",
       "      <td>83.0</td>\n",
       "      <td>120</td>\n",
       "      <td>70</td>\n",
       "      <td>1</td>\n",
       "      <td>1</td>\n",
       "      <td>0</td>\n",
       "      <td>0</td>\n",
       "      <td>1</td>\n",
       "      <td>1</td>\n",
       "    </tr>\n",
       "    <tr>\n",
       "      <th>69991</th>\n",
       "      <td>99988</td>\n",
       "      <td>20609</td>\n",
       "      <td>1</td>\n",
       "      <td>159</td>\n",
       "      <td>72.0</td>\n",
       "      <td>130</td>\n",
       "      <td>90</td>\n",
       "      <td>2</td>\n",
       "      <td>2</td>\n",
       "      <td>0</td>\n",
       "      <td>0</td>\n",
       "      <td>1</td>\n",
       "      <td>0</td>\n",
       "    </tr>\n",
       "    <tr>\n",
       "      <th>69992</th>\n",
       "      <td>99990</td>\n",
       "      <td>18792</td>\n",
       "      <td>1</td>\n",
       "      <td>161</td>\n",
       "      <td>56.0</td>\n",
       "      <td>170</td>\n",
       "      <td>90</td>\n",
       "      <td>1</td>\n",
       "      <td>1</td>\n",
       "      <td>0</td>\n",
       "      <td>0</td>\n",
       "      <td>1</td>\n",
       "      <td>1</td>\n",
       "    </tr>\n",
       "    <tr>\n",
       "      <th>69996</th>\n",
       "      <td>99995</td>\n",
       "      <td>22601</td>\n",
       "      <td>1</td>\n",
       "      <td>158</td>\n",
       "      <td>126.0</td>\n",
       "      <td>140</td>\n",
       "      <td>90</td>\n",
       "      <td>2</td>\n",
       "      <td>2</td>\n",
       "      <td>0</td>\n",
       "      <td>0</td>\n",
       "      <td>1</td>\n",
       "      <td>1</td>\n",
       "    </tr>\n",
       "    <tr>\n",
       "      <th>69998</th>\n",
       "      <td>99998</td>\n",
       "      <td>22431</td>\n",
       "      <td>1</td>\n",
       "      <td>163</td>\n",
       "      <td>72.0</td>\n",
       "      <td>135</td>\n",
       "      <td>80</td>\n",
       "      <td>1</td>\n",
       "      <td>2</td>\n",
       "      <td>0</td>\n",
       "      <td>0</td>\n",
       "      <td>0</td>\n",
       "      <td>1</td>\n",
       "    </tr>\n",
       "  </tbody>\n",
       "</table>\n",
       "<p>34426 rows × 13 columns</p>\n",
       "</div>"
      ],
      "text/plain": [
       "          id    age  sex  height  weight  ap_hi  ap_lo  cholesterol  gluc  \\\n",
       "1          1  20228    1     156    85.0    140     90            3     1   \n",
       "4          4  17474    1     156    56.0    100     60            1     1   \n",
       "5          8  21914    1     151    67.0    120     80            2     2   \n",
       "6          9  22113    1     157    93.0    130     80            3     1   \n",
       "8         13  17668    1     158    71.0    110     70            1     1   \n",
       "...      ...    ...  ...     ...     ...    ...    ...          ...   ...   \n",
       "69989  99985  21013    1     157    83.0    120     70            1     1   \n",
       "69991  99988  20609    1     159    72.0    130     90            2     2   \n",
       "69992  99990  18792    1     161    56.0    170     90            1     1   \n",
       "69996  99995  22601    1     158   126.0    140     90            2     2   \n",
       "69998  99998  22431    1     163    72.0    135     80            1     2   \n",
       "\n",
       "       smoke  alco  active  cardio  \n",
       "1          0     0       1       1  \n",
       "4          0     0       0       0  \n",
       "5          0     0       0       0  \n",
       "6          0     0       1       0  \n",
       "8          0     0       1       0  \n",
       "...      ...   ...     ...     ...  \n",
       "69989      0     0       1       1  \n",
       "69991      0     0       1       0  \n",
       "69992      0     0       1       1  \n",
       "69996      0     0       1       1  \n",
       "69998      0     0       0       1  \n",
       "\n",
       "[34426 rows x 13 columns]"
      ]
     },
     "execution_count": 21,
     "metadata": {},
     "output_type": "execute_result"
    }
   ],
   "source": [
    "# Your code goes here\n",
    "df[df['height'] < df['height'].mean()]"
   ]
  },
  {
   "cell_type": "markdown",
   "id": "0e600e36",
   "metadata": {},
   "source": [
    "HM : 4. Show the rows of information where people have higher high Arterial Pressure than average high arterial pressure and lower low arterial pressure than low arterial pressure.\n"
   ]
  },
  {
   "cell_type": "code",
   "execution_count": null,
   "id": "3e63e998",
   "metadata": {},
   "outputs": [],
   "source": [
    "# Your code goes here\n"
   ]
  },
  {
   "cell_type": "markdown",
   "id": "e0c8645a",
   "metadata": {},
   "source": [
    "___"
   ]
  },
  {
   "cell_type": "markdown",
   "id": "82cf60c2",
   "metadata": {},
   "source": [
    "### sum() "
   ]
  },
  {
   "cell_type": "markdown",
   "id": "65503919",
   "metadata": {},
   "source": [
    "Question : How would you find the number of smokers from the dataset."
   ]
  },
  {
   "cell_type": "code",
   "execution_count": 12,
   "id": "54fe5e08",
   "metadata": {},
   "outputs": [
    {
     "data": {
      "text/plain": [
       "np.int64(6169)"
      ]
     },
     "execution_count": 12,
     "metadata": {},
     "output_type": "execute_result"
    }
   ],
   "source": [
    "# Calculating sum for given column\n",
    "df['smoke'].sum()"
   ]
  },
  {
   "cell_type": "code",
   "execution_count": 14,
   "id": "894564d2",
   "metadata": {},
   "outputs": [
    {
     "data": {
      "text/plain": [
       "smoke    6169\n",
       "alco     3764\n",
       "dtype: int64"
      ]
     },
     "execution_count": 14,
     "metadata": {},
     "output_type": "execute_result"
    }
   ],
   "source": [
    "# More than one column\n",
    "df[['smoke', 'alco']].sum()"
   ]
  },
  {
   "cell_type": "code",
   "execution_count": 15,
   "id": "e5735fb0",
   "metadata": {},
   "outputs": [
    {
     "data": {
      "text/plain": [
       "id             3.498069e+09\n",
       "age            1.362821e+09\n",
       "sex            9.448900e+04\n",
       "height         1.150515e+07\n",
       "weight         5.194398e+06\n",
       "ap_hi          9.017210e+06\n",
       "ap_lo          6.764129e+06\n",
       "cholesterol    9.568100e+04\n",
       "gluc           8.585200e+04\n",
       "smoke          6.169000e+03\n",
       "alco           3.764000e+03\n",
       "active         5.626100e+04\n",
       "cardio         3.497900e+04\n",
       "dtype: float64"
      ]
     },
     "execution_count": 15,
     "metadata": {},
     "output_type": "execute_result"
    }
   ],
   "source": [
    "# Full calculation\n",
    "df.sum()"
   ]
  },
  {
   "cell_type": "markdown",
   "id": "52a3cc5d",
   "metadata": {},
   "source": [
    "**Tasks**\n",
    "\n",
    "1. Calculate how many people in the dataset drink alcohol.\n",
    "\n",
    "2. Calculate how many people in the dataset have problem with their cardio.\n",
    "\n",
    "3. Calculate the number of active people in the dataset."
   ]
  },
  {
   "cell_type": "code",
   "execution_count": 32,
   "id": "0ed181f3",
   "metadata": {},
   "outputs": [
    {
     "data": {
      "text/plain": [
       "alco       3764\n",
       "cardio    34979\n",
       "active    56261\n",
       "dtype: int64"
      ]
     },
     "execution_count": 32,
     "metadata": {},
     "output_type": "execute_result"
    }
   ],
   "source": [
    "# Your code goes here\n",
    "df[['alco', 'cardio', 'active']].sum()"
   ]
  },
  {
   "cell_type": "code",
   "execution_count": null,
   "id": "8cabdda2",
   "metadata": {},
   "outputs": [
    {
     "data": {
      "text/plain": [
       "np.int64(3764)"
      ]
     },
     "execution_count": 29,
     "metadata": {},
     "output_type": "execute_result"
    }
   ],
   "source": [
    "#alco\n",
    "df['alco'].sum()"
   ]
  },
  {
   "cell_type": "code",
   "execution_count": null,
   "id": "0827ffd1",
   "metadata": {},
   "outputs": [
    {
     "data": {
      "text/plain": [
       "np.int64(34979)"
      ]
     },
     "execution_count": 31,
     "metadata": {},
     "output_type": "execute_result"
    }
   ],
   "source": [
    "#cardio\n",
    "df['cardio'].sum()"
   ]
  },
  {
   "cell_type": "code",
   "execution_count": null,
   "id": "2b301448",
   "metadata": {},
   "outputs": [
    {
     "data": {
      "text/plain": [
       "np.int64(56261)"
      ]
     },
     "execution_count": 30,
     "metadata": {},
     "output_type": "execute_result"
    }
   ],
   "source": [
    "#active\n",
    "df['active'].sum()"
   ]
  },
  {
   "cell_type": "markdown",
   "id": "aa9442cc",
   "metadata": {},
   "source": [
    "___"
   ]
  },
  {
   "cell_type": "markdown",
   "id": "28b163fb",
   "metadata": {},
   "source": [
    "### max(), min()"
   ]
  },
  {
   "cell_type": "code",
   "execution_count": 16,
   "id": "d115aaf2",
   "metadata": {},
   "outputs": [
    {
     "data": {
      "text/plain": [
       "np.int64(16020)"
      ]
     },
     "execution_count": 16,
     "metadata": {},
     "output_type": "execute_result"
    }
   ],
   "source": [
    "# Calculating highest artellery pressure of the humans in the dataset\n",
    "df['ap_hi'].max()"
   ]
  },
  {
   "cell_type": "code",
   "execution_count": 17,
   "id": "82ea6132",
   "metadata": {},
   "outputs": [
    {
     "data": {
      "text/plain": [
       "np.int64(-70)"
      ]
     },
     "execution_count": 17,
     "metadata": {},
     "output_type": "execute_result"
    }
   ],
   "source": [
    "# Calculating min\n",
    "df['ap_lo'].min()"
   ]
  },
  {
   "cell_type": "code",
   "execution_count": 18,
   "id": "8aab341e",
   "metadata": {},
   "outputs": [
    {
     "data": {
      "text/plain": [
       "np.int64(40852)"
      ]
     },
     "execution_count": 18,
     "metadata": {},
     "output_type": "execute_result"
    }
   ],
   "source": [
    "df['ap_hi'].argmax()"
   ]
  },
  {
   "cell_type": "code",
   "execution_count": 19,
   "id": "baf33ab1",
   "metadata": {},
   "outputs": [
    {
     "data": {
      "text/plain": [
       "np.int64(60106)"
      ]
     },
     "execution_count": 19,
     "metadata": {},
     "output_type": "execute_result"
    }
   ],
   "source": [
    "df['ap_lo'].argmin()"
   ]
  },
  {
   "cell_type": "code",
   "execution_count": 20,
   "id": "088b35eb",
   "metadata": {},
   "outputs": [
    {
     "data": {
      "text/plain": [
       "id             58374.0\n",
       "age            17438.0\n",
       "sex                1.0\n",
       "height           169.0\n",
       "weight            70.0\n",
       "ap_hi          16020.0\n",
       "ap_lo             80.0\n",
       "cholesterol        1.0\n",
       "gluc               1.0\n",
       "smoke              0.0\n",
       "alco               0.0\n",
       "active             0.0\n",
       "cardio             1.0\n",
       "Name: 40852, dtype: float64"
      ]
     },
     "execution_count": 20,
     "metadata": {},
     "output_type": "execute_result"
    }
   ],
   "source": [
    "df.iloc[df['ap_hi'].argmax()]"
   ]
  },
  {
   "cell_type": "code",
   "execution_count": 24,
   "id": "47356850",
   "metadata": {},
   "outputs": [
    {
     "data": {
      "text/plain": [
       "id             69999\n",
       "age            57191\n",
       "sex             1537\n",
       "height          6486\n",
       "weight           435\n",
       "ap_hi          40852\n",
       "ap_lo          43326\n",
       "cholesterol        1\n",
       "gluc               7\n",
       "smoke             14\n",
       "alco              14\n",
       "active             0\n",
       "cardio             1\n",
       "dtype: int64"
      ]
     },
     "execution_count": 24,
     "metadata": {},
     "output_type": "execute_result"
    }
   ],
   "source": [
    "# idxmax() and idxmin()\n",
    "df.idxmax()"
   ]
  },
  {
   "cell_type": "code",
   "execution_count": 25,
   "id": "9d65682b",
   "metadata": {},
   "outputs": [
    {
     "data": {
      "text/plain": [
       "id                 0\n",
       "age            22343\n",
       "sex                1\n",
       "height         22723\n",
       "weight         57858\n",
       "ap_hi          35040\n",
       "ap_lo          60106\n",
       "cholesterol        0\n",
       "gluc               0\n",
       "smoke              0\n",
       "alco               0\n",
       "active             2\n",
       "cardio             0\n",
       "dtype: int64"
      ]
     },
     "execution_count": 25,
     "metadata": {},
     "output_type": "execute_result"
    }
   ],
   "source": [
    "df.idxmin()"
   ]
  },
  {
   "cell_type": "markdown",
   "id": "aec2872a",
   "metadata": {},
   "source": [
    "Task :\n",
    "\n",
    "Explore the functions count(), median(), std(), cumsum() even with the help of chatgpt."
   ]
  },
  {
   "cell_type": "code",
   "execution_count": 34,
   "id": "78f18089",
   "metadata": {},
   "outputs": [
    {
     "data": {
      "text/plain": [
       "id             70000\n",
       "age            70000\n",
       "sex            70000\n",
       "height         70000\n",
       "weight         70000\n",
       "ap_hi          70000\n",
       "ap_lo          70000\n",
       "cholesterol    70000\n",
       "gluc           70000\n",
       "smoke          70000\n",
       "alco           70000\n",
       "active         70000\n",
       "cardio         70000\n",
       "dtype: int64"
      ]
     },
     "execution_count": 34,
     "metadata": {},
     "output_type": "execute_result"
    }
   ],
   "source": [
    "# Exploration\n",
    "df.count()"
   ]
  },
  {
   "cell_type": "code",
   "execution_count": 36,
   "id": "1f7106ca",
   "metadata": {},
   "outputs": [
    {
     "data": {
      "text/plain": [
       "np.float64(53.98082191780822)"
      ]
     },
     "execution_count": 36,
     "metadata": {},
     "output_type": "execute_result"
    }
   ],
   "source": [
    "df['age'].median()/365"
   ]
  },
  {
   "cell_type": "code",
   "execution_count": 41,
   "id": "7579de50",
   "metadata": {},
   "outputs": [
    {
     "data": {
      "text/plain": [
       "np.float64(6.759593608880551)"
      ]
     },
     "execution_count": 41,
     "metadata": {},
     "output_type": "execute_result"
    }
   ],
   "source": [
    "df['age'].std()/365"
   ]
  },
  {
   "cell_type": "code",
   "execution_count": null,
   "id": "3f4e4c36",
   "metadata": {},
   "outputs": [
    {
     "data": {
      "text/plain": [
       "0             18393\n",
       "1             38621\n",
       "2             57478\n",
       "3             75101\n",
       "4             92575\n",
       "            ...    \n",
       "69995    1362735969\n",
       "69996    1362758570\n",
       "69997    1362777636\n",
       "69998    1362800067\n",
       "69999    1362820607\n",
       "Name: age, Length: 70000, dtype: int64"
      ]
     },
     "execution_count": 38,
     "metadata": {},
     "output_type": "execute_result"
    }
   ],
   "source": [
    "df['age'].cumsum()"
   ]
  },
  {
   "cell_type": "code",
   "execution_count": 10,
   "id": "122fcf7c",
   "metadata": {},
   "outputs": [
    {
     "data": {
      "text/html": [
       "<div>\n",
       "<style scoped>\n",
       "    .dataframe tbody tr th:only-of-type {\n",
       "        vertical-align: middle;\n",
       "    }\n",
       "\n",
       "    .dataframe tbody tr th {\n",
       "        vertical-align: top;\n",
       "    }\n",
       "\n",
       "    .dataframe thead th {\n",
       "        text-align: right;\n",
       "    }\n",
       "</style>\n",
       "<table border=\"1\" class=\"dataframe\">\n",
       "  <thead>\n",
       "    <tr style=\"text-align: right;\">\n",
       "      <th></th>\n",
       "      <th>id</th>\n",
       "      <th>age</th>\n",
       "      <th>sex</th>\n",
       "      <th>height</th>\n",
       "      <th>weight</th>\n",
       "      <th>ap_hi</th>\n",
       "      <th>ap_lo</th>\n",
       "      <th>cholesterol</th>\n",
       "      <th>gluc</th>\n",
       "      <th>smoke</th>\n",
       "      <th>alco</th>\n",
       "      <th>active</th>\n",
       "      <th>cardio</th>\n",
       "    </tr>\n",
       "  </thead>\n",
       "  <tbody>\n",
       "    <tr>\n",
       "      <th>id</th>\n",
       "      <td>1.000000</td>\n",
       "      <td>0.003457</td>\n",
       "      <td>0.003154</td>\n",
       "      <td>-0.003038</td>\n",
       "      <td>-0.001830</td>\n",
       "      <td>0.003356</td>\n",
       "      <td>-0.002529</td>\n",
       "      <td>0.006106</td>\n",
       "      <td>0.002467</td>\n",
       "      <td>-0.003699</td>\n",
       "      <td>0.001210</td>\n",
       "      <td>0.003755</td>\n",
       "      <td>0.003799</td>\n",
       "    </tr>\n",
       "    <tr>\n",
       "      <th>age</th>\n",
       "      <td>0.003457</td>\n",
       "      <td>1.000000</td>\n",
       "      <td>-0.022609</td>\n",
       "      <td>-0.081515</td>\n",
       "      <td>0.053684</td>\n",
       "      <td>0.020764</td>\n",
       "      <td>0.017647</td>\n",
       "      <td>0.154424</td>\n",
       "      <td>0.098703</td>\n",
       "      <td>-0.047633</td>\n",
       "      <td>-0.029723</td>\n",
       "      <td>-0.009927</td>\n",
       "      <td>0.238159</td>\n",
       "    </tr>\n",
       "    <tr>\n",
       "      <th>sex</th>\n",
       "      <td>0.003154</td>\n",
       "      <td>-0.022609</td>\n",
       "      <td>1.000000</td>\n",
       "      <td>0.498221</td>\n",
       "      <td>0.155115</td>\n",
       "      <td>0.005985</td>\n",
       "      <td>0.015195</td>\n",
       "      <td>-0.035833</td>\n",
       "      <td>-0.020698</td>\n",
       "      <td>0.337664</td>\n",
       "      <td>0.170682</td>\n",
       "      <td>0.005991</td>\n",
       "      <td>0.007953</td>\n",
       "    </tr>\n",
       "    <tr>\n",
       "      <th>height</th>\n",
       "      <td>-0.003038</td>\n",
       "      <td>-0.081515</td>\n",
       "      <td>0.498221</td>\n",
       "      <td>1.000000</td>\n",
       "      <td>0.290968</td>\n",
       "      <td>0.005488</td>\n",
       "      <td>0.006150</td>\n",
       "      <td>-0.050226</td>\n",
       "      <td>-0.018595</td>\n",
       "      <td>0.187989</td>\n",
       "      <td>0.094419</td>\n",
       "      <td>-0.006570</td>\n",
       "      <td>-0.010821</td>\n",
       "    </tr>\n",
       "    <tr>\n",
       "      <th>weight</th>\n",
       "      <td>-0.001830</td>\n",
       "      <td>0.053684</td>\n",
       "      <td>0.155115</td>\n",
       "      <td>0.290968</td>\n",
       "      <td>1.000000</td>\n",
       "      <td>0.030702</td>\n",
       "      <td>0.043710</td>\n",
       "      <td>0.141768</td>\n",
       "      <td>0.106857</td>\n",
       "      <td>0.067780</td>\n",
       "      <td>0.067113</td>\n",
       "      <td>-0.016867</td>\n",
       "      <td>0.181660</td>\n",
       "    </tr>\n",
       "    <tr>\n",
       "      <th>ap_hi</th>\n",
       "      <td>0.003356</td>\n",
       "      <td>0.020764</td>\n",
       "      <td>0.005985</td>\n",
       "      <td>0.005488</td>\n",
       "      <td>0.030702</td>\n",
       "      <td>1.000000</td>\n",
       "      <td>0.016086</td>\n",
       "      <td>0.023778</td>\n",
       "      <td>0.011841</td>\n",
       "      <td>-0.000922</td>\n",
       "      <td>0.001408</td>\n",
       "      <td>-0.000033</td>\n",
       "      <td>0.054475</td>\n",
       "    </tr>\n",
       "    <tr>\n",
       "      <th>ap_lo</th>\n",
       "      <td>-0.002529</td>\n",
       "      <td>0.017647</td>\n",
       "      <td>0.015195</td>\n",
       "      <td>0.006150</td>\n",
       "      <td>0.043710</td>\n",
       "      <td>0.016086</td>\n",
       "      <td>1.000000</td>\n",
       "      <td>0.024019</td>\n",
       "      <td>0.010806</td>\n",
       "      <td>0.005186</td>\n",
       "      <td>0.010601</td>\n",
       "      <td>0.004780</td>\n",
       "      <td>0.065719</td>\n",
       "    </tr>\n",
       "    <tr>\n",
       "      <th>cholesterol</th>\n",
       "      <td>0.006106</td>\n",
       "      <td>0.154424</td>\n",
       "      <td>-0.035833</td>\n",
       "      <td>-0.050226</td>\n",
       "      <td>0.141768</td>\n",
       "      <td>0.023778</td>\n",
       "      <td>0.024019</td>\n",
       "      <td>1.000000</td>\n",
       "      <td>0.451578</td>\n",
       "      <td>0.010354</td>\n",
       "      <td>0.035760</td>\n",
       "      <td>0.009911</td>\n",
       "      <td>0.221147</td>\n",
       "    </tr>\n",
       "    <tr>\n",
       "      <th>gluc</th>\n",
       "      <td>0.002467</td>\n",
       "      <td>0.098703</td>\n",
       "      <td>-0.020698</td>\n",
       "      <td>-0.018595</td>\n",
       "      <td>0.106857</td>\n",
       "      <td>0.011841</td>\n",
       "      <td>0.010806</td>\n",
       "      <td>0.451578</td>\n",
       "      <td>1.000000</td>\n",
       "      <td>-0.004756</td>\n",
       "      <td>0.011246</td>\n",
       "      <td>-0.006770</td>\n",
       "      <td>0.089307</td>\n",
       "    </tr>\n",
       "    <tr>\n",
       "      <th>smoke</th>\n",
       "      <td>-0.003699</td>\n",
       "      <td>-0.047633</td>\n",
       "      <td>0.337664</td>\n",
       "      <td>0.187989</td>\n",
       "      <td>0.067780</td>\n",
       "      <td>-0.000922</td>\n",
       "      <td>0.005186</td>\n",
       "      <td>0.010354</td>\n",
       "      <td>-0.004756</td>\n",
       "      <td>1.000000</td>\n",
       "      <td>0.340094</td>\n",
       "      <td>0.025858</td>\n",
       "      <td>-0.015486</td>\n",
       "    </tr>\n",
       "    <tr>\n",
       "      <th>alco</th>\n",
       "      <td>0.001210</td>\n",
       "      <td>-0.029723</td>\n",
       "      <td>0.170682</td>\n",
       "      <td>0.094419</td>\n",
       "      <td>0.067113</td>\n",
       "      <td>0.001408</td>\n",
       "      <td>0.010601</td>\n",
       "      <td>0.035760</td>\n",
       "      <td>0.011246</td>\n",
       "      <td>0.340094</td>\n",
       "      <td>1.000000</td>\n",
       "      <td>0.025476</td>\n",
       "      <td>-0.007330</td>\n",
       "    </tr>\n",
       "    <tr>\n",
       "      <th>active</th>\n",
       "      <td>0.003755</td>\n",
       "      <td>-0.009927</td>\n",
       "      <td>0.005991</td>\n",
       "      <td>-0.006570</td>\n",
       "      <td>-0.016867</td>\n",
       "      <td>-0.000033</td>\n",
       "      <td>0.004780</td>\n",
       "      <td>0.009911</td>\n",
       "      <td>-0.006770</td>\n",
       "      <td>0.025858</td>\n",
       "      <td>0.025476</td>\n",
       "      <td>1.000000</td>\n",
       "      <td>-0.035653</td>\n",
       "    </tr>\n",
       "    <tr>\n",
       "      <th>cardio</th>\n",
       "      <td>0.003799</td>\n",
       "      <td>0.238159</td>\n",
       "      <td>0.007953</td>\n",
       "      <td>-0.010821</td>\n",
       "      <td>0.181660</td>\n",
       "      <td>0.054475</td>\n",
       "      <td>0.065719</td>\n",
       "      <td>0.221147</td>\n",
       "      <td>0.089307</td>\n",
       "      <td>-0.015486</td>\n",
       "      <td>-0.007330</td>\n",
       "      <td>-0.035653</td>\n",
       "      <td>1.000000</td>\n",
       "    </tr>\n",
       "  </tbody>\n",
       "</table>\n",
       "</div>"
      ],
      "text/plain": [
       "                   id       age       sex    height    weight     ap_hi  \\\n",
       "id           1.000000  0.003457  0.003154 -0.003038 -0.001830  0.003356   \n",
       "age          0.003457  1.000000 -0.022609 -0.081515  0.053684  0.020764   \n",
       "sex          0.003154 -0.022609  1.000000  0.498221  0.155115  0.005985   \n",
       "height      -0.003038 -0.081515  0.498221  1.000000  0.290968  0.005488   \n",
       "weight      -0.001830  0.053684  0.155115  0.290968  1.000000  0.030702   \n",
       "ap_hi        0.003356  0.020764  0.005985  0.005488  0.030702  1.000000   \n",
       "ap_lo       -0.002529  0.017647  0.015195  0.006150  0.043710  0.016086   \n",
       "cholesterol  0.006106  0.154424 -0.035833 -0.050226  0.141768  0.023778   \n",
       "gluc         0.002467  0.098703 -0.020698 -0.018595  0.106857  0.011841   \n",
       "smoke       -0.003699 -0.047633  0.337664  0.187989  0.067780 -0.000922   \n",
       "alco         0.001210 -0.029723  0.170682  0.094419  0.067113  0.001408   \n",
       "active       0.003755 -0.009927  0.005991 -0.006570 -0.016867 -0.000033   \n",
       "cardio       0.003799  0.238159  0.007953 -0.010821  0.181660  0.054475   \n",
       "\n",
       "                ap_lo  cholesterol      gluc     smoke      alco    active  \\\n",
       "id          -0.002529     0.006106  0.002467 -0.003699  0.001210  0.003755   \n",
       "age          0.017647     0.154424  0.098703 -0.047633 -0.029723 -0.009927   \n",
       "sex          0.015195    -0.035833 -0.020698  0.337664  0.170682  0.005991   \n",
       "height       0.006150    -0.050226 -0.018595  0.187989  0.094419 -0.006570   \n",
       "weight       0.043710     0.141768  0.106857  0.067780  0.067113 -0.016867   \n",
       "ap_hi        0.016086     0.023778  0.011841 -0.000922  0.001408 -0.000033   \n",
       "ap_lo        1.000000     0.024019  0.010806  0.005186  0.010601  0.004780   \n",
       "cholesterol  0.024019     1.000000  0.451578  0.010354  0.035760  0.009911   \n",
       "gluc         0.010806     0.451578  1.000000 -0.004756  0.011246 -0.006770   \n",
       "smoke        0.005186     0.010354 -0.004756  1.000000  0.340094  0.025858   \n",
       "alco         0.010601     0.035760  0.011246  0.340094  1.000000  0.025476   \n",
       "active       0.004780     0.009911 -0.006770  0.025858  0.025476  1.000000   \n",
       "cardio       0.065719     0.221147  0.089307 -0.015486 -0.007330 -0.035653   \n",
       "\n",
       "               cardio  \n",
       "id           0.003799  \n",
       "age          0.238159  \n",
       "sex          0.007953  \n",
       "height      -0.010821  \n",
       "weight       0.181660  \n",
       "ap_hi        0.054475  \n",
       "ap_lo        0.065719  \n",
       "cholesterol  0.221147  \n",
       "gluc         0.089307  \n",
       "smoke       -0.015486  \n",
       "alco        -0.007330  \n",
       "active      -0.035653  \n",
       "cardio       1.000000  "
      ]
     },
     "execution_count": 10,
     "metadata": {},
     "output_type": "execute_result"
    }
   ],
   "source": [
    "df.corr()"
   ]
  },
  {
   "cell_type": "markdown",
   "id": "bb760063",
   "metadata": {},
   "source": [
    "___"
   ]
  },
  {
   "cell_type": "markdown",
   "id": "8f0f73ab",
   "metadata": {},
   "source": [
    "### Quick statistical analysis"
   ]
  },
  {
   "cell_type": "code",
   "execution_count": 42,
   "id": "a913a784",
   "metadata": {},
   "outputs": [
    {
     "data": {
      "text/html": [
       "<div>\n",
       "<style scoped>\n",
       "    .dataframe tbody tr th:only-of-type {\n",
       "        vertical-align: middle;\n",
       "    }\n",
       "\n",
       "    .dataframe tbody tr th {\n",
       "        vertical-align: top;\n",
       "    }\n",
       "\n",
       "    .dataframe thead th {\n",
       "        text-align: right;\n",
       "    }\n",
       "</style>\n",
       "<table border=\"1\" class=\"dataframe\">\n",
       "  <thead>\n",
       "    <tr style=\"text-align: right;\">\n",
       "      <th></th>\n",
       "      <th>id</th>\n",
       "      <th>age</th>\n",
       "      <th>sex</th>\n",
       "      <th>height</th>\n",
       "      <th>weight</th>\n",
       "      <th>ap_hi</th>\n",
       "      <th>ap_lo</th>\n",
       "      <th>cholesterol</th>\n",
       "      <th>gluc</th>\n",
       "      <th>smoke</th>\n",
       "      <th>alco</th>\n",
       "      <th>active</th>\n",
       "      <th>cardio</th>\n",
       "    </tr>\n",
       "  </thead>\n",
       "  <tbody>\n",
       "    <tr>\n",
       "      <th>count</th>\n",
       "      <td>70000.000000</td>\n",
       "      <td>70000.000000</td>\n",
       "      <td>70000.000000</td>\n",
       "      <td>70000.000000</td>\n",
       "      <td>70000.000000</td>\n",
       "      <td>70000.000000</td>\n",
       "      <td>70000.000000</td>\n",
       "      <td>70000.000000</td>\n",
       "      <td>70000.000000</td>\n",
       "      <td>70000.000000</td>\n",
       "      <td>70000.000000</td>\n",
       "      <td>70000.000000</td>\n",
       "      <td>70000.000000</td>\n",
       "    </tr>\n",
       "    <tr>\n",
       "      <th>mean</th>\n",
       "      <td>49972.419900</td>\n",
       "      <td>19468.865814</td>\n",
       "      <td>1.349843</td>\n",
       "      <td>164.359229</td>\n",
       "      <td>74.205690</td>\n",
       "      <td>128.817286</td>\n",
       "      <td>96.630414</td>\n",
       "      <td>1.366871</td>\n",
       "      <td>1.226457</td>\n",
       "      <td>0.088129</td>\n",
       "      <td>0.053771</td>\n",
       "      <td>0.803729</td>\n",
       "      <td>0.499700</td>\n",
       "    </tr>\n",
       "    <tr>\n",
       "      <th>std</th>\n",
       "      <td>28851.302323</td>\n",
       "      <td>2467.251667</td>\n",
       "      <td>0.477253</td>\n",
       "      <td>8.210126</td>\n",
       "      <td>14.395757</td>\n",
       "      <td>154.011419</td>\n",
       "      <td>188.472530</td>\n",
       "      <td>0.680250</td>\n",
       "      <td>0.572270</td>\n",
       "      <td>0.283484</td>\n",
       "      <td>0.225568</td>\n",
       "      <td>0.397179</td>\n",
       "      <td>0.500003</td>\n",
       "    </tr>\n",
       "    <tr>\n",
       "      <th>min</th>\n",
       "      <td>0.000000</td>\n",
       "      <td>10798.000000</td>\n",
       "      <td>1.000000</td>\n",
       "      <td>55.000000</td>\n",
       "      <td>10.000000</td>\n",
       "      <td>-150.000000</td>\n",
       "      <td>-70.000000</td>\n",
       "      <td>1.000000</td>\n",
       "      <td>1.000000</td>\n",
       "      <td>0.000000</td>\n",
       "      <td>0.000000</td>\n",
       "      <td>0.000000</td>\n",
       "      <td>0.000000</td>\n",
       "    </tr>\n",
       "    <tr>\n",
       "      <th>25%</th>\n",
       "      <td>25006.750000</td>\n",
       "      <td>17664.000000</td>\n",
       "      <td>1.000000</td>\n",
       "      <td>159.000000</td>\n",
       "      <td>65.000000</td>\n",
       "      <td>120.000000</td>\n",
       "      <td>80.000000</td>\n",
       "      <td>1.000000</td>\n",
       "      <td>1.000000</td>\n",
       "      <td>0.000000</td>\n",
       "      <td>0.000000</td>\n",
       "      <td>1.000000</td>\n",
       "      <td>0.000000</td>\n",
       "    </tr>\n",
       "    <tr>\n",
       "      <th>50%</th>\n",
       "      <td>50001.500000</td>\n",
       "      <td>19703.000000</td>\n",
       "      <td>1.000000</td>\n",
       "      <td>165.000000</td>\n",
       "      <td>72.000000</td>\n",
       "      <td>120.000000</td>\n",
       "      <td>80.000000</td>\n",
       "      <td>1.000000</td>\n",
       "      <td>1.000000</td>\n",
       "      <td>0.000000</td>\n",
       "      <td>0.000000</td>\n",
       "      <td>1.000000</td>\n",
       "      <td>0.000000</td>\n",
       "    </tr>\n",
       "    <tr>\n",
       "      <th>75%</th>\n",
       "      <td>74889.250000</td>\n",
       "      <td>21327.000000</td>\n",
       "      <td>2.000000</td>\n",
       "      <td>170.000000</td>\n",
       "      <td>82.000000</td>\n",
       "      <td>140.000000</td>\n",
       "      <td>90.000000</td>\n",
       "      <td>2.000000</td>\n",
       "      <td>1.000000</td>\n",
       "      <td>0.000000</td>\n",
       "      <td>0.000000</td>\n",
       "      <td>1.000000</td>\n",
       "      <td>1.000000</td>\n",
       "    </tr>\n",
       "    <tr>\n",
       "      <th>max</th>\n",
       "      <td>99999.000000</td>\n",
       "      <td>23713.000000</td>\n",
       "      <td>3.000000</td>\n",
       "      <td>250.000000</td>\n",
       "      <td>200.000000</td>\n",
       "      <td>16020.000000</td>\n",
       "      <td>11000.000000</td>\n",
       "      <td>3.000000</td>\n",
       "      <td>3.000000</td>\n",
       "      <td>1.000000</td>\n",
       "      <td>1.000000</td>\n",
       "      <td>1.000000</td>\n",
       "      <td>1.000000</td>\n",
       "    </tr>\n",
       "  </tbody>\n",
       "</table>\n",
       "</div>"
      ],
      "text/plain": [
       "                 id           age           sex        height        weight  \\\n",
       "count  70000.000000  70000.000000  70000.000000  70000.000000  70000.000000   \n",
       "mean   49972.419900  19468.865814      1.349843    164.359229     74.205690   \n",
       "std    28851.302323   2467.251667      0.477253      8.210126     14.395757   \n",
       "min        0.000000  10798.000000      1.000000     55.000000     10.000000   \n",
       "25%    25006.750000  17664.000000      1.000000    159.000000     65.000000   \n",
       "50%    50001.500000  19703.000000      1.000000    165.000000     72.000000   \n",
       "75%    74889.250000  21327.000000      2.000000    170.000000     82.000000   \n",
       "max    99999.000000  23713.000000      3.000000    250.000000    200.000000   \n",
       "\n",
       "              ap_hi         ap_lo   cholesterol          gluc         smoke  \\\n",
       "count  70000.000000  70000.000000  70000.000000  70000.000000  70000.000000   \n",
       "mean     128.817286     96.630414      1.366871      1.226457      0.088129   \n",
       "std      154.011419    188.472530      0.680250      0.572270      0.283484   \n",
       "min     -150.000000    -70.000000      1.000000      1.000000      0.000000   \n",
       "25%      120.000000     80.000000      1.000000      1.000000      0.000000   \n",
       "50%      120.000000     80.000000      1.000000      1.000000      0.000000   \n",
       "75%      140.000000     90.000000      2.000000      1.000000      0.000000   \n",
       "max    16020.000000  11000.000000      3.000000      3.000000      1.000000   \n",
       "\n",
       "               alco        active        cardio  \n",
       "count  70000.000000  70000.000000  70000.000000  \n",
       "mean       0.053771      0.803729      0.499700  \n",
       "std        0.225568      0.397179      0.500003  \n",
       "min        0.000000      0.000000      0.000000  \n",
       "25%        0.000000      1.000000      0.000000  \n",
       "50%        0.000000      1.000000      0.000000  \n",
       "75%        0.000000      1.000000      1.000000  \n",
       "max        1.000000      1.000000      1.000000  "
      ]
     },
     "execution_count": 42,
     "metadata": {},
     "output_type": "execute_result"
    }
   ],
   "source": [
    "# Quick statistical analysis\n",
    "df.describe()"
   ]
  }
 ],
 "metadata": {
  "kernelspec": {
   "display_name": "Python 3",
   "language": "python",
   "name": "python3"
  },
  "language_info": {
   "codemirror_mode": {
    "name": "ipython",
    "version": 3
   },
   "file_extension": ".py",
   "mimetype": "text/x-python",
   "name": "python",
   "nbconvert_exporter": "python",
   "pygments_lexer": "ipython3",
   "version": "3.13.4"
  }
 },
 "nbformat": 4,
 "nbformat_minor": 5
}
