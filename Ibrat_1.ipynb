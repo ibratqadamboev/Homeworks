{
 "cells": [
  {
   "cell_type": "markdown",
   "id": "7dbbc31f",
   "metadata": {},
   "source": [
    "num"
   ]
  },
  {
   "cell_type": "code",
   "execution_count": 44,
   "id": "d1505580",
   "metadata": {},
   "outputs": [],
   "source": [
    "number_1= 17\n",
    "number_2= 19\n",
    "number_01=number_2\n",
    "number_2=number_01"
   ]
  },
  {
   "cell_type": "code",
   "execution_count": 45,
   "id": "be2d92cf",
   "metadata": {},
   "outputs": [],
   "source": [
    "num_1,num_2= 17, 19\n",
    "num_1,num_2=num_2,num_1"
   ]
  },
  {
   "cell_type": "code",
   "execution_count": 46,
   "id": "6094f0b4",
   "metadata": {},
   "outputs": [
    {
     "data": {
      "text/plain": [
       "19"
      ]
     },
     "execution_count": 46,
     "metadata": {},
     "output_type": "execute_result"
    }
   ],
   "source": [
    "num_1"
   ]
  },
  {
   "cell_type": "code",
   "execution_count": 47,
   "id": "fd916921",
   "metadata": {},
   "outputs": [
    {
     "data": {
      "text/plain": [
       "17"
      ]
     },
     "execution_count": 47,
     "metadata": {},
     "output_type": "execute_result"
    }
   ],
   "source": [
    "num_2"
   ]
  },
  {
   "cell_type": "code",
   "execution_count": 48,
   "id": "0f50474c",
   "metadata": {},
   "outputs": [],
   "source": [
    "numb_1= 17\n",
    "num_2= 19\n",
    "num_3=num_1\n",
    "num_1=num_2\n",
    "num_2=num_3"
   ]
  },
  {
   "cell_type": "code",
   "execution_count": 49,
   "id": "efb0eb9f",
   "metadata": {},
   "outputs": [
    {
     "data": {
      "text/plain": [
       "19"
      ]
     },
     "execution_count": 49,
     "metadata": {},
     "output_type": "execute_result"
    }
   ],
   "source": [
    "num_1"
   ]
  },
  {
   "cell_type": "code",
   "execution_count": 50,
   "id": "653c78f4",
   "metadata": {},
   "outputs": [
    {
     "data": {
      "text/plain": [
       "19"
      ]
     },
     "execution_count": 50,
     "metadata": {},
     "output_type": "execute_result"
    }
   ],
   "source": [
    "num_2"
   ]
  },
  {
   "cell_type": "code",
   "execution_count": 51,
   "id": "42ec598b",
   "metadata": {},
   "outputs": [],
   "source": [
    "a,b= 17, 19\n",
    "a= a+b \n",
    "b= a-b\n",
    "a= a-b"
   ]
  },
  {
   "cell_type": "code",
   "execution_count": 52,
   "id": "8131654c",
   "metadata": {},
   "outputs": [
    {
     "ename": "KeyboardInterrupt",
     "evalue": "Interrupted by user",
     "output_type": "error",
     "traceback": [
      "\u001b[31m---------------------------------------------------------------------------\u001b[39m",
      "\u001b[31mKeyboardInterrupt\u001b[39m                         Traceback (most recent call last)",
      "\u001b[36mCell\u001b[39m\u001b[36m \u001b[39m\u001b[32mIn[52]\u001b[39m\u001b[32m, line 1\u001b[39m\n\u001b[32m----> \u001b[39m\u001b[32m1\u001b[39m email = \u001b[38;5;28;43minput\u001b[39;49m\u001b[43m(\u001b[49m\u001b[33;43m\"\u001b[39;49m\u001b[33;43mвведите почту\u001b[39;49m\u001b[33;43m\"\u001b[39;49m\u001b[43m)\u001b[49m\n\u001b[32m      2\u001b[39m password = \u001b[38;5;28mint\u001b[39m(\u001b[38;5;28minput\u001b[39m(\u001b[33m\"\u001b[39m\u001b[33mвведите пинкод\u001b[39m\u001b[33m\"\u001b[39m))\n\u001b[32m      3\u001b[39m \u001b[38;5;28;01mif\u001b[39;00m email == \u001b[33m\"\u001b[39m\u001b[33msillyvanilly\u001b[39m\u001b[33m\"\u001b[39m \u001b[38;5;129;01mand\u001b[39;00m password == \u001b[32m7897\u001b[39m:    \n",
      "\u001b[36mFile \u001b[39m\u001b[32m~\\AppData\\Roaming\\Python\\Python313\\site-packages\\ipykernel\\kernelbase.py:1282\u001b[39m, in \u001b[36mKernel.raw_input\u001b[39m\u001b[34m(self, prompt)\u001b[39m\n\u001b[32m   1280\u001b[39m     msg = \u001b[33m\"\u001b[39m\u001b[33mraw_input was called, but this frontend does not support input requests.\u001b[39m\u001b[33m\"\u001b[39m\n\u001b[32m   1281\u001b[39m     \u001b[38;5;28;01mraise\u001b[39;00m StdinNotImplementedError(msg)\n\u001b[32m-> \u001b[39m\u001b[32m1282\u001b[39m \u001b[38;5;28;01mreturn\u001b[39;00m \u001b[38;5;28;43mself\u001b[39;49m\u001b[43m.\u001b[49m\u001b[43m_input_request\u001b[49m\u001b[43m(\u001b[49m\n\u001b[32m   1283\u001b[39m \u001b[43m    \u001b[49m\u001b[38;5;28;43mstr\u001b[39;49m\u001b[43m(\u001b[49m\u001b[43mprompt\u001b[49m\u001b[43m)\u001b[49m\u001b[43m,\u001b[49m\n\u001b[32m   1284\u001b[39m \u001b[43m    \u001b[49m\u001b[38;5;28;43mself\u001b[39;49m\u001b[43m.\u001b[49m\u001b[43m_parent_ident\u001b[49m\u001b[43m[\u001b[49m\u001b[33;43m\"\u001b[39;49m\u001b[33;43mshell\u001b[39;49m\u001b[33;43m\"\u001b[39;49m\u001b[43m]\u001b[49m\u001b[43m,\u001b[49m\n\u001b[32m   1285\u001b[39m \u001b[43m    \u001b[49m\u001b[38;5;28;43mself\u001b[39;49m\u001b[43m.\u001b[49m\u001b[43mget_parent\u001b[49m\u001b[43m(\u001b[49m\u001b[33;43m\"\u001b[39;49m\u001b[33;43mshell\u001b[39;49m\u001b[33;43m\"\u001b[39;49m\u001b[43m)\u001b[49m\u001b[43m,\u001b[49m\n\u001b[32m   1286\u001b[39m \u001b[43m    \u001b[49m\u001b[43mpassword\u001b[49m\u001b[43m=\u001b[49m\u001b[38;5;28;43;01mFalse\u001b[39;49;00m\u001b[43m,\u001b[49m\n\u001b[32m   1287\u001b[39m \u001b[43m\u001b[49m\u001b[43m)\u001b[49m\n",
      "\u001b[36mFile \u001b[39m\u001b[32m~\\AppData\\Roaming\\Python\\Python313\\site-packages\\ipykernel\\kernelbase.py:1325\u001b[39m, in \u001b[36mKernel._input_request\u001b[39m\u001b[34m(self, prompt, ident, parent, password)\u001b[39m\n\u001b[32m   1322\u001b[39m \u001b[38;5;28;01mexcept\u001b[39;00m \u001b[38;5;167;01mKeyboardInterrupt\u001b[39;00m:\n\u001b[32m   1323\u001b[39m     \u001b[38;5;66;03m# re-raise KeyboardInterrupt, to truncate traceback\u001b[39;00m\n\u001b[32m   1324\u001b[39m     msg = \u001b[33m\"\u001b[39m\u001b[33mInterrupted by user\u001b[39m\u001b[33m\"\u001b[39m\n\u001b[32m-> \u001b[39m\u001b[32m1325\u001b[39m     \u001b[38;5;28;01mraise\u001b[39;00m \u001b[38;5;167;01mKeyboardInterrupt\u001b[39;00m(msg) \u001b[38;5;28;01mfrom\u001b[39;00m\u001b[38;5;250m \u001b[39m\u001b[38;5;28;01mNone\u001b[39;00m\n\u001b[32m   1326\u001b[39m \u001b[38;5;28;01mexcept\u001b[39;00m \u001b[38;5;167;01mException\u001b[39;00m:\n\u001b[32m   1327\u001b[39m     \u001b[38;5;28mself\u001b[39m.log.warning(\u001b[33m\"\u001b[39m\u001b[33mInvalid Message:\u001b[39m\u001b[33m\"\u001b[39m, exc_info=\u001b[38;5;28;01mTrue\u001b[39;00m)\n",
      "\u001b[31mKeyboardInterrupt\u001b[39m: Interrupted by user"
     ]
    }
   ],
   "source": [
    "email = input(\"введите почту\")\n",
    "password = int(input(\"введите пинкод\"))\n",
    "if email == \"sillyvanilly\" and password == 7897:    \n",
    "    print(\"you have an acces to website\")\n",
    "else:\n",
    "    print(\"you dont have an acces to website\")"
   ]
  },
  {
   "cell_type": "code",
   "execution_count": null,
   "id": "e65cca5c",
   "metadata": {},
   "outputs": [],
   "source": [
    "friends = [\"sara\",\"robiya\",\"donald\"]\n",
    "friends.insert(1, \"steve\")"
   ]
  },
  {
   "cell_type": "code",
   "execution_count": null,
   "id": "d7751b6d",
   "metadata": {},
   "outputs": [
    {
     "data": {
      "text/plain": [
       "['sara', 'steve', 'robiya', 'donald', 'steve']"
      ]
     },
     "execution_count": 22,
     "metadata": {},
     "output_type": "execute_result"
    }
   ],
   "source": [
    "friends"
   ]
  },
  {
   "cell_type": "markdown",
   "id": "132fe54c",
   "metadata": {},
   "source": []
  },
  {
   "cell_type": "code",
   "execution_count": null,
   "id": "5fa366e3",
   "metadata": {},
   "outputs": [],
   "source": [
    "friends.pop(|)"
   ]
  },
  {
   "cell_type": "markdown",
   "id": "c9e67eb8",
   "metadata": {},
   "source": [
    "    Lorem Ipsum is simply dummy text of the printing and typesetting industry. Lorem Ipsum has been the industry's standard dummy text ever since the 1500s, when an unknown printer took a galley og type and scrambled it to make a type specimen book. It has survived not only five centuries, but also the leap into electronic typesetting, remaining essentialy unchanged.It was popularised in the 1960s with the release of Letraset sheets containing Lorem Ipsum passages, and more recently with desktop publishing software like Aldus PageMaker including versions of Lorem Ipsum. "
   ]
  },
  {
   "cell_type": "code",
   "execution_count": null,
   "id": "e47c1adc",
   "metadata": {},
   "outputs": [
    {
     "name": "stdout",
     "output_type": "stream",
     "text": [
      "Uzbekistan\n",
      "Portugal\n",
      "Denmark\n"
     ]
    }
   ],
   "source": [
    "print(\"Uzbekistan\", \"Portugal\", \"Denmark\", sep = \"\\n\")"
   ]
  },
  {
   "cell_type": "code",
   "execution_count": null,
   "id": "a45ba27f",
   "metadata": {},
   "outputs": [
    {
     "name": "stdout",
     "output_type": "stream",
     "text": [
      "11\n"
     ]
    }
   ],
   "source": [
    "print(11)"
   ]
  },
  {
   "cell_type": "code",
   "execution_count": null,
   "id": "332d977f",
   "metadata": {},
   "outputs": [
    {
     "name": "stdout",
     "output_type": "stream",
     "text": [
      "17\n",
      "68\n",
      "13.0\n",
      "49\n"
     ]
    }
   ],
   "source": [
    "print(12+5,75-7,65/5,7*7,sep=\"\\n\")"
   ]
  },
  {
   "cell_type": "code",
   "execution_count": null,
   "id": "2ef5d5d6",
   "metadata": {},
   "outputs": [
    {
     "data": {
      "text/plain": [
       "'ob'"
      ]
     },
     "execution_count": 64,
     "metadata": {},
     "output_type": "execute_result"
    }
   ],
   "source": [
    "name=\"Bobur\"\n",
    "\n",
    "name[1:3]"
   ]
  },
  {
   "cell_type": "markdown",
   "id": "f1bfbf1f",
   "metadata": {},
   "source": [
    "### O'zgaruvchi(Variable)"
   ]
  },
  {
   "cell_type": "code",
   "execution_count": null,
   "id": "7d05c82d",
   "metadata": {},
   "outputs": [],
   "source": [
    "davlat = \"Uzbekistan\" #string\n",
    "poytaxt = 'Tashkent' #string --- char(character)\n",
    "mustaqillik_yili = 1991 #integer\n",
    "davlat_budget = 1.2 #float\n",
    "issiq_davlat = True #boolean"
   ]
  },
  {
   "cell_type": "code",
   "execution_count": null,
   "id": "9ba47184",
   "metadata": {},
   "outputs": [],
   "source": [
    "# Kommentariya -> Bir qatorli kometariya\n"
   ]
  },
  {
   "cell_type": "code",
   "execution_count": null,
   "id": "4bcb432d",
   "metadata": {},
   "outputs": [
    {
     "data": {
      "text/plain": [
       "\"\\nBu ko'p qatorli komantariya.\\nTest uchun yozilgan\\n\""
      ]
     },
     "execution_count": 15,
     "metadata": {},
     "output_type": "execute_result"
    }
   ],
   "source": [
    "\"\"\"\n",
    "Bu ko'p qatorli komantariya.\n",
    "Test uchun yozilgan\n",
    "\"\"\""
   ]
  },
  {
   "cell_type": "code",
   "execution_count": 8,
   "id": "2aa97b18",
   "metadata": {},
   "outputs": [],
   "source": [
    "# Odam ma'lumoti\n",
    "ismi=\"Bobur\" #string\n",
    "familiyasi=\"Abdullayev\" #string\n",
    "otasining_ismi=\"Behruz\" #string\n",
    "yoshi=18 #integor\n",
    "erkak=True #boolean\n",
    "yillik_umumiy_daromadi=15.7 #float"
   ]
  },
  {
   "cell_type": "code",
   "execution_count": null,
   "id": "973acc12",
   "metadata": {},
   "outputs": [],
   "source": [
    "boyi = 4\n",
    "eni = 8\n",
    "yuzi=boyi*eni"
   ]
  },
  {
   "cell_type": "markdown",
   "id": "f7e70fed",
   "metadata": {},
   "source": [
    "ey6tri7k68"
   ]
  },
  {
   "cell_type": "code",
   "execution_count": null,
   "id": "38c10a71",
   "metadata": {},
   "outputs": [
    {
     "data": {
      "text/plain": [
       "32"
      ]
     },
     "execution_count": 21,
     "metadata": {},
     "output_type": "execute_result"
    }
   ],
   "source": [
    "yuzi"
   ]
  },
  {
   "cell_type": "markdown",
   "id": "0780f2a8",
   "metadata": {},
   "source": [
    "pi * r * r"
   ]
  },
  {
   "cell_type": "code",
   "execution_count": null,
   "id": "d97f386f",
   "metadata": {},
   "outputs": [],
   "source": [
    "r = 7\n",
    "pi=3.14\n",
    "kubning_yuzi=pi * r * r"
   ]
  },
  {
   "cell_type": "code",
   "execution_count": null,
   "id": "6a6dfe42",
   "metadata": {},
   "outputs": [
    {
     "data": {
      "text/plain": [
       "153.86"
      ]
     },
     "execution_count": 39,
     "metadata": {},
     "output_type": "execute_result"
    }
   ],
   "source": [
    "kubning_yuzi"
   ]
  },
  {
   "cell_type": "code",
   "execution_count": null,
   "id": "58c0a64b",
   "metadata": {},
   "outputs": [],
   "source": [
    "a=5\n",
    "kubning_yuzi=a*a*a"
   ]
  },
  {
   "cell_type": "code",
   "execution_count": null,
   "id": "7f112366",
   "metadata": {},
   "outputs": [
    {
     "data": {
      "text/plain": [
       "125"
      ]
     },
     "execution_count": 37,
     "metadata": {},
     "output_type": "execute_result"
    }
   ],
   "source": [
    "kubning_yuzi"
   ]
  },
  {
   "cell_type": "code",
   "execution_count": 75,
   "id": "b0ec6d0f",
   "metadata": {},
   "outputs": [],
   "source": [
    "kordinate_1=7\n",
    "kordinate_2=5\n",
    "distance=kordinate_1-kordinate_2"
   ]
  },
  {
   "cell_type": "code",
   "execution_count": null,
   "id": "d8b87e4a",
   "metadata": {},
   "outputs": [
    {
     "data": {
      "text/plain": [
       "2"
      ]
     },
     "execution_count": 55,
     "metadata": {},
     "output_type": "execute_result"
    }
   ],
   "source": [
    "distance"
   ]
  },
  {
   "cell_type": "code",
   "execution_count": 56,
   "id": "de90483d",
   "metadata": {},
   "outputs": [],
   "source": [
    "name = input(\"Ismingizni kiriting :\")"
   ]
  },
  {
   "cell_type": "code",
   "execution_count": 58,
   "id": "5bc6c376",
   "metadata": {},
   "outputs": [
    {
     "name": "stdout",
     "output_type": "stream",
     "text": [
      "Salom :  Ibrat\n"
     ]
    }
   ],
   "source": [
    "print(\"Salom : \", name)"
   ]
  },
  {
   "cell_type": "code",
   "execution_count": 15,
   "id": "11d69f83",
   "metadata": {},
   "outputs": [],
   "source": [
    "name_1=input(\"Ismingizni kiriting :\")"
   ]
  },
  {
   "cell_type": "markdown",
   "id": "c16f98fb",
   "metadata": {},
   "source": []
  },
  {
   "cell_type": "code",
   "execution_count": 16,
   "id": "c53ceaf1",
   "metadata": {},
   "outputs": [
    {
     "data": {
      "text/plain": [
       "'Salohiddin'"
      ]
     },
     "execution_count": 16,
     "metadata": {},
     "output_type": "execute_result"
    }
   ],
   "source": [
    "name_1"
   ]
  },
  {
   "cell_type": "code",
   "execution_count": 64,
   "id": "35bed29b",
   "metadata": {},
   "outputs": [],
   "source": [
    "name_2=input(\"Ismingizni kiriting :\")"
   ]
  },
  {
   "cell_type": "code",
   "execution_count": 65,
   "id": "dd2711cb",
   "metadata": {},
   "outputs": [
    {
     "data": {
      "text/plain": [
       "'Abdurahmon'"
      ]
     },
     "execution_count": 65,
     "metadata": {},
     "output_type": "execute_result"
    }
   ],
   "source": [
    "name_2"
   ]
  },
  {
   "cell_type": "code",
   "execution_count": 79,
   "id": "97fe098d",
   "metadata": {},
   "outputs": [],
   "source": [
    "name_3=input(\"Ismingizni kiriting :\")"
   ]
  },
  {
   "cell_type": "code",
   "execution_count": 67,
   "id": "1f704678",
   "metadata": {},
   "outputs": [
    {
     "data": {
      "text/plain": [
       "'Avrangiz'"
      ]
     },
     "execution_count": 67,
     "metadata": {},
     "output_type": "execute_result"
    }
   ],
   "source": [
    "name_3"
   ]
  },
  {
   "cell_type": "code",
   "execution_count": 76,
   "id": "15fd067a",
   "metadata": {},
   "outputs": [
    {
     "name": "stdout",
     "output_type": "stream",
     "text": [
      "Salom Salohiddin\n"
     ]
    }
   ],
   "source": [
    "print(\"Salom\",name_1)"
   ]
  },
  {
   "cell_type": "code",
   "execution_count": 74,
   "id": "94815a05",
   "metadata": {},
   "outputs": [
    {
     "name": "stdout",
     "output_type": "stream",
     "text": [
      "Salom Abdurahmon\n"
     ]
    }
   ],
   "source": [
    "print(\"Salom\",name_2)"
   ]
  },
  {
   "cell_type": "code",
   "execution_count": 73,
   "id": "05a6c0f7",
   "metadata": {},
   "outputs": [
    {
     "name": "stdout",
     "output_type": "stream",
     "text": [
      "Salom Avrangiz\n"
     ]
    }
   ],
   "source": [
    "print(\"Salom\",name_3)"
   ]
  },
  {
   "cell_type": "code",
   "execution_count": 106,
   "id": "fff422ea",
   "metadata": {},
   "outputs": [
    {
     "data": {
      "text/plain": [
       "3"
      ]
     },
     "execution_count": 106,
     "metadata": {},
     "output_type": "execute_result"
    }
   ],
   "source": [
    "int(\"3\")"
   ]
  },
  {
   "cell_type": "code",
   "execution_count": 103,
   "id": "fcb49bea",
   "metadata": {},
   "outputs": [
    {
     "data": {
      "text/plain": [
       "'3'"
      ]
     },
     "execution_count": 103,
     "metadata": {},
     "output_type": "execute_result"
    }
   ],
   "source": [
    "str(3)"
   ]
  },
  {
   "cell_type": "code",
   "execution_count": 84,
   "id": "08e33eb8",
   "metadata": {},
   "outputs": [
    {
     "data": {
      "text/plain": [
       "3.0"
      ]
     },
     "execution_count": 84,
     "metadata": {},
     "output_type": "execute_result"
    }
   ],
   "source": [
    "float(3)"
   ]
  },
  {
   "cell_type": "code",
   "execution_count": 87,
   "id": "73c0998e",
   "metadata": {},
   "outputs": [
    {
     "data": {
      "text/plain": [
       "True"
      ]
     },
     "execution_count": 87,
     "metadata": {},
     "output_type": "execute_result"
    }
   ],
   "source": [
    "bool(2)"
   ]
  },
  {
   "cell_type": "code",
   "execution_count": 89,
   "id": "452990dd",
   "metadata": {},
   "outputs": [
    {
     "data": {
      "text/plain": [
       "8"
      ]
     },
     "execution_count": 89,
     "metadata": {},
     "output_type": "execute_result"
    }
   ],
   "source": [
    "age = int(input(\"Yoshingizni kiriting :\"))\n",
    "age + 5"
   ]
  },
  {
   "cell_type": "code",
   "execution_count": 92,
   "id": "de6e2591",
   "metadata": {},
   "outputs": [],
   "source": [
    "edge=int(input(\"Qirrani kiriting :\"))"
   ]
  },
  {
   "cell_type": "code",
   "execution_count": 93,
   "id": "0f00046d",
   "metadata": {},
   "outputs": [
    {
     "data": {
      "text/plain": [
       "343"
      ]
     },
     "execution_count": 93,
     "metadata": {},
     "output_type": "execute_result"
    }
   ],
   "source": [
    "edge*edge*edge"
   ]
  },
  {
   "cell_type": "code",
   "execution_count": 94,
   "id": "8075b72a",
   "metadata": {},
   "outputs": [
    {
     "data": {
      "text/plain": [
       "7"
      ]
     },
     "execution_count": 94,
     "metadata": {},
     "output_type": "execute_result"
    }
   ],
   "source": [
    "edge"
   ]
  },
  {
   "cell_type": "code",
   "execution_count": 95,
   "id": "97a0efda",
   "metadata": {},
   "outputs": [],
   "source": [
    "age_1=12\n",
    "age_2=14\n",
    "age_3=17\n",
    "age_4=20"
   ]
  },
  {
   "cell_type": "code",
   "execution_count": 98,
   "id": "e40edd62",
   "metadata": {},
   "outputs": [],
   "source": [
    "ortacha_yosh=(age_1+age_2+age_3+age_4)//4"
   ]
  },
  {
   "cell_type": "code",
   "execution_count": 99,
   "id": "9153727c",
   "metadata": {},
   "outputs": [
    {
     "data": {
      "text/plain": [
       "15"
      ]
     },
     "execution_count": 99,
     "metadata": {},
     "output_type": "execute_result"
    }
   ],
   "source": [
    "ortacha_yosh"
   ]
  },
  {
   "cell_type": "code",
   "execution_count": 100,
   "id": "9cba9f9c",
   "metadata": {},
   "outputs": [
    {
     "data": {
      "text/plain": [
       "int"
      ]
     },
     "execution_count": 100,
     "metadata": {},
     "output_type": "execute_result"
    }
   ],
   "source": [
    "type(age_1)"
   ]
  },
  {
   "cell_type": "code",
   "execution_count": 101,
   "id": "f601a722",
   "metadata": {},
   "outputs": [
    {
     "data": {
      "text/plain": [
       "str"
      ]
     },
     "execution_count": 101,
     "metadata": {},
     "output_type": "execute_result"
    }
   ],
   "source": [
    "type(name)"
   ]
  },
  {
   "cell_type": "code",
   "execution_count": 102,
   "id": "3ad279cd",
   "metadata": {},
   "outputs": [
    {
     "data": {
      "text/plain": [
       "bool"
      ]
     },
     "execution_count": 102,
     "metadata": {},
     "output_type": "execute_result"
    }
   ],
   "source": [
    "type(True)"
   ]
  },
  {
   "cell_type": "code",
   "execution_count": 4,
   "id": "27ef9d1f",
   "metadata": {},
   "outputs": [
    {
     "data": {
      "text/plain": [
       "float"
      ]
     },
     "execution_count": 4,
     "metadata": {},
     "output_type": "execute_result"
    }
   ],
   "source": [
    "type(7.7)"
   ]
  },
  {
   "cell_type": "code",
   "execution_count": 17,
   "id": "a82bf3d8",
   "metadata": {},
   "outputs": [
    {
     "data": {
      "text/plain": [
       "'Salohiddin'"
      ]
     },
     "execution_count": 17,
     "metadata": {},
     "output_type": "execute_result"
    }
   ],
   "source": [
    "name_1"
   ]
  },
  {
   "cell_type": "code",
   "execution_count": 18,
   "id": "7c05ff05",
   "metadata": {},
   "outputs": [],
   "source": [
    "Uzbekistan=7"
   ]
  },
  {
   "cell_type": "code",
   "execution_count": 68,
   "id": "2daf7642",
   "metadata": {},
   "outputs": [],
   "source": [
    "edge=int(input(\"Qirrani kiriting :\"))"
   ]
  },
  {
   "cell_type": "markdown",
   "id": "c0ffbc38",
   "metadata": {},
   "source": [
    "**Conditional operators(Shartli operatorlar)**"
   ]
  },
  {
   "cell_type": "code",
   "execution_count": 28,
   "id": "b5fc1322",
   "metadata": {},
   "outputs": [
    {
     "name": "stdout",
     "output_type": "stream",
     "text": [
      "Toq\n"
     ]
    }
   ],
   "source": [
    "number = int(input(\"Son kiriting : \"))\n",
    "if number % 2 == 0 :\n",
    "    print(\"Juft\")\n",
    "else :\n",
    "    print(\"Toq\")\n"
   ]
  },
  {
   "cell_type": "code",
   "execution_count": 30,
   "id": "4aa8b5da",
   "metadata": {},
   "outputs": [
    {
     "data": {
      "text/plain": [
       "False"
      ]
     },
     "execution_count": 30,
     "metadata": {},
     "output_type": "execute_result"
    }
   ],
   "source": [
    "5 == 4"
   ]
  },
  {
   "cell_type": "code",
   "execution_count": 31,
   "id": "7a89daf7",
   "metadata": {},
   "outputs": [
    {
     "data": {
      "text/plain": [
       "True"
      ]
     },
     "execution_count": 31,
     "metadata": {},
     "output_type": "execute_result"
    }
   ],
   "source": [
    "5 > 4"
   ]
  },
  {
   "cell_type": "code",
   "execution_count": 32,
   "id": "98925759",
   "metadata": {},
   "outputs": [
    {
     "data": {
      "text/plain": [
       "False"
      ]
     },
     "execution_count": 32,
     "metadata": {},
     "output_type": "execute_result"
    }
   ],
   "source": [
    "5 < 4"
   ]
  },
  {
   "cell_type": "code",
   "execution_count": 33,
   "id": "afb041ac",
   "metadata": {},
   "outputs": [
    {
     "data": {
      "text/plain": [
       "True"
      ]
     },
     "execution_count": 33,
     "metadata": {},
     "output_type": "execute_result"
    }
   ],
   "source": [
    "5 >= 5"
   ]
  },
  {
   "cell_type": "code",
   "execution_count": 34,
   "id": "a8d7659a",
   "metadata": {},
   "outputs": [
    {
     "data": {
      "text/plain": [
       "False"
      ]
     },
     "execution_count": 34,
     "metadata": {},
     "output_type": "execute_result"
    }
   ],
   "source": [
    "6 <= 5"
   ]
  },
  {
   "cell_type": "code",
   "execution_count": 35,
   "id": "6be8847e",
   "metadata": {},
   "outputs": [
    {
     "data": {
      "text/plain": [
       "False"
      ]
     },
     "execution_count": 35,
     "metadata": {},
     "output_type": "execute_result"
    }
   ],
   "source": [
    "5 != 5"
   ]
  },
  {
   "cell_type": "code",
   "execution_count": 36,
   "id": "c07b46ab",
   "metadata": {},
   "outputs": [
    {
     "data": {
      "text/plain": [
       "True"
      ]
     },
     "execution_count": 36,
     "metadata": {},
     "output_type": "execute_result"
    }
   ],
   "source": [
    "4 != 5"
   ]
  },
  {
   "cell_type": "code",
   "execution_count": 54,
   "id": "83da713d",
   "metadata": {},
   "outputs": [
    {
     "name": "stdout",
     "output_type": "stream",
     "text": [
      "9\n"
     ]
    }
   ],
   "source": [
    "a = 7\n",
    "b = 9\n",
    "if a > b :\n",
    "    print(a)\n",
    "else : \n",
    "    print(b)"
   ]
  },
  {
   "cell_type": "code",
   "execution_count": 65,
   "id": "9b63168a",
   "metadata": {},
   "outputs": [
    {
     "name": "stdout",
     "output_type": "stream",
     "text": [
      "Ha\n"
     ]
    }
   ],
   "source": [
    "number=int(input(\"Son kiriting :\"))\n",
    "if number % 5 ==0 :\n",
    "    print(\"Ha\")\n",
    "else:\n",
    "    print(\"Yoq\")"
   ]
  },
  {
   "cell_type": "code",
   "execution_count": 5,
   "id": "c771474b",
   "metadata": {},
   "outputs": [
    {
     "name": "stdout",
     "output_type": "stream",
     "text": [
      "Siz prava ola olmadingiz!\n"
     ]
    }
   ],
   "source": [
    "Yosh=int(input(\"Yoshingizni kiriting :\"))\n",
    "if Yosh >= 19 :\n",
    "    print(\"Siz prava oldingiz!\")\n",
    "else:\n",
    "    print(\"Siz prava ola olmadingiz!\")"
   ]
  },
  {
   "cell_type": "code",
   "execution_count": null,
   "id": "67e2176d",
   "metadata": {},
   "outputs": [
    {
     "name": "stdout",
     "output_type": "stream",
     "text": [
      "Ko'p xonali son\n"
     ]
    }
   ],
   "source": [
    "number_1 = int(input(\"Sonni kiriting :\"))\n",
    "if number_1 >= 10 : \n",
    "    print(\"Ko'p xonali son\")\n",
    "elif number_1 < 0 :\n",
    "    print(\"Manfiy son\") \n",
    "else :\n",
    "    print(\"Bir xonali son\")"
   ]
  },
  {
   "cell_type": "code",
   "execution_count": 128,
   "id": "340fb9d9",
   "metadata": {},
   "outputs": [
    {
     "name": "stdout",
     "output_type": "stream",
     "text": [
      "10.0\n"
     ]
    }
   ],
   "source": [
    "number = int(input(\"Sonni kiriting :\"))\n",
    "if number >= 30 :\n",
    "    print(number+5)\n",
    "elif number <0 :\n",
    "    print(0)\n",
    "else :\n",
    "    print(number/2)"
   ]
  },
  {
   "cell_type": "code",
   "execution_count": null,
   "id": "da097e88",
   "metadata": {},
   "outputs": [
    {
     "name": "stdout",
     "output_type": "stream",
     "text": [
      "Havo iliq\n"
     ]
    }
   ],
   "source": [
    "Harorat = int(input(\"Haroratni kiriting :\"))\n",
    "if Harorat >40 :\n",
    "    print(\"Konditsionerni yoqing\")\n",
    "elif Harorat <0 :\n",
    "    print(\"Pechkani yoqing\")\n",
    "else :\n",
    "    print(\"Havo iliq\")"
   ]
  },
  {
   "cell_type": "code",
   "execution_count": 35,
   "id": "85e4d087",
   "metadata": {},
   "outputs": [
    {
     "name": "stdout",
     "output_type": "stream",
     "text": [
      "75000.0\n"
     ]
    }
   ],
   "source": [
    "Savdo = int(input(\"Savdoni kiriting :\"))\n",
    "if Savdo >= 100000 :\n",
    "    print(Savdo*75/100)\n",
    "elif Savdo < 50000 :\n",
    "    print(Savdo)\n",
    "else :\n",
    "    print(Savdo*90/100)"
   ]
  },
  {
   "cell_type": "code",
   "execution_count": null,
   "id": "c951c8ce",
   "metadata": {},
   "outputs": [
    {
     "name": "stdout",
     "output_type": "stream",
     "text": [
      "Yo'ldan o'ting !\n"
     ]
    }
   ],
   "source": [
    "Rang = (input(\"Rangni kiriting :\"))\n",
    "if Rang == \"green\" :\n",
    "    print(\"Yo'ldan o'ting !\")\n",
    "elif Rang == \"red\" :\n",
    "    print(\"To'xtang !\")\n",
    "elif Rang == \"yellow\":\n",
    "    print(\"Kuting !\")"
   ]
  },
  {
   "cell_type": "code",
   "execution_count": 76,
   "id": "5389e4f3",
   "metadata": {},
   "outputs": [],
   "source": [
    "email = \"diyorbek@gmail.com\"\n",
    "kalit = \"12345678\""
   ]
  },
  {
   "cell_type": "markdown",
   "id": "6b43b019",
   "metadata": {},
   "source": [
    "Mantiqiy operatorlar : "
   ]
  },
  {
   "cell_type": "markdown",
   "id": "ddac374f",
   "metadata": {},
   "source": [
    "AND, OR, NOT\n",
    "\n",
    "shart1 AND shart2 = \n",
    "\n",
    "1 AND 1 = 1\n",
    "0 AND 1 = 0\n",
    "1 AND 0 = 0\n",
    "0 AND 0 = 0 ---> Ko'paytiruv\n",
    "\n",
    "shart1 or shart2 = \n",
    "\n",
    "1 OR 1 = 1\n",
    "1 OR 0 = 1\n",
    "0  OR 1 = 1\n",
    "0 OR 0 = 0 ---> Qo'shuv\n",
    "\n",
    "not shart1 \n",
    "not 1 = 0\n",
    "not 0 = 1 ---> Teskarisi\n"
   ]
  },
  {
   "cell_type": "code",
   "execution_count": 9,
   "id": "6183993e",
   "metadata": {},
   "outputs": [
    {
     "data": {
      "text/plain": [
       "False"
      ]
     },
     "execution_count": 9,
     "metadata": {},
     "output_type": "execute_result"
    }
   ],
   "source": [
    "True and False\n"
   ]
  },
  {
   "cell_type": "code",
   "execution_count": 10,
   "id": "26ffe08c",
   "metadata": {},
   "outputs": [
    {
     "data": {
      "text/plain": [
       "True"
      ]
     },
     "execution_count": 10,
     "metadata": {},
     "output_type": "execute_result"
    }
   ],
   "source": [
    "False or True"
   ]
  },
  {
   "cell_type": "code",
   "execution_count": 74,
   "id": "c57ecc1a",
   "metadata": {},
   "outputs": [
    {
     "data": {
      "text/plain": [
       "False"
      ]
     },
     "execution_count": 74,
     "metadata": {},
     "output_type": "execute_result"
    }
   ],
   "source": [
    "not True"
   ]
  },
  {
   "cell_type": "code",
   "execution_count": 75,
   "id": "816d3000",
   "metadata": {},
   "outputs": [
    {
     "data": {
      "text/plain": [
       "True"
      ]
     },
     "execution_count": 75,
     "metadata": {},
     "output_type": "execute_result"
    }
   ],
   "source": [
    "not False"
   ]
  },
  {
   "cell_type": "code",
   "execution_count": 7,
   "id": "96e55ea4",
   "metadata": {},
   "outputs": [
    {
     "name": "stdout",
     "output_type": "stream",
     "text": [
      "Sizga ruxsat bor\n"
     ]
    }
   ],
   "source": [
    "user_email = input(\"Emailingizni kiriting : \")\n",
    "user_password = input(\"Kalitni kiriting : \")\n",
    "if user_email == \"ibratqadamboev@gmail.com\" and user_password == \"12345678\" :\n",
    "    print(\"Sizga ruxsat bor\")\n",
    "else :\n",
    "    print(\"Sizga ruxsat yo'q\")"
   ]
  },
  {
   "cell_type": "code",
   "execution_count": 18,
   "id": "0e797a8e",
   "metadata": {},
   "outputs": [
    {
     "data": {
      "text/plain": [
       "False"
      ]
     },
     "execution_count": 18,
     "metadata": {},
     "output_type": "execute_result"
    }
   ],
   "source": [
    "13%5 == 0"
   ]
  },
  {
   "cell_type": "code",
   "execution_count": 23,
   "id": "15f24a38",
   "metadata": {},
   "outputs": [],
   "source": [
    "Son = int(input(\"Sonni kiriting :\"))\n",
    "if Son%5==0 and Son%2 == 0:\n",
    "    print(Son)"
   ]
  },
  {
   "cell_type": "code",
   "execution_count": 29,
   "id": "0106bad7",
   "metadata": {},
   "outputs": [
    {
     "name": "stdout",
     "output_type": "stream",
     "text": [
      "Siz o'qishga kirdingiz !\n"
     ]
    }
   ],
   "source": [
    "ielts = input(\"ieltsingizni kiriting :\")\n",
    "cefr =input(\"cefringizni kiriting :\")\n",
    "if ielts or cefr:\n",
    "    print(\"Siz o'qishga kirdingiz !\")\n",
    "else :\n",
    "    print(\"Siz o'qishga kira olmadingiz !\")"
   ]
  },
  {
   "cell_type": "code",
   "execution_count": null,
   "id": "527d15d2",
   "metadata": {},
   "outputs": [
    {
     "name": "stdout",
     "output_type": "stream",
     "text": [
      "Muddati o'tmagan\n"
     ]
    }
   ],
   "source": [
    "Mahsulot_muddati = 17\n",
    "Quyoshda_turganligi = False\n",
    "if Mahsulot_muddati > 50 and Quyoshda_turganligi :\n",
    "    print(\"Muddati o'tgan\")\n",
    "else :\n",
    "    print(\"Muddati o'tmagan\")"
   ]
  },
  {
   "cell_type": "code",
   "execution_count": 104,
   "id": "a38a4fa8",
   "metadata": {},
   "outputs": [],
   "source": [
    "Son = int(input(\"Sonni kiriting\"))\n",
    "if Son >0 and Son%2 == 0 :\n",
    "    print(\"Kerakli son topildi\")"
   ]
  },
  {
   "cell_type": "code",
   "execution_count": null,
   "id": "a959e710",
   "metadata": {},
   "outputs": [
    {
     "ename": "SyntaxError",
     "evalue": "invalid syntax. Perhaps you forgot a comma? (1530226299.py, line 1)",
     "output_type": "error",
     "traceback": [
      "  \u001b[36mCell\u001b[39m\u001b[36m \u001b[39m\u001b[32mIn[3]\u001b[39m\u001b[32m, line 1\u001b[39m\n\u001b[31m    \u001b[39m\u001b[31m[Diyorbek\", \"Ibrat\", 7, 9, True]names = [\"\u001b[39m\n             ^\n\u001b[31mSyntaxError\u001b[39m\u001b[31m:\u001b[39m invalid syntax. Perhaps you forgot a comma?\n"
     ]
    }
   ],
   "source": [
    "Diyorbek\", \"Ibrat\", 7, 9, True]names = [\"\n",
    "names.pop()"
   ]
  },
  {
   "cell_type": "code",
   "execution_count": 17,
   "id": "d3f04265",
   "metadata": {},
   "outputs": [],
   "source": [
    "names =[\"Ibrat ,\" \"Salohiddin ,\" \"Abdurahmon ,\" \"Avrangiz \"]"
   ]
  },
  {
   "cell_type": "code",
   "execution_count": 18,
   "id": "0a4a412a",
   "metadata": {},
   "outputs": [
    {
     "data": {
      "text/plain": [
       "['Ibrat ,Salohiddin ,Abdurahmon ,Avrangiz ']"
      ]
     },
     "execution_count": 18,
     "metadata": {},
     "output_type": "execute_result"
    }
   ],
   "source": [
    "names"
   ]
  },
  {
   "cell_type": "code",
   "execution_count": null,
   "id": "a209fce2",
   "metadata": {},
   "outputs": [],
   "source": []
  },
  {
   "cell_type": "code",
   "execution_count": null,
   "id": "97a083a7",
   "metadata": {},
   "outputs": [],
   "source": []
  },
  {
   "cell_type": "code",
   "execution_count": null,
   "id": "bf6c0066",
   "metadata": {},
   "outputs": [],
   "source": []
  }
 ],
 "metadata": {
  "kernelspec": {
   "display_name": "Python 3",
   "language": "python",
   "name": "python3"
  },
  "language_info": {
   "codemirror_mode": {
    "name": "ipython",
    "version": 3
   },
   "file_extension": ".py",
   "mimetype": "text/x-python",
   "name": "python",
   "nbconvert_exporter": "python",
   "pygments_lexer": "ipython3",
   "version": "3.13.4"
  }
 },
 "nbformat": 4,
 "nbformat_minor": 5
}
