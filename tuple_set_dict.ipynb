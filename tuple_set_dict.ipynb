{
 "cells": [
  {
   "cell_type": "markdown",
   "id": "d2b07324",
   "metadata": {},
   "source": [
    "**Dictionary**"
   ]
  },
  {
   "cell_type": "markdown",
   "id": "1bfb7d97",
   "metadata": {},
   "source": [
    "Key : Value "
   ]
  },
  {
   "cell_type": "code",
   "execution_count": 18,
   "id": "e8ca870b",
   "metadata": {},
   "outputs": [],
   "source": [
    "person = {\n",
    "    \"name\" : \"Ibrat\",\n",
    "    \"age\" : 12,\n",
    "    \"loves_football\" : True,\n",
    "    \"chess master\" : True\n",
    "}"
   ]
  },
  {
   "cell_type": "code",
   "execution_count": 4,
   "id": "d692dd2b",
   "metadata": {},
   "outputs": [
    {
     "data": {
      "text/plain": [
       "dict"
      ]
     },
     "execution_count": 4,
     "metadata": {},
     "output_type": "execute_result"
    }
   ],
   "source": [
    "type(person)"
   ]
  },
  {
   "cell_type": "code",
   "execution_count": 5,
   "id": "0257c072",
   "metadata": {},
   "outputs": [
    {
     "data": {
      "text/plain": [
       "'Ibrat'"
      ]
     },
     "execution_count": 5,
     "metadata": {},
     "output_type": "execute_result"
    }
   ],
   "source": [
    "person['name']"
   ]
  },
  {
   "cell_type": "code",
   "execution_count": 6,
   "id": "4712f919",
   "metadata": {},
   "outputs": [
    {
     "data": {
      "text/plain": [
       "True"
      ]
     },
     "execution_count": 6,
     "metadata": {},
     "output_type": "execute_result"
    }
   ],
   "source": [
    "person['loves_football']"
   ]
  },
  {
   "cell_type": "code",
   "execution_count": 7,
   "id": "aae46457",
   "metadata": {},
   "outputs": [
    {
     "ename": "KeyError",
     "evalue": "'Ibrat'",
     "output_type": "error",
     "traceback": [
      "\u001b[31m---------------------------------------------------------------------------\u001b[39m",
      "\u001b[31mKeyError\u001b[39m                                  Traceback (most recent call last)",
      "\u001b[36mCell\u001b[39m\u001b[36m \u001b[39m\u001b[32mIn[7]\u001b[39m\u001b[32m, line 1\u001b[39m\n\u001b[32m----> \u001b[39m\u001b[32m1\u001b[39m \u001b[43mperson\u001b[49m\u001b[43m[\u001b[49m\u001b[33;43m'\u001b[39;49m\u001b[33;43mIbrat\u001b[39;49m\u001b[33;43m'\u001b[39;49m\u001b[43m]\u001b[49m\n",
      "\u001b[31mKeyError\u001b[39m: 'Ibrat'"
     ]
    }
   ],
   "source": [
    "person['Ibrat']"
   ]
  },
  {
   "cell_type": "code",
   "execution_count": 19,
   "id": "5fe051c2",
   "metadata": {},
   "outputs": [],
   "source": [
    "person['is_married'] = False"
   ]
  },
  {
   "cell_type": "code",
   "execution_count": 9,
   "id": "2fa18a4a",
   "metadata": {},
   "outputs": [
    {
     "data": {
      "text/plain": [
       "{'name': 'Ibrat',\n",
       " 'age': 12,\n",
       " 'loves_football': True,\n",
       " 'chess master': True,\n",
       " 'is_married': False}"
      ]
     },
     "execution_count": 9,
     "metadata": {},
     "output_type": "execute_result"
    }
   ],
   "source": [
    "person"
   ]
  },
  {
   "cell_type": "code",
   "execution_count": 10,
   "id": "ac8608b1",
   "metadata": {},
   "outputs": [
    {
     "data": {
      "text/plain": [
       "dict_keys(['name', 'age', 'loves_football', 'chess master', 'is_married'])"
      ]
     },
     "execution_count": 10,
     "metadata": {},
     "output_type": "execute_result"
    }
   ],
   "source": [
    "person.keys()"
   ]
  },
  {
   "cell_type": "code",
   "execution_count": 11,
   "id": "f78d0691",
   "metadata": {},
   "outputs": [
    {
     "data": {
      "text/plain": [
       "dict_values(['Ibrat', 12, True, True, False])"
      ]
     },
     "execution_count": 11,
     "metadata": {},
     "output_type": "execute_result"
    }
   ],
   "source": [
    "person.values()"
   ]
  },
  {
   "cell_type": "code",
   "execution_count": 12,
   "id": "b16f9f56",
   "metadata": {},
   "outputs": [
    {
     "data": {
      "text/plain": [
       "dict_items([('name', 'Ibrat'), ('age', 12), ('loves_football', True), ('chess master', True), ('is_married', False)])"
      ]
     },
     "execution_count": 12,
     "metadata": {},
     "output_type": "execute_result"
    }
   ],
   "source": [
    "person.items()"
   ]
  },
  {
   "cell_type": "code",
   "execution_count": 20,
   "id": "5da2e065",
   "metadata": {},
   "outputs": [
    {
     "data": {
      "text/plain": [
       "{'name': 'Ibrat',\n",
       " 'age': 12,\n",
       " 'loves_football': True,\n",
       " 'chess master': True,\n",
       " 'is_married': False}"
      ]
     },
     "execution_count": 20,
     "metadata": {},
     "output_type": "execute_result"
    }
   ],
   "source": [
    "person1 = person.copy()\n",
    "person1"
   ]
  },
  {
   "cell_type": "code",
   "execution_count": 21,
   "id": "14ad755e",
   "metadata": {},
   "outputs": [],
   "source": [
    "person1['name'] = \"Diyor\""
   ]
  },
  {
   "cell_type": "code",
   "execution_count": 22,
   "id": "c1157383",
   "metadata": {},
   "outputs": [
    {
     "data": {
      "text/plain": [
       "{'name': 'Diyor',\n",
       " 'age': 12,\n",
       " 'loves_football': True,\n",
       " 'chess master': True,\n",
       " 'is_married': False}"
      ]
     },
     "execution_count": 22,
     "metadata": {},
     "output_type": "execute_result"
    }
   ],
   "source": [
    "person1"
   ]
  },
  {
   "cell_type": "code",
   "execution_count": 26,
   "id": "92354e50",
   "metadata": {},
   "outputs": [
    {
     "data": {
      "text/plain": [
       "{'name': 'Ibrat',\n",
       " 'age': 12,\n",
       " 'loves_football': True,\n",
       " 'chess master': True,\n",
       " 'is_married': False}"
      ]
     },
     "execution_count": 26,
     "metadata": {},
     "output_type": "execute_result"
    }
   ],
   "source": [
    "person"
   ]
  },
  {
   "cell_type": "code",
   "execution_count": null,
   "id": "1f64efc2",
   "metadata": {},
   "outputs": [],
   "source": [
    "person."
   ]
  },
  {
   "cell_type": "code",
   "execution_count": 2,
   "id": "b995c963",
   "metadata": {},
   "outputs": [
    {
     "data": {
      "text/plain": [
       "5"
      ]
     },
     "execution_count": 2,
     "metadata": {},
     "output_type": "execute_result"
    }
   ],
   "source": [
    "ages = [1, 2, 3, 4, 5]\n",
    "ages[4]"
   ]
  },
  {
   "cell_type": "markdown",
   "id": "6d33121b",
   "metadata": {},
   "source": []
  },
  {
   "cell_type": "code",
   "execution_count": 24,
   "id": "a5f9aba0",
   "metadata": {},
   "outputs": [],
   "source": [
    "x = person.get(\"name\")"
   ]
  },
  {
   "cell_type": "code",
   "execution_count": 25,
   "id": "66a680d7",
   "metadata": {},
   "outputs": [
    {
     "name": "stdout",
     "output_type": "stream",
     "text": [
      "Ibrat\n"
     ]
    }
   ],
   "source": [
    "print(x)"
   ]
  },
  {
   "cell_type": "code",
   "execution_count": 27,
   "id": "ac76c8bc",
   "metadata": {},
   "outputs": [
    {
     "data": {
      "text/plain": [
       "False"
      ]
     },
     "execution_count": 27,
     "metadata": {},
     "output_type": "execute_result"
    }
   ],
   "source": [
    "person.pop(\"is_married\")"
   ]
  },
  {
   "cell_type": "code",
   "execution_count": 28,
   "id": "1febc615",
   "metadata": {},
   "outputs": [
    {
     "data": {
      "text/plain": [
       "{'name': 'Ibrat', 'age': 12, 'loves_football': True, 'chess master': True}"
      ]
     },
     "execution_count": 28,
     "metadata": {},
     "output_type": "execute_result"
    }
   ],
   "source": [
    "person"
   ]
  },
  {
   "cell_type": "code",
   "execution_count": 30,
   "id": "5804f3cc",
   "metadata": {},
   "outputs": [],
   "source": [
    "person.get(\"Name\")"
   ]
  },
  {
   "cell_type": "markdown",
   "id": "93e75685",
   "metadata": {},
   "source": [
    "**Sets**"
   ]
  },
  {
   "cell_type": "code",
   "execution_count": 33,
   "id": "dbf41ad8",
   "metadata": {},
   "outputs": [
    {
     "data": {
      "text/plain": [
       "set"
      ]
     },
     "execution_count": 33,
     "metadata": {},
     "output_type": "execute_result"
    }
   ],
   "source": [
    "ages = {3, 2, 3, 4, 5, 3, 3, 4, 2, \"Ibrat\"}\n",
    "type(ages)"
   ]
  },
  {
   "cell_type": "code",
   "execution_count": 34,
   "id": "9db32b19",
   "metadata": {},
   "outputs": [
    {
     "data": {
      "text/plain": [
       "{2, 3, 4, 5, 'Ibrat'}"
      ]
     },
     "execution_count": 34,
     "metadata": {},
     "output_type": "execute_result"
    }
   ],
   "source": [
    "ages"
   ]
  },
  {
   "cell_type": "code",
   "execution_count": 36,
   "id": "4283a031",
   "metadata": {},
   "outputs": [
    {
     "data": {
      "text/plain": [
       "{'1500s,',\n",
       " '1960s',\n",
       " 'Aldus',\n",
       " 'Ipsum',\n",
       " 'Ipsum.',\n",
       " 'It',\n",
       " 'Letraset',\n",
       " 'Lorem',\n",
       " 'PageMaker',\n",
       " 'a',\n",
       " 'also',\n",
       " 'an',\n",
       " 'and',\n",
       " 'been',\n",
       " 'book.',\n",
       " 'but',\n",
       " 'centuries,',\n",
       " 'containing',\n",
       " 'desktop',\n",
       " 'dummy',\n",
       " 'electronic',\n",
       " 'essentially',\n",
       " 'ever',\n",
       " 'five',\n",
       " 'galley',\n",
       " 'has',\n",
       " 'in',\n",
       " 'including',\n",
       " \"industry's\",\n",
       " 'industry.',\n",
       " 'into',\n",
       " 'is',\n",
       " 'it',\n",
       " 'leap',\n",
       " 'like',\n",
       " 'make',\n",
       " 'more',\n",
       " 'not',\n",
       " 'of',\n",
       " 'only',\n",
       " 'passages,',\n",
       " 'popularised',\n",
       " 'printer',\n",
       " 'printing',\n",
       " 'publishing',\n",
       " 'recently',\n",
       " 'release',\n",
       " 'remaining',\n",
       " 'scrambled',\n",
       " 'sheets',\n",
       " 'simply',\n",
       " 'since',\n",
       " 'software',\n",
       " 'specimen',\n",
       " 'standard',\n",
       " 'survived',\n",
       " 'text',\n",
       " 'the',\n",
       " 'to',\n",
       " 'took',\n",
       " 'type',\n",
       " 'typesetting',\n",
       " 'typesetting,',\n",
       " 'unchanged.',\n",
       " 'unknown',\n",
       " 'versions',\n",
       " 'was',\n",
       " 'when',\n",
       " 'with'}"
      ]
     },
     "execution_count": 36,
     "metadata": {},
     "output_type": "execute_result"
    }
   ],
   "source": [
    "text = \"Lorem Ipsum is simply dummy text of the printing and typesetting industry. Lorem Ipsum has been the industry's standard dummy text ever since the 1500s, when an unknown printer took a galley of type and scrambled it to make a type specimen book. It has survived not only five centuries, but also the leap into electronic typesetting, remaining essentially unchanged. It was popularised in the 1960s with the release of Letraset sheets containing Lorem Ipsum passages, and more recently with desktop publishing software like Aldus PageMaker including versions of Lorem Ipsum.\"\n",
    "set(text.split())"
   ]
  },
  {
   "cell_type": "code",
   "execution_count": 37,
   "id": "568bce97",
   "metadata": {},
   "outputs": [
    {
     "ename": "TypeError",
     "evalue": "'set' object is not subscriptable",
     "output_type": "error",
     "traceback": [
      "\u001b[31m---------------------------------------------------------------------------\u001b[39m",
      "\u001b[31mTypeError\u001b[39m                                 Traceback (most recent call last)",
      "\u001b[36mCell\u001b[39m\u001b[36m \u001b[39m\u001b[32mIn[37]\u001b[39m\u001b[32m, line 1\u001b[39m\n\u001b[32m----> \u001b[39m\u001b[32m1\u001b[39m \u001b[43mages\u001b[49m\u001b[43m[\u001b[49m\u001b[32;43m3\u001b[39;49m\u001b[43m]\u001b[49m\n",
      "\u001b[31mTypeError\u001b[39m: 'set' object is not subscriptable"
     ]
    }
   ],
   "source": [
    "ages[3]"
   ]
  },
  {
   "cell_type": "code",
   "execution_count": null,
   "id": "666d4428",
   "metadata": {},
   "outputs": [],
   "source": [
    "True  ---> 1\n",
    "False ---> 0"
   ]
  },
  {
   "cell_type": "code",
   "execution_count": 68,
   "id": "575e3171",
   "metadata": {},
   "outputs": [
    {
     "data": {
      "text/plain": [
       "{0, 1, 4, 6, 'School'}"
      ]
     },
     "execution_count": 68,
     "metadata": {},
     "output_type": "execute_result"
    }
   ],
   "source": [
    "my_set = {1, 0, 4, 6, True, False, \"School\"}\n",
    "my_set"
   ]
  },
  {
   "cell_type": "markdown",
   "id": "9e360c7a",
   "metadata": {},
   "source": [
    "Note: Set items are unchangeable, but you can remove items and add new items."
   ]
  },
  {
   "cell_type": "code",
   "execution_count": 39,
   "id": "1be85480",
   "metadata": {},
   "outputs": [],
   "source": [
    "my_set.clear()"
   ]
  },
  {
   "cell_type": "code",
   "execution_count": 40,
   "id": "3268e4c6",
   "metadata": {},
   "outputs": [
    {
     "data": {
      "text/plain": [
       "set()"
      ]
     },
     "execution_count": 40,
     "metadata": {},
     "output_type": "execute_result"
    }
   ],
   "source": [
    "my_set"
   ]
  },
  {
   "cell_type": "code",
   "execution_count": 42,
   "id": "3cf5a1e9",
   "metadata": {},
   "outputs": [
    {
     "data": {
      "text/plain": [
       "{0, 1, 4, 6, 'School'}"
      ]
     },
     "execution_count": 42,
     "metadata": {},
     "output_type": "execute_result"
    }
   ],
   "source": [
    "my_set.add(True)\n",
    "my_set"
   ]
  },
  {
   "cell_type": "code",
   "execution_count": 72,
   "id": "1788405a",
   "metadata": {},
   "outputs": [
    {
     "data": {
      "text/plain": [
       "{6}"
      ]
     },
     "execution_count": 72,
     "metadata": {},
     "output_type": "execute_result"
    }
   ],
   "source": [
    "my_set.pop()\n",
    "my_set"
   ]
  },
  {
   "cell_type": "code",
   "execution_count": 61,
   "id": "3d6bf2da",
   "metadata": {},
   "outputs": [
    {
     "data": {
      "text/plain": [
       "{1, 4, 6}"
      ]
     },
     "execution_count": 61,
     "metadata": {},
     "output_type": "execute_result"
    }
   ],
   "source": [
    "my_set.remove(\"School\")\n",
    "my_set"
   ]
  },
  {
   "cell_type": "code",
   "execution_count": 73,
   "id": "77d4207e",
   "metadata": {},
   "outputs": [],
   "source": [
    "set2 = {\"Library\" , \"Hospital\"}"
   ]
  },
  {
   "cell_type": "code",
   "execution_count": 74,
   "id": "73eb173c",
   "metadata": {},
   "outputs": [
    {
     "data": {
      "text/plain": [
       "{6, 'Hospital', 'Library'}"
      ]
     },
     "execution_count": 74,
     "metadata": {},
     "output_type": "execute_result"
    }
   ],
   "source": [
    "my_set.update(set2)\n",
    "my_set"
   ]
  },
  {
   "cell_type": "markdown",
   "id": "22d44f78",
   "metadata": {},
   "source": [
    "**Tuples**"
   ]
  },
  {
   "cell_type": "markdown",
   "id": "3e64f020",
   "metadata": {},
   "source": [
    "Tuple items are indexed, the first item has index [0], the second item has index [1] etc."
   ]
  },
  {
   "cell_type": "markdown",
   "id": "0c9036a8",
   "metadata": {},
   "source": [
    "A tuple is a collection which is ordered and unchangeable."
   ]
  },
  {
   "cell_type": "code",
   "execution_count": 76,
   "id": "6a73a413",
   "metadata": {},
   "outputs": [
    {
     "data": {
      "text/plain": [
       "tuple"
      ]
     },
     "execution_count": 76,
     "metadata": {},
     "output_type": "execute_result"
    }
   ],
   "source": [
    "scores = (4, 3, 5, 2, 1, 2, 3, 5)\n",
    "type(scores)"
   ]
  },
  {
   "cell_type": "code",
   "execution_count": 80,
   "id": "bd1f9d44",
   "metadata": {},
   "outputs": [
    {
     "data": {
      "text/plain": [
       "(2, 2)"
      ]
     },
     "execution_count": 80,
     "metadata": {},
     "output_type": "execute_result"
    }
   ],
   "source": [
    "scores[3:6:2]"
   ]
  },
  {
   "cell_type": "code",
   "execution_count": 81,
   "id": "b581751e",
   "metadata": {},
   "outputs": [
    {
     "data": {
      "text/plain": [
       "2"
      ]
     },
     "execution_count": 81,
     "metadata": {},
     "output_type": "execute_result"
    }
   ],
   "source": [
    "scores.count(5)"
   ]
  },
  {
   "cell_type": "code",
   "execution_count": 82,
   "id": "8753ba87",
   "metadata": {},
   "outputs": [
    {
     "data": {
      "text/plain": [
       "(4, 3, 5, 2, 1, 2, 3, 5)"
      ]
     },
     "execution_count": 82,
     "metadata": {},
     "output_type": "execute_result"
    }
   ],
   "source": [
    "scores"
   ]
  },
  {
   "cell_type": "code",
   "execution_count": 83,
   "id": "91224575",
   "metadata": {},
   "outputs": [
    {
     "data": {
      "text/plain": [
       "4"
      ]
     },
     "execution_count": 83,
     "metadata": {},
     "output_type": "execute_result"
    }
   ],
   "source": [
    "scores.index(1)"
   ]
  },
  {
   "cell_type": "code",
   "execution_count": 85,
   "id": "5edc5b24",
   "metadata": {},
   "outputs": [
    {
     "ename": "TypeError",
     "evalue": "'int' object is not iterable",
     "output_type": "error",
     "traceback": [
      "\u001b[31m---------------------------------------------------------------------------\u001b[39m",
      "\u001b[31mTypeError\u001b[39m                                 Traceback (most recent call last)",
      "\u001b[36mCell\u001b[39m\u001b[36m \u001b[39m\u001b[32mIn[85]\u001b[39m\u001b[32m, line 1\u001b[39m\n\u001b[32m----> \u001b[39m\u001b[32m1\u001b[39m scores + \u001b[38;5;28;43mtuple\u001b[39;49m\u001b[43m(\u001b[49m\u001b[32;43m5\u001b[39;49m\u001b[43m)\u001b[49m\n",
      "\u001b[31mTypeError\u001b[39m: 'int' object is not iterable"
     ]
    }
   ],
   "source": [
    "scores + tuple(5)"
   ]
  },
  {
   "cell_type": "markdown",
   "id": "1c540f26",
   "metadata": {},
   "source": [
    "**Type conversion**"
   ]
  },
  {
   "cell_type": "code",
   "execution_count": 86,
   "id": "6507431d",
   "metadata": {},
   "outputs": [
    {
     "data": {
      "text/plain": [
       "{6, 'Hospital', 'Library'}"
      ]
     },
     "execution_count": 86,
     "metadata": {},
     "output_type": "execute_result"
    }
   ],
   "source": [
    "my_set"
   ]
  },
  {
   "cell_type": "code",
   "execution_count": 87,
   "id": "97631b5e",
   "metadata": {},
   "outputs": [
    {
     "data": {
      "text/plain": [
       "('Library', 6, 'Hospital')"
      ]
     },
     "execution_count": 87,
     "metadata": {},
     "output_type": "execute_result"
    }
   ],
   "source": [
    "tuple(my_set)"
   ]
  },
  {
   "cell_type": "code",
   "execution_count": 88,
   "id": "56815472",
   "metadata": {},
   "outputs": [
    {
     "data": {
      "text/plain": [
       "5"
      ]
     },
     "execution_count": 88,
     "metadata": {},
     "output_type": "execute_result"
    }
   ],
   "source": [
    "int(\"5\")"
   ]
  },
  {
   "cell_type": "code",
   "execution_count": null,
   "id": "5c438162",
   "metadata": {},
   "outputs": [],
   "source": [
    "set()\n",
    "tuple()\n",
    "dict()\n",
    "list()"
   ]
  },
  {
   "cell_type": "code",
   "execution_count": 94,
   "id": "fdbf7c8b",
   "metadata": {},
   "outputs": [
    {
     "data": {
      "text/plain": [
       "{2, 3, 4, 5, 'Ibrat'}"
      ]
     },
     "execution_count": 94,
     "metadata": {},
     "output_type": "execute_result"
    }
   ],
   "source": [
    "ages"
   ]
  },
  {
   "cell_type": "code",
   "execution_count": 93,
   "id": "0cbd8a6e",
   "metadata": {},
   "outputs": [
    {
     "ename": "ValueError",
     "evalue": "dictionary update sequence element #0 has length 5; 2 is required",
     "output_type": "error",
     "traceback": [
      "\u001b[31m---------------------------------------------------------------------------\u001b[39m",
      "\u001b[31mValueError\u001b[39m                                Traceback (most recent call last)",
      "\u001b[36mCell\u001b[39m\u001b[36m \u001b[39m\u001b[32mIn[93]\u001b[39m\u001b[32m, line 1\u001b[39m\n\u001b[32m----> \u001b[39m\u001b[32m1\u001b[39m \u001b[38;5;28;43mdict\u001b[39;49m\u001b[43m(\u001b[49m\u001b[43mages\u001b[49m\u001b[43m)\u001b[49m\n",
      "\u001b[31mValueError\u001b[39m: dictionary update sequence element #0 has length 5; 2 is required"
     ]
    }
   ],
   "source": [
    "dict(ages)"
   ]
  },
  {
   "cell_type": "code",
   "execution_count": 96,
   "id": "e8fd2fda",
   "metadata": {},
   "outputs": [
    {
     "data": {
      "text/plain": [
       "{'Ibrat': {2, 3, 4, 5, 'Ibrat'},\n",
       " 2: {2, 3, 4, 5, 'Ibrat'},\n",
       " 3: {2, 3, 4, 5, 'Ibrat'},\n",
       " 4: {2, 3, 4, 5, 'Ibrat'},\n",
       " 5: {2, 3, 4, 5, 'Ibrat'}}"
      ]
     },
     "execution_count": 96,
     "metadata": {},
     "output_type": "execute_result"
    }
   ],
   "source": [
    "dict.fromkeys(ages, ages)"
   ]
  },
  {
   "cell_type": "code",
   "execution_count": null,
   "id": "1cdd1dd8",
   "metadata": {},
   "outputs": [],
   "source": []
  }
 ],
 "metadata": {
  "kernelspec": {
   "display_name": "Python 3",
   "language": "python",
   "name": "python3"
  },
  "language_info": {
   "codemirror_mode": {
    "name": "ipython",
    "version": 3
   },
   "file_extension": ".py",
   "mimetype": "text/x-python",
   "name": "python",
   "nbconvert_exporter": "python",
   "pygments_lexer": "ipython3",
   "version": "3.13.4"
  }
 },
 "nbformat": 4,
 "nbformat_minor": 5
}
