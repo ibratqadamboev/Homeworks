{
 "cells": [
  {
   "cell_type": "markdown",
   "id": "d42e93ba",
   "metadata": {},
   "source": [
    "### This jupyter notebook contains the content of the lesson \"Pygame module\"\n",
    "\n",
    "**Author : Umidjon Sattorov. Machine Learning engineer**"
   ]
  },
  {
   "cell_type": "code",
   "execution_count": null,
   "id": "f0304ede",
   "metadata": {},
   "outputs": [],
   "source": [
    "%pip list"
   ]
  },
  {
   "cell_type": "code",
   "execution_count": null,
   "id": "f0402dc6",
   "metadata": {},
   "outputs": [],
   "source": [
    "%pip install pygame"
   ]
  },
  {
   "cell_type": "code",
   "execution_count": null,
   "id": "0e13c85c",
   "metadata": {},
   "outputs": [],
   "source": [
    "pygame.display.set_mode(300, 200))"
   ]
  },
  {
   "cell_type": "code",
   "execution_count": null,
   "id": "f26486d1",
   "metadata": {},
   "outputs": [],
   "source": [
    "while True :\n",
    "    print(\"Ibrat\")"
   ]
  },
  {
   "cell_type": "code",
   "execution_count": 17,
   "id": "f86800bd",
   "metadata": {},
   "outputs": [
    {
     "name": "stdout",
     "output_type": "stream",
     "text": [
      "1\n",
      "2\n",
      "3\n"
     ]
    }
   ],
   "source": [
    "my_list = [1, 2, 3]\n",
    "for i in my_list :\n",
    "    print(i)"
   ]
  },
  {
   "cell_type": "code",
   "execution_count": 1,
   "id": "4b583fdf",
   "metadata": {},
   "outputs": [
    {
     "name": "stdout",
     "output_type": "stream",
     "text": [
      "pygame 2.6.1 (SDL 2.28.4, Python 3.13.4)\n",
      "Hello from the pygame community. https://www.pygame.org/contribute.html\n"
     ]
    },
    {
     "ename": "SystemExit",
     "evalue": "",
     "output_type": "error",
     "traceback": [
      "An exception has occurred, use %tb to see the full traceback.\n",
      "\u001b[31mSystemExit\u001b[39m\n"
     ]
    },
    {
     "name": "stderr",
     "output_type": "stream",
     "text": [
      "C:\\Users\\User\\AppData\\Roaming\\Python\\Python313\\site-packages\\IPython\\core\\interactiveshell.py:3680: UserWarning: To exit: use 'exit', 'quit', or Ctrl-D.\n",
      "  warn(\"To exit: use 'exit', 'quit', or Ctrl-D.\", stacklevel=1)\n"
     ]
    }
   ],
   "source": [
    "# Importing modules\n",
    "import pygame\n",
    "import sys \n",
    "\n",
    "# Initialization of pygame\n",
    "pygame.init()\n",
    "\n",
    "# Screen\n",
    "screen = pygame.display.set_mode((1900, 1001), flags = pygame.RESIZABLE)\n",
    "pygame.display.set_caption(\"My sample game\")\n",
    "\n",
    "# Setting clock(FPS)\n",
    "clock = pygame.time.Clock()\n",
    "\n",
    "# Main game Loop\n",
    "running = True \n",
    "while running :\n",
    "    for event in pygame.event.get() :\n",
    "        if event.type == pygame.QUIT :\n",
    "            running = False\n",
    "    \n",
    "    # RGB color\n",
    "    screen.fill((0, 255, 0 ))\n",
    "\n",
    "    # Updating display 60 FPS\n",
    "    pygame.display.flip()\n",
    "    clock.tick(120)\n",
    "\n",
    "pygame.quit()\n",
    "sys.exit()"
   ]
  },
  {
   "cell_type": "code",
   "execution_count": null,
   "id": "0c579a6b",
   "metadata": {},
   "outputs": [],
   "source": []
  },
  {
   "cell_type": "code",
   "execution_count": null,
   "id": "407aa6e2",
   "metadata": {},
   "outputs": [],
   "source": []
  },
  {
   "cell_type": "code",
   "execution_count": null,
   "id": "2408d651",
   "metadata": {},
   "outputs": [],
   "source": []
  },
  {
   "cell_type": "code",
   "execution_count": 33,
   "id": "2d4b98bc",
   "metadata": {},
   "outputs": [
    {
     "ename": "SystemExit",
     "evalue": "",
     "output_type": "error",
     "traceback": [
      "An exception has occurred, use %tb to see the full traceback.\n",
      "\u001b[31mSystemExit\u001b[39m\n"
     ]
    },
    {
     "name": "stderr",
     "output_type": "stream",
     "text": [
      "C:\\Users\\User\\AppData\\Roaming\\Python\\Python313\\site-packages\\IPython\\core\\interactiveshell.py:3680: UserWarning: To exit: use 'exit', 'quit', or Ctrl-D.\n",
      "  warn(\"To exit: use 'exit', 'quit', or Ctrl-D.\", stacklevel=1)\n"
     ]
    }
   ],
   "source": [
    "# Initialization of pygame\n",
    "pygame.init()\n",
    "\n",
    "# Screen\n",
    "screen = pygame.display.set_mode((1900, 1000), flags = pygame.RESIZABLE)\n",
    "pygame.display.set_caption(\"Rectangle player\")\n",
    "\n",
    "# Setting clock(FPS)\n",
    "clock = pygame.time.Clock()\n",
    "\n",
    "# Player of the game\n",
    "player_x = 100\n",
    "player_y = 100\n",
    "player_speed = 5\n",
    "\n",
    "second_player_x=250\n",
    "second_player_y =250\n",
    "second_player_speed =1\n",
    "\n",
    "\n",
    "running = True \n",
    "while running :\n",
    "    for event in pygame.event.get() :\n",
    "        if event.type == pygame.QUIT :\n",
    "            running = False \n",
    "\n",
    "    # Keyboard\n",
    "    keys = pygame.key.get_pressed()\n",
    "    if keys[pygame.K_LEFT] :\n",
    "        player_x -= player_speed\n",
    "    if keys[pygame.K_RIGHT]:\n",
    "        player_x += player_speed\n",
    "    if keys[pygame.K_UP]:\n",
    "        player_y -= player_speed\n",
    "    if keys[pygame.K_DOWN]:\n",
    "        player_y += player_speed\n",
    "\n",
    "    # Background fill\n",
    "    screen.fill((0, 255, 0))\n",
    "\n",
    "    # Player\n",
    "    pygame.draw.rect(screen, (255, 255, 255), (player_x, player_y, 50, 50))\n",
    "    pygame.draw.rect(screen, (255, 255, 0), (second_player_x, second_player_y, 50, 50))\n",
    "\n",
    "    pygame.display.flip()\n",
    "    clock.tick(60)\n",
    "\n",
    "pygame.quit()\n",
    "sys.exit()"
   ]
  },
  {
   "cell_type": "code",
   "execution_count": 2,
   "id": "34bc8d28",
   "metadata": {},
   "outputs": [
    {
     "ename": "SystemExit",
     "evalue": "",
     "output_type": "error",
     "traceback": [
      "An exception has occurred, use %tb to see the full traceback.\n",
      "\u001b[31mSystemExit\u001b[39m\n"
     ]
    }
   ],
   "source": [
    "import pygame \n",
    "import sys\n",
    "\n",
    "pygame.init()\n",
    "screen =pygame.display.set_mode((2000, 1000),flags=pygame.RESIZABLE)\n",
    "pygame.display.set_caption(\"Rectangle player\")\n",
    "clock =pygame.time.Clock()\n",
    "\n",
    "player_x =100\n",
    "player_y =100\n",
    "player_speed =5\n",
    "\n",
    "second_player_x =500\n",
    "second_player_y =500\n",
    "second_player_speed =1\n",
    "\n",
    "#Obyekt yasaymiz\n",
    "player = pygame.Rect(player_x, player_y, 50, 50)\n",
    "enemy = pygame.Rect(second_player_x, second_player_y, 250, 250)\n",
    "\n",
    "running = True\n",
    "while running :\n",
    "    for event in pygame.event.get() :\n",
    "        if event.type == pygame.QUIT :\n",
    "            running = False\n",
    "\n",
    "    keys = pygame.key.get_pressed()\n",
    "    if keys[pygame.K_LEFT] :\n",
    "        player.left -= player_speed\n",
    "    if keys[pygame.K_RIGHT] :\n",
    "        player.left += player_speed\n",
    "    if keys[pygame.K_UP] :\n",
    "        player.top -= player_speed\n",
    "    if keys[pygame.K_DOWN] :\n",
    "        player.top += player_speed\n",
    "\n",
    "    screen.fill((0, 255, 0))\n",
    "\n",
    "    pygame.draw.rect(screen,(255, 255, 255), player)\n",
    "    pygame.draw.rect(screen,(255, 255, 0), enemy)\n",
    "\n",
    "    \n",
    "    if player.colliderect(enemy) :\n",
    "        screen.fill((255, 255, 255))\n",
    "    \n",
    "\n",
    "    pygame.display.flip()\n",
    "    clock.tick(60)\n",
    "\n",
    "pygame.quit()\n",
    "sys.exit()\n",
    "\n"
   ]
  },
  {
   "cell_type": "markdown",
   "id": "c3c80dbf",
   "metadata": {},
   "source": [
    "**Task**"
   ]
  },
  {
   "attachments": {
    "image.png": {
     "image/png": "[encoded data removed]"
    }
   },
   "cell_type": "markdown",
   "id": "76c86562",
   "metadata": {},
   "source": [
    "1) Make game(player - rectangle, enemy - circle), when we hit the enemy object, it should disappear and full screen should be filled with white color.\n",
    "\n",
    "Use following logic : \n",
    "\n",
    "![image.png](attachment:image.png)\n"
   ]
  },
  {
   "cell_type": "code",
   "execution_count": null,
   "id": "d2be1e2a",
   "metadata": {},
   "outputs": [],
   "source": []
  },
  {
   "cell_type": "markdown",
   "id": "0d2f757c",
   "metadata": {},
   "source": [
    "2) Make new game, but this time move enemy object vertically consistently."
   ]
  }
 ],
 "metadata": {
  "kernelspec": {
   "display_name": "Python 3",
   "language": "python",
   "name": "python3"
  },
  "language_info": {
   "codemirror_mode": {
    "name": "ipython",
    "version": 3
   },
   "file_extension": ".py",
   "mimetype": "text/x-python",
   "name": "python",
   "nbconvert_exporter": "python",
   "pygments_lexer": "ipython3",
   "version": "3.13.4"
  }
 },
 "nbformat": 4,
 "nbformat_minor": 5
}
