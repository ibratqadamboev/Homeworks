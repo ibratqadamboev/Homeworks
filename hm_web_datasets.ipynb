{
 "cells": [
  {
   "cell_type": "markdown",
   "id": "b3b75fbc",
   "metadata": {},
   "source": [
    "### This jupyter notebook contains practical assignment for the topic \"Web datasets\""
   ]
  },
  {
   "cell_type": "code",
   "execution_count": 9,
   "id": "8363da4e",
   "metadata": {},
   "outputs": [],
   "source": [
    "import pandas as pd"
   ]
  },
  {
   "cell_type": "markdown",
   "id": "4738c938",
   "metadata": {},
   "source": [
    "# 1-topshiriq\n",
    "1. Pandas kutubxonasidan foydalanib, quyida berilgan link ichidan barcha jadvallarni o‘qing va roʻyxat shaklida saqlang.\n",
    " * https://en.wikipedia.org/wiki/Fossil_fuel_exporters\n",
    "2. Har bir jadvalning birinchi 1 qatorini ekranga chiqaring.\n",
    "\n",
    "\n",
    "    "
   ]
  },
  {
   "cell_type": "code",
   "execution_count": 22,
   "id": "7d7077e7",
   "metadata": {},
   "outputs": [
    {
     "data": {
      "text/plain": [
       "7"
      ]
     },
     "execution_count": 22,
     "metadata": {},
     "output_type": "execute_result"
    }
   ],
   "source": [
    "df = pd.read_html('./html.html')\n",
    "len(df)"
   ]
  },
  {
   "cell_type": "code",
   "execution_count": 25,
   "id": "c2c31496",
   "metadata": {},
   "outputs": [
    {
     "name": "stdout",
     "output_type": "stream",
     "text": [
      "    0                                                  1\n",
      "0 NaN  This article needs to be updated. Please help ...\n",
      "   Rank Country/region                       Oil - exports Date of information\n",
      "0     1   Saudi Arabia  6,658,642 bbl/d (1,058,639.5 m3/d)           2020 est.\n",
      "   Rank Country/region  Natural gas - exports (cu m) Date of information\n",
      "0     1         Russia                  199928345000           2020 est.\n",
      "   Rank    Country  Coal - exports (thousand short tons)  Date of information\n",
      "0     1  Indonesia                                451520                 2020\n",
      "  vteLists of countries by energy rankings  \\\n",
      "0                              Fossil Fuel   \n",
      "\n",
      "          vteLists of countries by energy rankings.1  \n",
      "0  Petroleum All Production Consumption Exports I...  \n",
      "           0                                                  1\n",
      "0  Petroleum  All Production Consumption Exports Imports Res...\n",
      "         0                                   1\n",
      "0  Uranium  All Production Generation Reserves\n"
     ]
    }
   ],
   "source": [
    "for i in range(len(df)) :\n",
    "    print(df[i].head(1))"
   ]
  },
  {
   "cell_type": "markdown",
   "id": "958b1ed3",
   "metadata": {},
   "source": [
    "# 2-topshiriq\n",
    "Yuqorida yaratilgan jadvallar roʻyxatidan eng uzunini `largest_data.csv` fayliga saqlang."
   ]
  },
  {
   "cell_type": "code",
   "execution_count": 31,
   "id": "7d92f3ba",
   "metadata": {},
   "outputs": [
    {
     "data": {
      "text/plain": [
       "11"
      ]
     },
     "execution_count": 31,
     "metadata": {},
     "output_type": "execute_result"
    }
   ],
   "source": [
    "# Your code goes here\n",
    "max(len(df[0]), len(df[1]), len(df[2]), len(df[3]), len(df[4]), len(df[5]), len(df[6]))"
   ]
  },
  {
   "cell_type": "code",
   "execution_count": 34,
   "id": "911e1ddf",
   "metadata": {},
   "outputs": [],
   "source": [
    "df[4].to_csv('largest_df.csv', sep = \"|\")"
   ]
  },
  {
   "cell_type": "markdown",
   "id": "54ef8378",
   "metadata": {},
   "source": [
    "# 3-topshiriq\n",
    "1. Quyidagi link orqali json maʼlumotni yuklab oling va uni climate_change_co2.json nomi bilan saqlang.\n",
    " * https://raw.githubusercontent.com/alishermutalov/praktikum-datasets/refs/heads/praktikum/json_data.json\n",
    "2. Maʼlumotlar boshidan 5 ta qatorni ekranga chiqaring!\n"
   ]
  },
  {
   "cell_type": "code",
   "execution_count": 5,
   "id": "87d506ca",
   "metadata": {},
   "outputs": [
    {
     "data": {
      "text/html": [
       "<div>\n",
       "<style scoped>\n",
       "    .dataframe tbody tr th:only-of-type {\n",
       "        vertical-align: middle;\n",
       "    }\n",
       "\n",
       "    .dataframe tbody tr th {\n",
       "        vertical-align: top;\n",
       "    }\n",
       "\n",
       "    .dataframe thead th {\n",
       "        text-align: right;\n",
       "    }\n",
       "</style>\n",
       "<table border=\"1\" class=\"dataframe\">\n",
       "  <thead>\n",
       "    <tr style=\"text-align: right;\">\n",
       "      <th></th>\n",
       "      <th>Year</th>\n",
       "      <th>Total</th>\n",
       "      <th>Gas Fuel</th>\n",
       "      <th>Liquid Fuel</th>\n",
       "      <th>Solid Fuel</th>\n",
       "      <th>Cement</th>\n",
       "      <th>Gas Flaring</th>\n",
       "      <th>Per Capita</th>\n",
       "    </tr>\n",
       "  </thead>\n",
       "  <tbody>\n",
       "    <tr>\n",
       "      <th>0</th>\n",
       "      <td>2010</td>\n",
       "      <td>9167</td>\n",
       "      <td>1702</td>\n",
       "      <td>3114</td>\n",
       "      <td>3842</td>\n",
       "      <td>450</td>\n",
       "      <td>59</td>\n",
       "      <td>1.33</td>\n",
       "    </tr>\n",
       "    <tr>\n",
       "      <th>1</th>\n",
       "      <td>2009</td>\n",
       "      <td>8740</td>\n",
       "      <td>1585</td>\n",
       "      <td>3056</td>\n",
       "      <td>3620</td>\n",
       "      <td>413</td>\n",
       "      <td>66</td>\n",
       "      <td>1.28</td>\n",
       "    </tr>\n",
       "    <tr>\n",
       "      <th>2</th>\n",
       "      <td>2008</td>\n",
       "      <td>8783</td>\n",
       "      <td>1631</td>\n",
       "      <td>3122</td>\n",
       "      <td>3571</td>\n",
       "      <td>388</td>\n",
       "      <td>71</td>\n",
       "      <td>1.30</td>\n",
       "    </tr>\n",
       "    <tr>\n",
       "      <th>3</th>\n",
       "      <td>2007</td>\n",
       "      <td>8566</td>\n",
       "      <td>1572</td>\n",
       "      <td>3081</td>\n",
       "      <td>3464</td>\n",
       "      <td>382</td>\n",
       "      <td>68</td>\n",
       "      <td>1.28</td>\n",
       "    </tr>\n",
       "    <tr>\n",
       "      <th>4</th>\n",
       "      <td>2006</td>\n",
       "      <td>8370</td>\n",
       "      <td>1525</td>\n",
       "      <td>3089</td>\n",
       "      <td>3339</td>\n",
       "      <td>356</td>\n",
       "      <td>61</td>\n",
       "      <td>1.27</td>\n",
       "    </tr>\n",
       "  </tbody>\n",
       "</table>\n",
       "</div>"
      ],
      "text/plain": [
       "   Year  Total  Gas Fuel  Liquid Fuel  Solid Fuel  Cement  Gas Flaring  \\\n",
       "0  2010   9167      1702         3114        3842     450           59   \n",
       "1  2009   8740      1585         3056        3620     413           66   \n",
       "2  2008   8783      1631         3122        3571     388           71   \n",
       "3  2007   8566      1572         3081        3464     382           68   \n",
       "4  2006   8370      1525         3089        3339     356           61   \n",
       "\n",
       "   Per Capita  \n",
       "0        1.33  \n",
       "1        1.28  \n",
       "2        1.30  \n",
       "3        1.28  \n",
       "4        1.27  "
      ]
     },
     "execution_count": 5,
     "metadata": {},
     "output_type": "execute_result"
    }
   ],
   "source": [
    "url = \"https://raw.githubusercontent.com/alishermutalov/praktikum-datasets/refs/heads/praktikum/json_data.json\"\n",
    "#Your code goes here\n",
    "df = pd.read_json(\"https://raw.githubusercontent.com/alishermutalov/praktikum-datasets/refs/heads/praktikum/json_data.json\")\n",
    "df.head(5)"
   ]
  },
  {
   "cell_type": "markdown",
   "id": "3fa014a9",
   "metadata": {},
   "source": [
    "# 4-topshiriq\n",
    "1. Quyida berilgan linkga `get` soʻrovini yuborish orqali `json` maʼlumotlarini `posts.json` fayliga saqlang.\n",
    "  * https://jsonplaceholder.typicode.com/posts/\n",
    "2. Ushbu maʼlumotlarni dataframe koʻrinishida saqlang va tasodifiy 5 ta qatorni ekranga chiqaring."
   ]
  },
  {
   "cell_type": "code",
   "execution_count": 11,
   "id": "d063d3e3",
   "metadata": {},
   "outputs": [],
   "source": [
    "url = \"https://jsonplaceholder.typicode.com/posts/\"\n",
    "#Your code goes here\n",
    "import requests\n",
    "\n",
    "url\n",
    "json_file = {\n",
    "}\n",
    "\n",
    "res = requests.get(url = url, json = json_file).json()\n",
    "df = pd.DataFrame(res)\n",
    "\n",
    "df.to_json(\"posts.json\")"
   ]
  },
  {
   "cell_type": "code",
   "execution_count": 17,
   "id": "a203b729",
   "metadata": {},
   "outputs": [
    {
     "data": {
      "text/html": [
       "<div>\n",
       "<style scoped>\n",
       "    .dataframe tbody tr th:only-of-type {\n",
       "        vertical-align: middle;\n",
       "    }\n",
       "\n",
       "    .dataframe tbody tr th {\n",
       "        vertical-align: top;\n",
       "    }\n",
       "\n",
       "    .dataframe thead th {\n",
       "        text-align: right;\n",
       "    }\n",
       "</style>\n",
       "<table border=\"1\" class=\"dataframe\">\n",
       "  <thead>\n",
       "    <tr style=\"text-align: right;\">\n",
       "      <th></th>\n",
       "      <th>userId</th>\n",
       "      <th>id</th>\n",
       "      <th>title</th>\n",
       "      <th>body</th>\n",
       "    </tr>\n",
       "  </thead>\n",
       "  <tbody>\n",
       "    <tr>\n",
       "      <th>0</th>\n",
       "      <td>1</td>\n",
       "      <td>1</td>\n",
       "      <td>sunt aut facere repellat provident occaecati e...</td>\n",
       "      <td>quia et suscipit\\nsuscipit recusandae consequu...</td>\n",
       "    </tr>\n",
       "    <tr>\n",
       "      <th>1</th>\n",
       "      <td>1</td>\n",
       "      <td>2</td>\n",
       "      <td>qui est esse</td>\n",
       "      <td>est rerum tempore vitae\\nsequi sint nihil repr...</td>\n",
       "    </tr>\n",
       "    <tr>\n",
       "      <th>2</th>\n",
       "      <td>1</td>\n",
       "      <td>3</td>\n",
       "      <td>ea molestias quasi exercitationem repellat qui...</td>\n",
       "      <td>et iusto sed quo iure\\nvoluptatem occaecati om...</td>\n",
       "    </tr>\n",
       "    <tr>\n",
       "      <th>3</th>\n",
       "      <td>1</td>\n",
       "      <td>4</td>\n",
       "      <td>eum et est occaecati</td>\n",
       "      <td>ullam et saepe reiciendis voluptatem adipisci\\...</td>\n",
       "    </tr>\n",
       "    <tr>\n",
       "      <th>4</th>\n",
       "      <td>1</td>\n",
       "      <td>5</td>\n",
       "      <td>nesciunt quas odio</td>\n",
       "      <td>repudiandae veniam quaerat sunt sed\\nalias aut...</td>\n",
       "    </tr>\n",
       "  </tbody>\n",
       "</table>\n",
       "</div>"
      ],
      "text/plain": [
       "   userId  id                                              title  \\\n",
       "0       1   1  sunt aut facere repellat provident occaecati e...   \n",
       "1       1   2                                       qui est esse   \n",
       "2       1   3  ea molestias quasi exercitationem repellat qui...   \n",
       "3       1   4                               eum et est occaecati   \n",
       "4       1   5                                 nesciunt quas odio   \n",
       "\n",
       "                                                body  \n",
       "0  quia et suscipit\\nsuscipit recusandae consequu...  \n",
       "1  est rerum tempore vitae\\nsequi sint nihil repr...  \n",
       "2  et iusto sed quo iure\\nvoluptatem occaecati om...  \n",
       "3  ullam et saepe reiciendis voluptatem adipisci\\...  \n",
       "4  repudiandae veniam quaerat sunt sed\\nalias aut...  "
      ]
     },
     "execution_count": 17,
     "metadata": {},
     "output_type": "execute_result"
    }
   ],
   "source": [
    "url\n",
    "df = pd.read_json(url)\n",
    "df.head(5)"
   ]
  }
 ],
 "metadata": {
  "kernelspec": {
   "display_name": "Python 3",
   "language": "python",
   "name": "python3"
  },
  "language_info": {
   "codemirror_mode": {
    "name": "ipython",
    "version": 3
   },
   "file_extension": ".py",
   "mimetype": "text/x-python",
   "name": "python",
   "nbconvert_exporter": "python",
   "pygments_lexer": "ipython3",
   "version": "3.13.4"
  }
 },
 "nbformat": 4,
 "nbformat_minor": 5
}
