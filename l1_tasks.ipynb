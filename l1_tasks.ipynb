{
 "cells": [
  {
   "cell_type": "markdown",
   "id": "11cc68ff",
   "metadata": {},
   "source": [
    "### This jupyter notebook contains practical tasks for the topic \"Conditional Loops\"\n",
    "\n",
    "**Author : Umidjon Sattorov. Machine Learning engineer**"
   ]
  },
  {
   "cell_type": "markdown",
   "id": "57a14cee",
   "metadata": {},
   "source": [
    "1. Напишите программу, которая выводит на экран только положительные числа из следующего списка."
   ]
  },
  {
   "cell_type": "code",
   "execution_count": 7,
   "id": "ede07340",
   "metadata": {},
   "outputs": [
    {
     "name": "stdout",
     "output_type": "stream",
     "text": [
      "5\n",
      "10\n",
      "0\n",
      "12\n"
     ]
    }
   ],
   "source": [
    "numbers = [5, -3, 10, -8, 0, 12, -1]\n",
    "\n",
    "# your code goes here\n",
    "for i in numbers :\n",
    "    if i >= 0 :\n",
    "        print(i)"
   ]
  },
  {
   "cell_type": "markdown",
   "id": "937c1c14",
   "metadata": {},
   "source": [
    "2. Напишите программу, которая выводит на экран только чётные числа из списка numbers."
   ]
  },
  {
   "cell_type": "markdown",
   "id": "a8972ba5",
   "metadata": {},
   "source": [
    "2) Juft sonlarni konsolga chiqaradigan dastur tuzing"
   ]
  },
  {
   "cell_type": "code",
   "execution_count": 15,
   "id": "bef9acd4",
   "metadata": {},
   "outputs": [
    {
     "name": "stdout",
     "output_type": "stream",
     "text": [
      "10\n",
      "0\n",
      "12\n"
     ]
    }
   ],
   "source": [
    "numbers = [5, -3, 10, -8, 0, 12, -1]\n",
    "\n",
    "# your code goes here\n",
    "for i in numbers :\n",
    "    if i >= 0 and  i % 2 == 0 :\n",
    "        print(i)"
   ]
  },
  {
   "cell_type": "code",
   "execution_count": 22,
   "id": "43ec56ed",
   "metadata": {},
   "outputs": [
    {
     "data": {
      "text/plain": [
       "32"
      ]
     },
     "execution_count": 22,
     "metadata": {},
     "output_type": "execute_result"
    }
   ],
   "source": [
    "soz = \"Lorem Ipsum is simply dummy text of the printing and typesetting industry. Lorem Ipsum has been the industry's standard dummy text ever since the 1500s, when an unknown printer took a galley of type and scrambled it to make a type specimen book. It has survived not only five centuries, but also the leap into electronic typesetting, remaining essentially unchanged. It was popularised in the 1960s with the release of Letraset sheets containing Lorem Ipsum passages, and more recently with desktop publishing software like Aldus PageMaker including versions of Lorem Ipsum.\"\n",
    "\n",
    "sana = 0\n",
    "\n",
    "for i in soz :\n",
    "    if i == 'i' :\n",
    "        sana += 1\n",
    "\n",
    "sana"
   ]
  },
  {
   "cell_type": "code",
   "execution_count": 33,
   "id": "4fc0b832",
   "metadata": {},
   "outputs": [
    {
     "data": {
      "text/plain": [
       "38"
      ]
     },
     "execution_count": 33,
     "metadata": {},
     "output_type": "execute_result"
    }
   ],
   "source": [
    "sanoq = 0\n",
    "\n",
    "for i in soz :\n",
    "    if i == \"i\" or i ==  \"I\" :\n",
    "        sanoq+= 1\n",
    "\n",
    "sanoq"
   ]
  },
  {
   "cell_type": "markdown",
   "id": "81c7861a",
   "metadata": {},
   "source": [
    "3) В математике и экономике существует понятие чисел Фибоначчи, которые образуют следующую бесконечную последовательность:\n",
    "\n",
    "1, 1, 2, 3, 5, 8, 13 ...\n",
    "\n",
    "(Где первые два числа — это 1 и 1, а каждое последующее число является суммой двух предыдущих.)\n",
    "\n",
    "Напишите программу, которая выводит на экран только однозначные и двузначные числа из этой последовательности."
   ]
  },
  {
   "cell_type": "code",
   "execution_count": null,
   "id": "168cdfa2",
   "metadata": {},
   "outputs": [],
   "source": [
    "# your code goes here\n"
   ]
  },
  {
   "cell_type": "markdown",
   "id": "3f4f715c",
   "metadata": {},
   "source": [
    "4. Создайте систему, которая запрашивает у пользователя пароль для входа в систему максимум 3 раза.\n",
    "\n",
    "Если пользователь не введёт правильный пароль, который хранится в переменной password, выведите сообщение: \"Система заблокирована\".\n",
    "\n",
    "В противном случае выведите сообщение: \"Добро пожаловать в систему\""
   ]
  },
  {
   "cell_type": "code",
   "execution_count": null,
   "id": "ef63c9b5",
   "metadata": {},
   "outputs": [],
   "source": [
    "password = \"topolmaysan\"\n",
    "\n",
    "# your code goes here\n"
   ]
  },
  {
   "cell_type": "markdown",
   "id": "d1fd69d1",
   "metadata": {},
   "source": [
    "**Binary search**"
   ]
  },
  {
   "cell_type": "code",
   "execution_count": 35,
   "id": "680a5a6c",
   "metadata": {},
   "outputs": [
    {
     "data": {
      "text/plain": [
       "3"
      ]
     },
     "execution_count": 35,
     "metadata": {},
     "output_type": "execute_result"
    }
   ],
   "source": [
    "my_list = [4, 5, 6]\n",
    "len(my_list)"
   ]
  },
  {
   "cell_type": "code",
   "execution_count": 7,
   "id": "63562c5a",
   "metadata": {},
   "outputs": [
    {
     "name": "stdout",
     "output_type": "stream",
     "text": [
      "1\n",
      "2\n",
      "3\n",
      "4\n",
      "5\n",
      "6\n",
      "Topdim\n"
     ]
    }
   ],
   "source": [
    "# Game of Binary search\n",
    "input(\"1-100 gacha bo'lgan sonlardan birini o'ylang.\")\n",
    "\n",
    "taxmin_list = range(101)\n",
    "\n",
    "for i in range(7) : \n",
    "    belgi = input(f\"Agar taxmin teng bo'lsa = kiriting, Sizning soningiz katta bo'lsa >, kichik bo'lsa < kiriting, Mening taxminim : {taxmin_list[len(taxmin_list) // 2]}\")\n",
    "    if belgi == \"=\" :\n",
    "        print(\"Topdim\")\n",
    "        break\n",
    "    elif belgi == \">\" :\n",
    "        taxmin_list = taxmin_list[len(taxmin_list) // 2 : ]\n",
    "    elif belgi ==\"<\" :\n",
    "        taxmin_list = taxmin_list[ : len(taxmin_list) // 2]\n",
    "    print(i + 1)\n"
   ]
  },
  {
   "cell_type": "code",
   "execution_count": null,
   "id": "3f2c6e04",
   "metadata": {},
   "outputs": [],
   "source": []
  }
 ],
 "metadata": {
  "kernelspec": {
   "display_name": "Python 3",
   "language": "python",
   "name": "python3"
  },
  "language_info": {
   "codemirror_mode": {
    "name": "ipython",
    "version": 3
   },
   "file_extension": ".py",
   "mimetype": "text/x-python",
   "name": "python",
   "nbconvert_exporter": "python",
   "pygments_lexer": "ipython3",
   "version": "3.13.4"
  }
 },
 "nbformat": 4,
 "nbformat_minor": 5
}
