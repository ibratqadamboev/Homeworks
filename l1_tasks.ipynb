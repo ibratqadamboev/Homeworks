{
 "cells": [
  {
   "cell_type": "markdown",
   "id": "11cc68ff",
   "metadata": {},
   "source": [
    "### This jupyter notebook contains practical tasks for the topic \"Conditional Loops\"\n",
    "\n",
    "**Author : Umidjon Sattorov. Machine Learning engineer**"
   ]
  },
  {
   "cell_type": "markdown",
   "id": "57a14cee",
   "metadata": {},
   "source": [
    "1. Напишите программу, которая выводит на экран только положительные числа из следующего списка."
   ]
  },
  {
   "cell_type": "code",
   "execution_count": null,
   "id": "ede07340",
   "metadata": {},
   "outputs": [],
   "source": [
    "numbers = [5, -3, 10, -8, 0, 12, -1]\n",
    "\n",
    "# your code goes here\n"
   ]
  },
  {
   "cell_type": "markdown",
   "id": "937c1c14",
   "metadata": {},
   "source": [
    "2. Напишите программу, которая выводит на экран только чётные числа из списка numbers."
   ]
  },
  {
   "cell_type": "code",
   "execution_count": null,
   "id": "bef9acd4",
   "metadata": {},
   "outputs": [],
   "source": [
    "numbers = [5, -3, 10, -8, 0, 12, -1]\n",
    "\n",
    "# your code goes here\n"
   ]
  },
  {
   "cell_type": "markdown",
   "id": "81c7861a",
   "metadata": {},
   "source": [
    "3) В математике и экономике существует понятие чисел Фибоначчи, которые образуют следующую бесконечную последовательность:\n",
    "\n",
    "1, 1, 2, 3, 5, 8, 13 ...\n",
    "\n",
    "(Где первые два числа — это 1 и 1, а каждое последующее число является суммой двух предыдущих.)\n",
    "\n",
    "Напишите программу, которая выводит на экран только однозначные и двузначные числа из этой последовательности."
   ]
  },
  {
   "cell_type": "code",
   "execution_count": null,
   "id": "168cdfa2",
   "metadata": {},
   "outputs": [],
   "source": [
    "# your code goes here\n"
   ]
  },
  {
   "cell_type": "markdown",
   "id": "3f4f715c",
   "metadata": {},
   "source": [
    "4. Создайте систему, которая запрашивает у пользователя пароль для входа в систему максимум 3 раза.\n",
    "\n",
    "Если пользователь не введёт правильный пароль, который хранится в переменной password, выведите сообщение: \"Система заблокирована\".\n",
    "\n",
    "В противном случае выведите сообщение: \"Добро пожаловать в систему\""
   ]
  },
  {
   "cell_type": "code",
   "execution_count": null,
   "id": "ef63c9b5",
   "metadata": {},
   "outputs": [],
   "source": [
    "password = \"topolmaysan\"\n",
    "\n",
    "# your code goes here\n"
   ]
  }
 ],
 "metadata": {
  "language_info": {
   "name": "python"
  }
 },
 "nbformat": 4,
 "nbformat_minor": 5
}
